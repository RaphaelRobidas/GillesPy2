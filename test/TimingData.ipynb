{
 "cells": [
  {
   "cell_type": "markdown",
   "metadata": {},
   "source": [
    "# Timing Data"
   ]
  },
  {
   "cell_type": "code",
   "execution_count": 1,
   "metadata": {},
   "outputs": [],
   "source": [
    "from time_solvers import timed_trials, plot_solver_run_times\n",
    "import numpy as np\n",
    "import matplotlib.pyplot as plt\n",
    "import sys\n",
    "sys.path.append('../')\n",
    "import gillespy2\n",
    "import os\n",
    "if 'STOCHKIT_HOME' not in os.environ:\n",
    "    os.environ['STOCHKIT_HOME'] = \"/home/smatthe2/StochKit\""
   ]
  },
  {
   "cell_type": "code",
   "execution_count": 2,
   "metadata": {},
   "outputs": [],
   "source": [
    "#Helper method for gathering imported items of a specific type:\n",
    "def imported_classes(match_type):\n",
    "    items = []\n",
    "    key, value = None, None\n",
    "    for key, value in globals().items():\n",
    "        if isinstance(value, type) and issubclass(value, match_type) and value not in items:\n",
    "            items.append(value)\n",
    "    return items"
   ]
  },
  {
   "cell_type": "code",
   "execution_count": 3,
   "metadata": {},
   "outputs": [
    {
     "name": "stdout",
     "output_type": "stream",
     "text": [
      "\n",
      "-----\n",
      "Imported models:\n",
      "1:\tVilar2002_Oscillator\n"
     ]
    }
   ],
   "source": [
    "# from example_models import *\n",
    "# #Trichloroethylene, LacOperon, Schlogl, MichaelisMenten, ToggleSwitch, Example, Tyson2StateOscillator\n",
    "# models = [MichaelisMenten(), Example(), Trichloroethylene()]#model() for model in imported_classes(gillespy2.Model)]\n",
    "model_map = {}\n",
    "try:\n",
    "    from urllib2 import urlopen\n",
    "except ImportError:\n",
    "    from urllib.request import urlopen\n",
    "import tempfile\n",
    "sbml_file = 'https://www.ebi.ac.uk/biomodels/model/download/BIOMD0000000035.2?filename=BIOMD0000000035_url.xml'\n",
    "response = urlopen(sbml_file)\n",
    "tmp = tempfile.NamedTemporaryFile(delete = False)\n",
    "tmp.write(response.read())\n",
    "tmp.close()\n",
    "######\n",
    "\n",
    "sbml_model, errors = gillespy2.import_SBML(tmp.name)\n",
    "sbml_model.units = 'population'\n",
    "sbml_model.timespan(np.linspace(0, 5, 101))\n",
    "model_map[sbml_model] = tmp.name\n",
    "print(os.linesep.join([error for error, code in errors]))\n",
    "print(\"-----\")\n",
    "\n",
    "######\n",
    "models = [sbml_model]\n",
    "print('Imported models:')\n",
    "for i, model in enumerate(models):\n",
    "    print('{}:\\t{}'.format(i+1, model.name))"
   ]
  },
  {
   "cell_type": "code",
   "execution_count": 4,
   "metadata": {},
   "outputs": [
    {
     "name": "stdout",
     "output_type": "stream",
     "text": [
      "Imported solvers:\n",
      "1:\tSSACSolver\n",
      "2:\tStochKitSolver\n",
      "3:\tRRSolver\n"
     ]
    }
   ],
   "source": [
    "# from gillespy2.solvers.numpy import *\n",
    "#BasicODESolver, BasicRootSolver, BasicTauLeapingSolver, NumPySSASolver, TauLeapingSolver\n",
    "\n",
    "#CythonSSASolver\n",
    "from gillespy2 import SSACSolver\n",
    "#SSACSolver\n",
    "from gillespy2.solvers.stochkit import *\n",
    "#StochKitODESolver, StochKitSolver\n",
    "solvers = imported_classes(gillespy2.GillesPySolver)\n",
    "# solvers.remove(ODESolver)\n",
    "solvers.remove(StochKitODESolver)\n",
    "# solvers.remove(StochKitSolver)\n",
    "# solvers.remove(SSACSolver)\n",
    "\n",
    "#Here we pretend that roadrunner is a gillespy2 solver that can be precompiled for fair comparison\n",
    "class RRSolver(SSACSolver):\n",
    "    __name__ = 'RoadRunner'\n",
    "    name = 'RoadRunner'\n",
    "    model = None\n",
    "    solver = None\n",
    "    delete_directory = False\n",
    "    results = []\n",
    "    def __init__(self, sbml_model):\n",
    "        try:\n",
    "            import roadrunner\n",
    "        except:\n",
    "            raise Exception('Could not import Roadrunner')\n",
    "        self.sbml_file = model_map[sbml_model]\n",
    "        self.solver = roadrunner.RoadRunner(self.sbml_file)\n",
    "        self.solver.setIntegrator('gillespie')\n",
    "    @classmethod\n",
    "    def run(self, model, t=20, number_of_trajectories=1, increment=0.05, resume=None, **kwargs):\n",
    "        if self is None or self.model is None:\n",
    "            self = RRSolver(model)\n",
    "        for i in range(number_of_trajectories):\n",
    "            self.results.append(self.solver.simulate())\n",
    "            self.solver.reset()\n",
    "        return self.results, 0\n",
    "    \n",
    "\n",
    "solvers.append(RRSolver) # Include Roadrunner in comparison\n",
    "print('Imported solvers:')\n",
    "for i, solver in enumerate(solvers):\n",
    "    print('{}:\\t{}'.format(i+1, solver.__name__))"
   ]
  },
  {
   "cell_type": "code",
   "execution_count": null,
   "metadata": {
    "scrolled": false
   },
   "outputs": [
    {
     "name": "stdout",
     "output_type": "stream",
     "text": [
      "[1, 2, 4, 8, 16, 32, 64, 128, 256, 512, 1024]\n"
     ]
    },
    {
     "name": "stderr",
     "output_type": "stream",
     "text": [
      "Model: Vilar2002_Oscillator, Solver: SSACSolver, Trajectories: 1: 100%|██████████| 30/30 [00:00<00:00, 52.49it/s]\n",
      "Model: Vilar2002_Oscillator, Solver: SSACSolver, Trajectories: 2: 100%|██████████| 30/30 [00:00<00:00, 32.72it/s]\n",
      "Model: Vilar2002_Oscillator, Solver: SSACSolver, Trajectories: 4: 100%|██████████| 30/30 [00:01<00:00, 19.42it/s]\n",
      "Model: Vilar2002_Oscillator, Solver: SSACSolver, Trajectories: 8: 100%|██████████| 30/30 [00:02<00:00, 10.42it/s]\n",
      "Model: Vilar2002_Oscillator, Solver: SSACSolver, Trajectories: 16: 100%|██████████| 30/30 [00:05<00:00,  5.41it/s]\n",
      "Model: Vilar2002_Oscillator, Solver: SSACSolver, Trajectories: 32: 100%|██████████| 30/30 [00:10<00:00,  2.76it/s]\n",
      "Model: Vilar2002_Oscillator, Solver: SSACSolver, Trajectories: 64: 100%|██████████| 30/30 [00:20<00:00,  1.46it/s]\n",
      "Model: Vilar2002_Oscillator, Solver: SSACSolver, Trajectories: 128: 100%|██████████| 30/30 [00:41<00:00,  1.37s/it]\n",
      "Model: Vilar2002_Oscillator, Solver: SSACSolver, Trajectories: 256: 100%|██████████| 30/30 [01:22<00:00,  2.74s/it]\n",
      "Model: Vilar2002_Oscillator, Solver: SSACSolver, Trajectories: 512: 100%|██████████| 30/30 [02:46<00:00,  5.56s/it]\n",
      "Model: Vilar2002_Oscillator, Solver: SSACSolver, Trajectories: 1024: 100%|██████████| 30/30 [05:46<00:00, 11.54s/it]\n",
      "Model: Vilar2002_Oscillator, Solver: StochKitSolver, Trajectories: 1: 100%|██████████| 30/30 [04:59<00:00, 10.00s/it]\n",
      "Model: Vilar2002_Oscillator, Solver: StochKitSolver, Trajectories: 2: 100%|██████████| 30/30 [04:54<00:00,  9.83s/it]\n",
      "Model: Vilar2002_Oscillator, Solver: StochKitSolver, Trajectories: 4: 100%|██████████| 30/30 [04:56<00:00,  9.88s/it]\n",
      "Model: Vilar2002_Oscillator, Solver: StochKitSolver, Trajectories: 8: 100%|██████████| 30/30 [05:02<00:00, 10.09s/it]\n",
      "Model: Vilar2002_Oscillator, Solver: StochKitSolver, Trajectories: 16: 100%|██████████| 30/30 [05:01<00:00, 10.03s/it]\n",
      "Model: Vilar2002_Oscillator, Solver: StochKitSolver, Trajectories: 32: 100%|██████████| 30/30 [05:04<00:00, 10.14s/it]\n",
      "Model: Vilar2002_Oscillator, Solver: StochKitSolver, Trajectories: 64: 100%|██████████| 30/30 [05:12<00:00, 10.40s/it]\n",
      "Model: Vilar2002_Oscillator, Solver: StochKitSolver, Trajectories: 128: 100%|██████████| 30/30 [05:48<00:00, 11.62s/it]\n",
      "Model: Vilar2002_Oscillator, Solver: StochKitSolver, Trajectories: 256: 100%|██████████| 30/30 [06:11<00:00, 12.37s/it]\n",
      "Model: Vilar2002_Oscillator, Solver: StochKitSolver, Trajectories: 512: 100%|██████████| 30/30 [07:13<00:00, 14.46s/it]\n",
      "Model: Vilar2002_Oscillator, Solver: StochKitSolver, Trajectories: 1024: 100%|██████████| 30/30 [09:06<00:00, 18.23s/it]\n",
      "Model: Vilar2002_Oscillator, Solver: RoadRunner, Trajectories: 1: 100%|██████████| 30/30 [00:02<00:00, 12.85it/s]\n",
      "Model: Vilar2002_Oscillator, Solver: RoadRunner, Trajectories: 2: 100%|██████████| 30/30 [00:04<00:00,  7.16it/s]\n",
      "Model: Vilar2002_Oscillator, Solver: RoadRunner, Trajectories: 4: 100%|██████████| 30/30 [00:07<00:00,  3.88it/s]\n",
      "Model: Vilar2002_Oscillator, Solver: RoadRunner, Trajectories: 8: 100%|██████████| 30/30 [00:15<00:00,  1.99it/s]\n",
      "Model: Vilar2002_Oscillator, Solver: RoadRunner, Trajectories: 16: 100%|██████████| 30/30 [01:55<00:00,  3.84s/it]\n",
      "Model: Vilar2002_Oscillator, Solver: RoadRunner, Trajectories: 32:  20%|██        | 6/30 [00:14<00:59,  2.48s/it]"
     ]
    }
   ],
   "source": [
    "trajectories = [2**i for i in range(11)]\n",
    "print(trajectories)\n",
    "timing_data = timed_trials(models, solvers, trajectories, number_trials=30, output_file='timing_data.pkl')"
   ]
  },
  {
   "cell_type": "code",
   "execution_count": null,
   "metadata": {},
   "outputs": [],
   "source": [
    "#Ideally, we can run the timed tests once and save the results for later in a .pkl file\n",
    "import pickle\n",
    "with open('timing_data.pkl', 'rb') as f:\n",
    "    timing_data = pickle.load(f)\n",
    "    \n"
   ]
  },
  {
   "cell_type": "code",
   "execution_count": null,
   "metadata": {},
   "outputs": [],
   "source": [
    "%matplotlib inline\n",
    "styles = {\n",
    "    'StochKitSolver' : 'r*-',\n",
    "    'SSACSolver' : 'g*-',\n",
    "    'CythonSSASolver' : 'b*-',\n",
    "    'NumPySSASolver' : 'k*-',\n",
    "    'BasicTauHybridSolver' : 'y*-',\n",
    "    'BasicTauLeapingSolver' : 'm*-'\n",
    "}\n",
    "plot_solver_run_times(timing_data, line_styles=styles)"
   ]
  },
  {
   "cell_type": "code",
   "execution_count": null,
   "metadata": {},
   "outputs": [],
   "source": [
    "plot_solver_run_times(timing_data, line_styles=styles, ylabel='Log(seconds)', transformation=np.log)"
   ]
  },
  {
   "cell_type": "code",
   "execution_count": null,
   "metadata": {},
   "outputs": [],
   "source": [
    "plot_solver_run_times(timing_data, line_styles=styles, ylabel='Relative Speed to Stochkit', baseline_solver_name=StochKitSolver.name)"
   ]
  },
  {
   "cell_type": "code",
   "execution_count": null,
   "metadata": {},
   "outputs": [],
   "source": [
    "import matplotlib.pyplot as plt\n",
    "ylabel='Average run time (s)'\n",
    "reduce=np.mean\n",
    "line_styles=styles"
   ]
  },
  {
   "cell_type": "code",
   "execution_count": null,
   "metadata": {
    "scrolled": false
   },
   "outputs": [],
   "source": [
    "model_names = timing_data.keys()\n",
    "for model in model_names:\n",
    "    plt.figure(figsize=(10,8))\n",
    "    plt.title('{} Timing Results'.format(model))\n",
    "    plt.xlabel('Trajectories', fontsize=16)\n",
    "    plt.ylabel(ylabel, fontsize=16)\n",
    "    baseline = None\n",
    "    #if baseline_solver_name is not None:\n",
    "    #    baseline = reduce(timing_data[model][baseline_solver_name][:, 1:], axis=1)\n",
    "    #    if transformation is not None:\n",
    "    #        baseline = transformation(times)\n",
    "    solver_names = timing_data[model].keys()\n",
    "    for solver in solver_names:\n",
    "        trajectories = timing_data[model][solver][:,0]\n",
    "        times = reduce(timing_data[model][solver][:, 1:], axis=1)\n",
    "        #if transformation is not None:\n",
    "        #    times = transformation(times)\n",
    "        #if baseline is not None:\n",
    "        #    times = np.divide(baseline, times)\n",
    "        if solver in line_styles:\n",
    "            plt.plot(trajectories, times, line_styles[solver], label=solver)\n",
    "        else:\n",
    "            plt.plot(trajectories, times, label=solver)\n",
    "    plt.legend(loc='best', fontsize=16)\n"
   ]
  },
  {
   "cell_type": "code",
   "execution_count": null,
   "metadata": {},
   "outputs": [],
   "source": [
    "ylabel='Average run time (s)'\n",
    "reduce=np.mean\n",
    "line_styles={\n",
    "    'StochKitSolver' : 'r*-',\n",
    "    'SSACSolver' : 'g*-',\n",
    "    'CythonSSASolver' : 'b*-',\n",
    "    'NumPySSASolver' : 'k*-',\n",
    "    'BasicTauHybridSolver' : 'y*-',\n",
    "    'BasicTauLeapingSolver' : 'm*-'\n",
    "}\n",
    "model_names = timing_data.keys()\n",
    "for model in model_names:\n",
    "    plt.figure(figsize=(10,8))\n",
    "    plt.title('{} Timing Results'.format(model))\n",
    "    plt.xlabel('Trajectories', fontsize=16)\n",
    "    plt.ylabel(ylabel, fontsize=16)\n",
    "    baseline = None\n",
    "    #if baseline_solver_name is not None:\n",
    "    #    baseline = reduce(timing_data[model][baseline_solver_name][:, 1:], axis=1)\n",
    "    #    if transformation is not None:\n",
    "    #        baseline = transformation(times)\n",
    "    #solver_names = timing_data[model].keys()\n",
    "    solver_names = ['StochKitSolver', 'NumPySSASolver', 'SSACSolver']\n",
    "    for solver in solver_names:\n",
    "        trajectories = timing_data[model][solver][:,0]\n",
    "        times = reduce(timing_data[model][solver][:, 1:], axis=1)\n",
    "        #if transformation is not None:\n",
    "        #    times = transformation(times)\n",
    "        #if baseline is not None:\n",
    "        #    times = np.divide(baseline, times)\n",
    "        if solver in line_styles:\n",
    "            plt.plot(trajectories, times, line_styles[solver], label=solver)\n",
    "        else:\n",
    "            plt.plot(trajectories, times, label=solver)\n",
    "    plt.legend(loc='best', fontsize=16)\n"
   ]
  },
  {
   "cell_type": "code",
   "execution_count": null,
   "metadata": {},
   "outputs": [],
   "source": [
    "solver1 = RRSolver(sbml_model)"
   ]
  },
  {
   "cell_type": "code",
   "execution_count": null,
   "metadata": {},
   "outputs": [],
   "source": [
    "import roadrunner\n",
    "rr = roadrunner.RoadRunner(tmp.name)"
   ]
  },
  {
   "cell_type": "code",
   "execution_count": null,
   "metadata": {},
   "outputs": [],
   "source": [
    "rr.reset()\n",
    "rr.setIntegrator('gillespie')\n",
    "rr.simulate(0, 5)"
   ]
  },
  {
   "cell_type": "code",
   "execution_count": null,
   "metadata": {},
   "outputs": [],
   "source": [
    "rr.plot()"
   ]
  },
  {
   "cell_type": "code",
   "execution_count": null,
   "metadata": {},
   "outputs": [],
   "source": [
    "res.plot()"
   ]
  },
  {
   "cell_type": "code",
   "execution_count": 2,
   "metadata": {},
   "outputs": [
    {
     "ename": "NameError",
     "evalue": "name 'tmp' is not defined",
     "output_type": "error",
     "traceback": [
      "\u001b[0;31m---------------------------------------------------------------------------\u001b[0m",
      "\u001b[0;31mNameError\u001b[0m                                 Traceback (most recent call last)",
      "\u001b[0;32m<ipython-input-2-7427e45bfd2e>\u001b[0m in \u001b[0;36m<module>\u001b[0;34m\u001b[0m\n\u001b[1;32m      1\u001b[0m \u001b[0;32mimport\u001b[0m \u001b[0mos\u001b[0m\u001b[0;34m\u001b[0m\u001b[0;34m\u001b[0m\u001b[0m\n\u001b[0;32m----> 2\u001b[0;31m \u001b[0mos\u001b[0m\u001b[0;34m.\u001b[0m\u001b[0mremove\u001b[0m\u001b[0;34m(\u001b[0m\u001b[0mtmp\u001b[0m\u001b[0;34m.\u001b[0m\u001b[0mname\u001b[0m\u001b[0;34m)\u001b[0m\u001b[0;34m\u001b[0m\u001b[0;34m\u001b[0m\u001b[0m\n\u001b[0m",
      "\u001b[0;31mNameError\u001b[0m: name 'tmp' is not defined"
     ]
    }
   ],
   "source": [
    "os.remove(tmp.name)"
   ]
  },
  {
   "cell_type": "code",
   "execution_count": null,
   "metadata": {},
   "outputs": [],
   "source": []
  }
 ],
 "metadata": {
  "@webio": {
   "lastCommId": null,
   "lastKernelId": null
  },
  "kernelspec": {
   "display_name": "Python 3",
   "language": "python",
   "name": "python3"
  },
  "language_info": {
   "codemirror_mode": {
    "name": "ipython",
    "version": 3
   },
   "file_extension": ".py",
   "mimetype": "text/x-python",
   "name": "python",
   "nbconvert_exporter": "python",
   "pygments_lexer": "ipython3",
   "version": "3.6.9"
  }
 },
 "nbformat": 4,
 "nbformat_minor": 2
}
