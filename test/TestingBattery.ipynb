{
 "cells": [
  {
   "cell_type": "markdown",
   "metadata": {},
   "source": [
    "# Current Testing Battery"
   ]
  },
  {
   "cell_type": "code",
   "execution_count": 1,
   "metadata": {},
   "outputs": [],
   "source": [
    "import sys\n",
    "import statistics\n",
    "import numpy\n",
    "from itertools import product\n",
    "from timeit import default_timer as timer\n",
    "try:\n",
    "    from tqdm import tqdm\n",
    "except ImportError:\n",
    "    raise ImportError('tqdm is required. Please install it.')\n",
    "sys.path.append(\"..\")\n",
    "import gillespy2\n",
    "from scipy import stats\n",
    "import matplotlib.pyplot as plt"
   ]
  },
  {
   "cell_type": "code",
   "execution_count": 2,
   "metadata": {},
   "outputs": [],
   "source": [
    "# from gillespy2.solvers.numpy import NumPySSASolver\n",
    "#BasicODESolver, BasicTauLeapingSolver, NumPySSASolver\n",
    "# from gillespy2.solvers.cython import *\n",
    "#CythonSSASolver\n",
    "from gillespy2.solvers.cpp import SSACSolver\n",
    "#SSACSolver\n",
    "# from gillespy2.solvers.auto import *\n",
    "#SSASolver\n",
    "from gillespy2.solvers.stochkit import StochKitSolver\n",
    "#StochKitODESolver, StochKitSolver"
   ]
  },
  {
   "cell_type": "code",
   "execution_count": 3,
   "metadata": {},
   "outputs": [
    {
     "name": "stdout",
     "output_type": "stream",
     "text": [
      "Imported solvers:\n",
      "1:\tSSACSolver\n",
      "2:\tStochKitSolver\n"
     ]
    }
   ],
   "source": [
    "solvers = []\n",
    "key, value = None, None\n",
    "for key, value in globals().items():\n",
    "    if isinstance(value, type) and issubclass(value, gillespy2.GillesPySolver) and value not in solvers:\n",
    "        solvers.append(value)\n",
    "print('Imported solvers:')\n",
    "for i, solver in enumerate(solvers):\n",
    "    print('{}:\\t{}'.format(i+1, solver.name))"
   ]
  },
  {
   "cell_type": "code",
   "execution_count": 4,
   "metadata": {},
   "outputs": [],
   "source": [
    "import os\n",
    "if 'STOCHKIT_HOME' not in os.environ:\n",
    "    os.environ['STOCHKIT_HOME'] = \"/home/smatthe2/StochKit\"\n",
    "# print(\"STOCHKIT_HOME =\",os.environ['STOCHKIT_HOME'])"
   ]
  },
  {
   "cell_type": "code",
   "execution_count": 9,
   "metadata": {},
   "outputs": [],
   "source": [
    "def __get_results(solver, model, number_of_trajectories):\n",
    "    results = []\n",
    "    for i in tqdm(range(number_of_trajectories), desc='Model: {0}, Solver: {1}'.format(model.name, solver.name)):\n",
    "        result = model.run(solver=solver, show_labels=True)\n",
    "        if isinstance(result, dict):\n",
    "            results.append(result)\n",
    "        else:\n",
    "            results.append(result[0])\n",
    "    return results"
   ]
  },
  {
   "cell_type": "code",
   "execution_count": 6,
   "metadata": {},
   "outputs": [],
   "source": [
    "def create_distribution(solver, model, number_of_trajectories):\n",
    "    results = __get_results(solver, model, number_of_trajectories)\n",
    "    distribution = {}\n",
    "    for trajectory in results:\n",
    "        for species in trajectory.keys():\n",
    "            if species == 'time': continue;\n",
    "            distribution[species] = []\n",
    "            for timestep in range(len(trajectory[species])):\n",
    "                distribution[species].append([])\n",
    "    trajectory_number = 0\n",
    "    for trajectory in results:\n",
    "        for species in trajectory.keys():\n",
    "            if species == 'time': continue;\n",
    "            for timestep in range(len(trajectory[species])):\n",
    "                distribution[species][timestep].append(trajectory[species][timestep])\n",
    "            \n",
    "    return distribution    "
   ]
  },
  {
   "cell_type": "code",
   "execution_count": 7,
   "metadata": {},
   "outputs": [],
   "source": [
    "def get_stats(solver, standard_results, model, number_of_trajectories):\n",
    "    interior_stats = {}\n",
    "    test_results = create_distribution(solver, model, number_of_trajectories)          \n",
    "    for species in test_results:\n",
    "        interior_stats[species] = []\n",
    "    for species in test_results:\n",
    "        for timestep, value in enumerate(test_results[species]):\n",
    "            interior_stats[species].append(stats.ks_2samp(value, standard_results[species][timestep]))\n",
    "    return interior_stats"
   ]
  },
  {
   "cell_type": "code",
   "execution_count": 8,
   "metadata": {},
   "outputs": [
    {
     "name": "stderr",
     "output_type": "stream",
     "text": [
      "Model: Example, Solver: StochKitSolver: 100%|██████████| 50/50 [00:01<00:00, 31.55it/s]\n"
     ]
    },
    {
     "ename": "AttributeError",
     "evalue": "'numpy.ndarray' object has no attribute 'keys'",
     "output_type": "error",
     "traceback": [
      "\u001b[0;31m---------------------------------------------------------------------------\u001b[0m",
      "\u001b[0;31mAttributeError\u001b[0m                            Traceback (most recent call last)",
      "\u001b[0;32m<ipython-input-8-1ffe9d891b7e>\u001b[0m in \u001b[0;36m<module>\u001b[0;34m\u001b[0m\n\u001b[1;32m     14\u001b[0m \u001b[0;34m\u001b[0m\u001b[0m\n\u001b[1;32m     15\u001b[0m \u001b[0;32mfor\u001b[0m \u001b[0mmodel\u001b[0m \u001b[0;32min\u001b[0m \u001b[0mmodel_list\u001b[0m\u001b[0;34m:\u001b[0m\u001b[0;34m\u001b[0m\u001b[0;34m\u001b[0m\u001b[0m\n\u001b[0;32m---> 16\u001b[0;31m     \u001b[0mstandard_results\u001b[0m\u001b[0;34m[\u001b[0m\u001b[0mmodel\u001b[0m\u001b[0;34m.\u001b[0m\u001b[0mname\u001b[0m\u001b[0;34m]\u001b[0m \u001b[0;34m=\u001b[0m \u001b[0mcreate_distribution\u001b[0m\u001b[0;34m(\u001b[0m\u001b[0mStochKitSolver\u001b[0m\u001b[0;34m,\u001b[0m \u001b[0mmodel\u001b[0m\u001b[0;34m,\u001b[0m \u001b[0mnumber_of_trajectories\u001b[0m\u001b[0;34m)\u001b[0m\u001b[0;34m\u001b[0m\u001b[0;34m\u001b[0m\u001b[0m\n\u001b[0m\u001b[1;32m     17\u001b[0m     \u001b[0;32mfor\u001b[0m \u001b[0msolver\u001b[0m \u001b[0;32min\u001b[0m \u001b[0msolver_list\u001b[0m\u001b[0;34m:\u001b[0m\u001b[0;34m\u001b[0m\u001b[0;34m\u001b[0m\u001b[0m\n\u001b[1;32m     18\u001b[0m         \u001b[0;32mif\u001b[0m \u001b[0msolver\u001b[0m \u001b[0;32min\u001b[0m \u001b[0;34m[\u001b[0m\u001b[0mBasicODESolver\u001b[0m\u001b[0;34m,\u001b[0m \u001b[0mStochKitSolver\u001b[0m\u001b[0;34m,\u001b[0m \u001b[0mStochKitODESolver\u001b[0m\u001b[0;34m]\u001b[0m\u001b[0;34m:\u001b[0m\u001b[0;34m\u001b[0m\u001b[0;34m\u001b[0m\u001b[0m\n",
      "\u001b[0;32m<ipython-input-6-4f0299b86358>\u001b[0m in \u001b[0;36mcreate_distribution\u001b[0;34m(solver, model, number_of_trajectories)\u001b[0m\n\u001b[1;32m      3\u001b[0m     \u001b[0mdistribution\u001b[0m \u001b[0;34m=\u001b[0m \u001b[0;34m{\u001b[0m\u001b[0;34m}\u001b[0m\u001b[0;34m\u001b[0m\u001b[0;34m\u001b[0m\u001b[0m\n\u001b[1;32m      4\u001b[0m     \u001b[0;32mfor\u001b[0m \u001b[0mtrajectory\u001b[0m \u001b[0;32min\u001b[0m \u001b[0mresults\u001b[0m\u001b[0;34m:\u001b[0m\u001b[0;34m\u001b[0m\u001b[0;34m\u001b[0m\u001b[0m\n\u001b[0;32m----> 5\u001b[0;31m         \u001b[0;32mfor\u001b[0m \u001b[0mspecies\u001b[0m \u001b[0;32min\u001b[0m \u001b[0mtrajectory\u001b[0m\u001b[0;34m.\u001b[0m\u001b[0mkeys\u001b[0m\u001b[0;34m(\u001b[0m\u001b[0;34m)\u001b[0m\u001b[0;34m:\u001b[0m\u001b[0;34m\u001b[0m\u001b[0;34m\u001b[0m\u001b[0m\n\u001b[0m\u001b[1;32m      6\u001b[0m             \u001b[0;32mif\u001b[0m \u001b[0mspecies\u001b[0m \u001b[0;34m==\u001b[0m \u001b[0;34m'time'\u001b[0m\u001b[0;34m:\u001b[0m \u001b[0;32mcontinue\u001b[0m\u001b[0;34m;\u001b[0m\u001b[0;34m\u001b[0m\u001b[0;34m\u001b[0m\u001b[0m\n\u001b[1;32m      7\u001b[0m             \u001b[0mdistribution\u001b[0m\u001b[0;34m[\u001b[0m\u001b[0mspecies\u001b[0m\u001b[0;34m]\u001b[0m \u001b[0;34m=\u001b[0m \u001b[0;34m[\u001b[0m\u001b[0;34m]\u001b[0m\u001b[0;34m\u001b[0m\u001b[0;34m\u001b[0m\u001b[0m\n",
      "\u001b[0;31mAttributeError\u001b[0m: 'numpy.ndarray' object has no attribute 'keys'"
     ]
    }
   ],
   "source": [
    "from example_models import Example, MichaelisMenten\n",
    "standard_results = {}\n",
    "ks_stats = {}\n",
    "\n",
    "number_of_trajectories = 50\n",
    "\n",
    "solver_list = solvers\n",
    "\n",
    "model_list = [Example(), MichaelisMenten()]\n",
    "\n",
    "for model in model_list:\n",
    "    standard_results[model.name] = []\n",
    "    ks_stats[model.name] = {}\n",
    "    \n",
    "for model in model_list:\n",
    "    standard_results[model.name] = create_distribution(StochKitSolver, model, number_of_trajectories)\n",
    "    for solver in solver_list:\n",
    "        if solver in [BasicODESolver, StochKitSolver, StochKitODESolver]:\n",
    "            continue\n",
    "        ks_stats[model.name][solver] = get_stats(solver, standard_results[model.name], model, number_of_trajectories)"
   ]
  },
  {
   "cell_type": "code",
   "execution_count": null,
   "metadata": {
    "scrolled": false
   },
   "outputs": [],
   "source": [
    "for i in range(len(model_list)):\n",
    "    model_name = model_list[i].name\n",
    "\n",
    "    plt.figure(figsize=(18,10))\n",
    "    for solver in solver_list:\n",
    "        if solver in ks_stats[model_name]:\n",
    "            plt.title(\"Error Comparison, model: \" + model_name)\n",
    "            plt.xlabel(\"Timestep\")\n",
    "            #plt.ylabel(\"P-Value\")\n",
    "            plt.ylabel(\"KS distance\")\n",
    "            for species in ks_stats[model_name][solver]:\n",
    "                if species is not 'time':            \n",
    "\n",
    "                    result = ks_stats[model_name][solver][species][:]\n",
    "                    timesteps = []\n",
    "                    p_values = []\n",
    "                    for timestep, value in enumerate(result):\n",
    "                        timesteps.append(timestep)\n",
    "                        ks, pv = value\n",
    "                        p_values.append(ks)\n",
    "                    plt.plot(timesteps, p_values, label='{0}: {1}'.format(solver.name, species))\n",
    "    plt.legend(loc='best')\n",
    "            \n",
    "#             plt.plot(range(len(ks_stats[model_list[0].name][solver][species])), ks_stats[model_list[0].name][solver][species][:], label=solver.name)\n",
    "# plt.legend(loc='best')\n",
    "# for solver in solver_list:\n",
    "#     print('Using Solver: ', solver.name)\n",
    "#     for species in ks_stats[model_list[0].name][solver]:\n",
    "#         if species is not 'time':\n",
    "#             print('Species: ', species)\n",
    "#             for timestep, timestep_result in enumerate(ks_stats[model_list[0].name][solver][species]):\n",
    "#                 print('Timestep ', timestep, ': P-Value: ', timestep_result[1])\n",
    "#                 plt.plot(timestep, timestep_result[1], label=species)\n",
    "    "
   ]
  },
  {
   "cell_type": "code",
   "execution_count": 10,
   "metadata": {},
   "outputs": [
    {
     "data": {
      "text/plain": [
       "[array([[  0., 301., 120.,   0.,   0.],\n",
       "        [  1., 267.,  87.,  33.,   1.],\n",
       "        [  2., 240.,  63.,  57.,   4.],\n",
       "        [  3., 236.,  65.,  55.,  10.],\n",
       "        [  4., 237.,  73.,  47.,  17.],\n",
       "        [  5., 241.,  79.,  41.,  19.],\n",
       "        [  6., 234.,  77.,  43.,  24.],\n",
       "        [  7., 236.,  82.,  38.,  27.],\n",
       "        [  8., 230.,  84.,  36.,  35.],\n",
       "        [  9., 218.,  76.,  44.,  39.],\n",
       "        [ 10., 212.,  72.,  48.,  41.],\n",
       "        [ 11., 211.,  78.,  42.,  48.],\n",
       "        [ 12., 212.,  85.,  35.,  54.],\n",
       "        [ 13., 208.,  81.,  39.,  54.],\n",
       "        [ 14., 204.,  79.,  41.,  56.],\n",
       "        [ 15., 200.,  77.,  43.,  58.],\n",
       "        [ 16., 195.,  74.,  46.,  60.],\n",
       "        [ 17., 190.,  71.,  49.,  62.],\n",
       "        [ 18., 184.,  71.,  49.,  68.],\n",
       "        [ 19., 184.,  75.,  45.,  72.],\n",
       "        [ 20., 184.,  78.,  42.,  75.],\n",
       "        [ 21., 179.,  79.,  41.,  81.],\n",
       "        [ 22., 177.,  85.,  35.,  89.],\n",
       "        [ 23., 175.,  84.,  36.,  90.],\n",
       "        [ 24., 173.,  83.,  37.,  91.],\n",
       "        [ 25., 165.,  80.,  40.,  96.],\n",
       "        [ 26., 159.,  79.,  41., 101.],\n",
       "        [ 27., 165.,  86.,  34., 102.],\n",
       "        [ 28., 160.,  85.,  35., 106.],\n",
       "        [ 29., 157.,  83.,  37., 107.],\n",
       "        [ 30., 150.,  84.,  36., 115.],\n",
       "        [ 31., 141.,  79.,  41., 119.],\n",
       "        [ 32., 143.,  82.,  38., 120.],\n",
       "        [ 33., 149.,  89.,  31., 121.],\n",
       "        [ 34., 143.,  89.,  31., 127.],\n",
       "        [ 35., 135.,  86.,  34., 132.],\n",
       "        [ 36., 142.,  96.,  24., 135.],\n",
       "        [ 37., 136.,  93.,  27., 138.],\n",
       "        [ 38., 139., 100.,  20., 142.],\n",
       "        [ 39., 128.,  96.,  24., 149.],\n",
       "        [ 40., 124.,  94.,  26., 151.],\n",
       "        [ 41., 118.,  92.,  28., 155.],\n",
       "        [ 42., 116.,  93.,  27., 158.],\n",
       "        [ 43., 111.,  90.,  30., 160.],\n",
       "        [ 44., 104.,  85.,  35., 162.],\n",
       "        [ 45., 106.,  87.,  33., 162.],\n",
       "        [ 46., 110.,  93.,  27., 164.],\n",
       "        [ 47., 108.,  95.,  25., 168.],\n",
       "        [ 48., 106.,  95.,  25., 170.],\n",
       "        [ 49., 102.,  94.,  26., 173.],\n",
       "        [ 50.,  96.,  90.,  30., 175.],\n",
       "        [ 51.,  99.,  97.,  23., 179.],\n",
       "        [ 52.,  93.,  94.,  26., 182.],\n",
       "        [ 53.,  94.,  97.,  23., 184.],\n",
       "        [ 54.,  89.,  96.,  24., 188.],\n",
       "        [ 55.,  87.,  98.,  22., 192.],\n",
       "        [ 56.,  91., 104.,  16., 194.],\n",
       "        [ 57.,  86.,  99.,  21., 194.],\n",
       "        [ 58.,  86., 102.,  18., 197.],\n",
       "        [ 59.,  82.,  99.,  21., 198.],\n",
       "        [ 60.,  69.,  88.,  32., 200.],\n",
       "        [ 61.,  69.,  90.,  30., 202.],\n",
       "        [ 62.,  69.,  96.,  24., 208.],\n",
       "        [ 63.,  72., 103.,  17., 212.],\n",
       "        [ 64.,  64.,  97.,  23., 214.],\n",
       "        [ 65.,  67., 101.,  19., 215.],\n",
       "        [ 66.,  62., 100.,  20., 219.],\n",
       "        [ 67.,  59.,  99.,  21., 221.],\n",
       "        [ 68.,  62., 102.,  18., 221.],\n",
       "        [ 69.,  63., 105.,  15., 223.],\n",
       "        [ 70.,  60., 103.,  17., 224.],\n",
       "        [ 71.,  60., 106.,  14., 227.],\n",
       "        [ 72.,  58., 104.,  16., 227.],\n",
       "        [ 73.,  57., 106.,  14., 230.],\n",
       "        [ 74.,  55., 107.,  13., 233.],\n",
       "        [ 75.,  46.,  98.,  22., 233.],\n",
       "        [ 76.,  45.,  98.,  22., 234.],\n",
       "        [ 77.,  47., 105.,  15., 239.],\n",
       "        [ 78.,  46., 106.,  14., 241.],\n",
       "        [ 79.,  40., 102.,  18., 243.],\n",
       "        [ 80.,  45., 109.,  11., 245.],\n",
       "        [ 81.,  42., 107.,  13., 246.],\n",
       "        [ 82.,  46., 111.,   9., 246.],\n",
       "        [ 83.,  43., 109.,  11., 247.],\n",
       "        [ 84.,  40., 106.,  14., 247.],\n",
       "        [ 85.,  33., 104.,  16., 252.],\n",
       "        [ 86.,  36., 107.,  13., 252.],\n",
       "        [ 87.,  30., 105.,  15., 256.],\n",
       "        [ 88.,  35., 110.,  10., 256.],\n",
       "        [ 89.,  37., 114.,   6., 258.],\n",
       "        [ 90.,  34., 113.,   7., 260.],\n",
       "        [ 91.,  34., 114.,   6., 261.],\n",
       "        [ 92.,  31., 113.,   7., 263.],\n",
       "        [ 93.,  27., 110.,  10., 264.],\n",
       "        [ 94.,  32., 115.,   5., 264.],\n",
       "        [ 95.,  25., 108.,  12., 264.],\n",
       "        [ 96.,  26., 110.,  10., 265.],\n",
       "        [ 97.,  26., 113.,   7., 268.],\n",
       "        [ 98.,  27., 115.,   5., 269.],\n",
       "        [ 99.,  23., 111.,   9., 269.],\n",
       "        [100.,  25., 113.,   7., 269.]])]"
      ]
     },
     "execution_count": 10,
     "metadata": {},
     "output_type": "execute_result"
    }
   ],
   "source": [
    "MichaelisMenten().run(solver=StochKitSolver, show_labels=True)"
   ]
  },
  {
   "cell_type": "code",
   "execution_count": null,
   "metadata": {},
   "outputs": [],
   "source": [
    "test = MichaelisMenten()"
   ]
  },
  {
   "cell_type": "code",
   "execution_count": null,
   "metadata": {},
   "outputs": [],
   "source": [
    "test.serialize()"
   ]
  },
  {
   "cell_type": "code",
   "execution_count": null,
   "metadata": {},
   "outputs": [],
   "source": []
  }
 ],
 "metadata": {
  "@webio": {
   "lastCommId": null,
   "lastKernelId": null
  },
  "kernelspec": {
   "display_name": "Python 3",
   "language": "python",
   "name": "python3"
  },
  "language_info": {
   "codemirror_mode": {
    "name": "ipython",
    "version": 3
   },
   "file_extension": ".py",
   "mimetype": "text/x-python",
   "name": "python",
   "nbconvert_exporter": "python",
   "pygments_lexer": "ipython3",
   "version": "3.6.9"
  }
 },
 "nbformat": 4,
 "nbformat_minor": 2
}
