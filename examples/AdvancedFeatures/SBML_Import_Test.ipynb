{
 "cells": [
  {
   "cell_type": "code",
   "execution_count": 1,
   "metadata": {},
   "outputs": [],
   "source": [
    "import sys, os\n",
    "import math\n",
    "sys.path.insert(1,os.path.abspath(os.path.join(os.getcwd(), '../../')))\n",
    "import gillespy2\n",
    "import matplotlib.pyplot as plt"
   ]
  },
  {
   "cell_type": "code",
   "execution_count": 2,
   "metadata": {},
   "outputs": [
    {
     "name": "stdout",
     "output_type": "stream",
     "text": [
      "SBML Error, code 1006, line 5: XML content is not well-formed.\n",
      "\n",
      "-----\n"
     ]
    }
   ],
   "source": [
    "try:\n",
    "    from urllib2 import urlopen\n",
    "except ImportError:\n",
    "    from urllib.request import urlopen\n",
    "import tempfile\n",
    "sbml_file = 'http://www.ebi.ac.uk/biomodels-main/download?mid=BIOMD0000000028'\n",
    "response = urlopen(sbml_file)\n",
    "tmp = tempfile.NamedTemporaryFile(delete = False)\n",
    "tmp.write(response.read())\n",
    "tmp.close()\n",
    "######\n",
    "\n",
    "sbml_model, errors = gillespy2.import_SBML(tmp.name)\n",
    "print(os.linesep.join([error for error, code in errors]))\n",
    "print(\"-----\")\n",
    "os.remove(tmp.name)\n",
    "######"
   ]
  },
  {
   "cell_type": "code",
   "execution_count": 3,
   "metadata": {},
   "outputs": [
    {
     "ename": "AttributeError",
     "evalue": "'NoneType' object has no attribute 'run'",
     "output_type": "error",
     "traceback": [
      "\u001b[1;31m---------------------------------------------------------------------------\u001b[0m",
      "\u001b[1;31mAttributeError\u001b[0m                            Traceback (most recent call last)",
      "\u001b[1;32m~\\AppData\\Local\\Temp/ipykernel_22152/2293615485.py\u001b[0m in \u001b[0;36m<module>\u001b[1;34m\u001b[0m\n\u001b[1;32m----> 1\u001b[1;33m \u001b[0mdresults\u001b[0m \u001b[1;33m=\u001b[0m \u001b[0msbml_model\u001b[0m\u001b[1;33m.\u001b[0m\u001b[0mrun\u001b[0m\u001b[1;33m(\u001b[0m\u001b[0malgorithm\u001b[0m \u001b[1;33m=\u001b[0m \u001b[1;34m\"ODE\"\u001b[0m\u001b[1;33m)\u001b[0m\u001b[1;33m\u001b[0m\u001b[1;33m\u001b[0m\u001b[0m\n\u001b[0m\u001b[0;32m      2\u001b[0m \u001b[1;33m\u001b[0m\u001b[0m\n\u001b[0;32m      3\u001b[0m \u001b[1;31m#Convert results object to an array via method below\u001b[0m\u001b[1;33m\u001b[0m\u001b[1;33m\u001b[0m\u001b[0m\n\u001b[0;32m      4\u001b[0m \u001b[0mdresults\u001b[0m \u001b[1;33m=\u001b[0m \u001b[0mdresults\u001b[0m\u001b[1;33m.\u001b[0m\u001b[0mto_array\u001b[0m\u001b[1;33m(\u001b[0m\u001b[1;33m)\u001b[0m\u001b[1;33m\u001b[0m\u001b[1;33m\u001b[0m\u001b[0m\n",
      "\u001b[1;31mAttributeError\u001b[0m: 'NoneType' object has no attribute 'run'"
     ]
    }
   ],
   "source": [
    "dresults = sbml_model.run(algorithm = \"ODE\")\n",
    "\n",
    "#Convert results object to an array via method below\n",
    "dresults = dresults.to_array()"
   ]
  },
  {
   "cell_type": "code",
   "execution_count": null,
   "metadata": {},
   "outputs": [],
   "source": [
    "ns = len(sbml_model.listOfSpecies)\n",
    "plt.figure(figsize=(15,4*int(math.ceil(ns/5.0))))\n",
    "for n,s in enumerate(sbml_model.listOfSpecies):\n",
    "    plt.subplot(int(math.ceil(ns/5.0)),5,n+1)\n",
    "    plt.plot(dresults[0][:,0],dresults[0][:,n+1])\n",
    "    plt.title(s)"
   ]
  },
  {
   "cell_type": "code",
   "execution_count": null,
   "metadata": {},
   "outputs": [],
   "source": [
    "sbml_model.name"
   ]
  },
  {
   "cell_type": "code",
   "execution_count": null,
   "metadata": {},
   "outputs": [],
   "source": [
    "for r in sbml_model.listOfReactions:\n",
    "    print(\"{0}\\t{1}\".format(r,sbml_model.listOfReactions[r].propensity_function))"
   ]
  },
  {
   "cell_type": "code",
   "execution_count": null,
   "metadata": {},
   "outputs": [],
   "source": [
    "new_rxns = []\n",
    "for rname in sbml_model.listOfReactions:\n",
    "    r = sbml_model.listOfReactions[rname]\n",
    "    #print r.propensity_function\n",
    "    rxns = r.propensity_function.replace('cell * ','').replace('(','').replace(')','').split('-')\n",
    "    #print rxns, r.reactants, r.products\n",
    "    r1 = gillespy2.Reaction(name=r.name,  reactants=r.reactants, \n",
    "                           products=r.products,\n",
    "                           propensity_function = rxns[0])\n",
    "    new_rxns.append(r1)\n",
    "    if len(rxns) > 1:\n",
    "        r2 = gillespy2.Reaction(name=r.name+'__reverse',  \n",
    "                               reactants=r.products, \n",
    "                               products=r.reactants,\n",
    "                               propensity_function = rxns[1])\n",
    "    \n",
    "        new_rxns.append(r2)"
   ]
  },
  {
   "cell_type": "code",
   "execution_count": null,
   "metadata": {},
   "outputs": [],
   "source": [
    "for s in sbml_model.listOfSpecies:\n",
    "    print(s,sbml_model.listOfSpecies[s].initial_value)"
   ]
  },
  {
   "cell_type": "code",
   "execution_count": null,
   "metadata": {},
   "outputs": [],
   "source": [
    "r = sbml_model.listOfReactions['reaction_0000001']\n",
    "print(r.propensity_function)\n",
    "print(r.propensity_function.replace('(','').replace(')','').split())"
   ]
  },
  {
   "cell_type": "code",
   "execution_count": null,
   "metadata": {},
   "outputs": [],
   "source": [
    "'''If we assume the volume is 1.0, we can use the existing propensity \n",
    "functions when we convert to a stochastic model.'''\n",
    "class Markevich2004_MAPK_phosphoRandomElementary(gillespy2.Model):\n",
    "    def __init__(self, concentration_model):\n",
    "        gillespy2.Model.__init__(self, name=\"Markevich2004_MAPK_phosphoRandomElementary\")\n",
    "        \n",
    "        for s in concentration_model.listOfSpecies:\n",
    "            self.add_species(gillespy2.Species(name=s, initial_value=int(concentration_model.listOfSpecies[s].initial_value)))\n",
    "            \n",
    "        for p in concentration_model.listOfParameters:\n",
    "            self.add_parameter(concentration_model.listOfParameters[p])\n",
    "            \n",
    "        #for r in concentration_model.listOfReactions:\n",
    "        #    self.add_reaction(concentration_model.listOfReactions[r])\n",
    "        new_rxns = []\n",
    "        for rname in concentration_model.listOfReactions:\n",
    "            r = concentration_model.listOfReactions[rname]\n",
    "            #print r.propensity_function\n",
    "            rxns = r.propensity_function.replace('cell * ','').replace('(','').replace(')','').split('-')\n",
    "            #print rxns, r.reactants, r.products\n",
    "            r1 = gillespy2.Reaction(name=r.name,  reactants=r.reactants, \n",
    "                                   products=r.products,\n",
    "                                   propensity_function = rxns[0])\n",
    "            new_rxns.append(r1)\n",
    "            if len(rxns) > 1:\n",
    "                r2 = gillespy2.Reaction(name=r.name+'__reverse',  \n",
    "                                       reactants=r.products, \n",
    "                                       products=r.reactants,\n",
    "                                       propensity_function = rxns[1].lstrip())\n",
    "\n",
    "                new_rxns.append(r2)\n",
    "        self.add_reaction(new_rxns)"
   ]
  },
  {
   "cell_type": "code",
   "execution_count": null,
   "metadata": {},
   "outputs": [],
   "source": [
    "from gillespy2 import TauLeapingSolver\n",
    "stoch_model = Markevich2004_MAPK_phosphoRandomElementary(sbml_model)\n",
    "sresults = stoch_model.run(algorithm = \"Tau-Leaping\")\n",
    "\n",
    "##Convert a results object to an array, via the method below\n",
    "sresults = sresults.to_array()"
   ]
  },
  {
   "cell_type": "code",
   "execution_count": null,
   "metadata": {
    "pycharm": {
     "name": "#%%\n"
    }
   },
   "outputs": [],
   "source": [
    "ns = len(stoch_model.listOfSpecies)\n",
    "plt.figure(figsize=(15,4*int(math.ceil(ns/5.0))))\n",
    "for n,s in enumerate(stoch_model.listOfSpecies):\n",
    "    plt.subplot(int(math.ceil(ns/5.0)),5,n+1)\n",
    "    plt.plot(sresults[0][:,0],sresults[0][:,n+1])\n",
    "    plt.title(s)\n"
   ]
  }
 ],
 "metadata": {
  "kernelspec": {
   "display_name": "Python 3 (ipykernel)",
   "language": "python",
   "name": "python3"
  },
  "language_info": {
   "codemirror_mode": {
    "name": "ipython",
    "version": 3
   },
   "file_extension": ".py",
   "mimetype": "text/x-python",
   "name": "python",
   "nbconvert_exporter": "python",
   "pygments_lexer": "ipython3",
   "version": "3.9.7"
  }
 },
 "nbformat": 4,
 "nbformat_minor": 2
}
