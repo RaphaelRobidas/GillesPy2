{
 "cells": [
  {
   "cell_type": "markdown",
   "metadata": {},
   "source": [
    "# Solver Pre-Compilation\n",
    "***\n",
    "Most of the time, using the `algorithm=` argument within `model.run()` is the best practice for assigning a particular algorithm to be used when a particular model is ran. This however will create issues when the model is ran within a loop body as each iteration will take almost a full five seconds in make alone, dramatically increasing the time taken to run each iteration. This is why it is best to precompile any model within a loop body. Below is a quick example of how to do so.\n",
    "***\n",
    "## Setup the Environment\n",
    "***"
   ]
  },
  {
   "cell_type": "code",
   "execution_count": 1,
   "metadata": {},
   "outputs": [],
   "source": [
    "import os\n",
    "import sys\n",
    "sys.path.insert(1, os.path.abspath(os.path.join(os.getcwd(), '../..')))"
   ]
  },
  {
   "cell_type": "code",
   "execution_count": 2,
   "metadata": {},
   "outputs": [],
   "source": [
    "import time"
   ]
  },
  {
   "cell_type": "markdown",
   "metadata": {},
   "source": [
    "MatPlotLib is used for creating custom visualizations"
   ]
  },
  {
   "cell_type": "code",
   "execution_count": 3,
   "metadata": {},
   "outputs": [],
   "source": [
    "import matplotlib.pyplot as plt"
   ]
  },
  {
   "cell_type": "code",
   "execution_count": 4,
   "metadata": {},
   "outputs": [],
   "source": [
    "import gillespy2"
   ]
  },
  {
   "cell_type": "markdown",
   "metadata": {},
   "source": [
    "***\n",
    "## Build the Model\n",
    "***"
   ]
  },
  {
   "cell_type": "code",
   "execution_count": 5,
   "metadata": {},
   "outputs": [],
   "source": [
    "def build_michaelis_menten(parameter_values=None):\n",
    "    # Initialize Model\n",
    "    model = gillespy2.Model(name=\"Michaelis_Menten\")\n",
    "\n",
    "    # Define Variables (GillesPy2.Species)\n",
    "    A = gillespy2.Species(name='Substrate', initial_value=301)\n",
    "    B = gillespy2.Species(name='Enzyme', initial_value=120)\n",
    "    C = gillespy2.Species(name='Enzyme_Substrate_Complex', initial_value=0)\n",
    "    D = gillespy2.Species(name='Product', initial_value=0)\n",
    "    \n",
    "    # Add Variables to Model\n",
    "    model.add_species([A, B, C, D])\n",
    "\n",
    "    # Define Parameters\n",
    "    rate1 = gillespy2.Parameter(name='rate1', expression=0.0017)\n",
    "    rate2 = gillespy2.Parameter(name='rate2', expression=0.5)\n",
    "    rate3 = gillespy2.Parameter(name='rate3', expression=0.1)\n",
    "    \n",
    "    # Add Parameters to Model\n",
    "    model.add_parameter([rate1, rate2, rate3])\n",
    "\n",
    "    # Define Reactions\n",
    "    r1 = gillespy2.Reaction(\n",
    "        name=\"r1\", reactants={'Substrate': 1, 'Enzyme': 1}, products={'Enzyme_Substrate_Complex': 1}, rate='rate1'\n",
    "    )\n",
    "    r2 = gillespy2.Reaction(\n",
    "        name=\"r2\", reactants={'Enzyme_Substrate_Complex': 1}, products={'Substrate': 1, 'Enzyme': 1}, rate='rate2'\n",
    "    )\n",
    "    r3 = gillespy2.Reaction(\n",
    "        name=\"r3\", reactants={'Enzyme_Substrate_Complex': 1}, products={'Enzyme': 1, 'Product': 1}, rate='rate3'\n",
    "    )\n",
    "    \n",
    "    # Add Reactions to Model\n",
    "    model.add_reaction([r1, r2, r3])\n",
    "    \n",
    "    # Define Timespan\n",
    "    tspan = gillespy2.TimeSpan.linspace(t=100, num_points=101)\n",
    "    \n",
    "    # Set Model Timespan\n",
    "    model.timespan(tspan)\n",
    "    return model"
   ]
  },
  {
   "cell_type": "markdown",
   "metadata": {},
   "source": [
    "### Instantiate the Model"
   ]
  },
  {
   "cell_type": "code",
   "execution_count": 6,
   "metadata": {},
   "outputs": [],
   "source": [
    "model = build_michaelis_menten()"
   ]
  },
  {
   "cell_type": "markdown",
   "metadata": {},
   "source": [
    "### Instantiate the Solver\n",
    "Call `get_best_solver_algo` on the `model` object and pass the desired algorithm name like you would with `algorithm=`. Also pass the `model` object in a seperate bracket. This will Precompile the model and solver if the solver is a C++ solver."
   ]
  },
  {
   "cell_type": "code",
   "execution_count": 7,
   "metadata": {},
   "outputs": [],
   "source": [
    "precomp_solver = model.get_best_solver_algo(\"Tau-Hybrid\")(model=model)"
   ]
  },
  {
   "cell_type": "markdown",
   "metadata": {},
   "source": [
    "***\n",
    "## Runtime Comparison: Non-Precompiled Solver vs Precompiled Solver\n",
    "***\n",
    "Below is an example of why pre-compilation is neccsary when running a model in a loop body using a C++ solver.\n",
    "### Non-Precompiled Solver"
   ]
  },
  {
   "cell_type": "code",
   "execution_count": 8,
   "metadata": {},
   "outputs": [
    {
     "name": "stdout",
     "output_type": "stream",
     "text": [
      "Time to complete 20 runs without using pre compiled model and solver: 114.322522667\n"
     ]
    }
   ],
   "source": [
    "np_start = time.perf_counter()\n",
    "for i in range(20):\n",
    "    np_results = model.run(solver=gillespy2.TauHybridCSolver)\n",
    "np_end = time.perf_counter()\n",
    "np_time = np_end - np_start\n",
    "\n",
    "print(f\"Time to complete 20 runs without using pre compiled model and solver: {np_time}\")"
   ]
  },
  {
   "cell_type": "markdown",
   "metadata": {},
   "source": [
    "### Precompiled Solver"
   ]
  },
  {
   "cell_type": "code",
   "execution_count": 9,
   "metadata": {},
   "outputs": [
    {
     "name": "stdout",
     "output_type": "stream",
     "text": [
      "Time to complete 20 runs using pre compiled model and solver: 0.2236427090000035\n"
     ]
    }
   ],
   "source": [
    "solver = gillespy2.TauHybridCSolver(model=model)\n",
    "\n",
    "p_start = time.perf_counter()\n",
    "for i in range(20):\n",
    "    p_results = model.run(solver=solver)\n",
    "p_end = time.perf_counter()\n",
    "p_time = p_end - p_start\n",
    "\n",
    "print(f\"Time to complete 20 runs using pre compiled model and solver: {p_time}\")"
   ]
  }
 ],
 "metadata": {
  "kernelspec": {
   "display_name": "Python 3 (ipykernel)",
   "language": "python",
   "name": "python3"
  },
  "language_info": {
   "codemirror_mode": {
    "name": "ipython",
    "version": 3
   },
   "file_extension": ".py",
   "mimetype": "text/x-python",
   "name": "python",
   "nbconvert_exporter": "python",
   "pygments_lexer": "ipython3",
   "version": "3.9.9"
  }
 },
 "nbformat": 4,
 "nbformat_minor": 2
}
