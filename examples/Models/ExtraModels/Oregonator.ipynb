{
 "cells": [
  {
   "cell_type": "code",
   "execution_count": null,
   "metadata": {},
   "outputs": [],
   "source": [
    "import sys\n",
    "sys.path.insert(1, '../../../')\n",
    "import numpy as np\n",
    "import gillespy2"
   ]
  },
  {
   "cell_type": "code",
   "execution_count": null,
   "metadata": {},
   "outputs": [],
   "source": [
    "# Oregonator system\n",
    "# http://www.scholarpedia.org/article/Oregonator\n",
    "class Oregonator(gillespy2.Model):\n",
    "\n",
    "     def __init__(self, parameter_values = None):\n",
    "\n",
    "          # Superclass initialization\n",
    "          gillespy2.Model.__init__(self, name = \"Oregonator\")\n",
    "          \n",
    "          # Species\n",
    "          F = gillespy2.Species(name = \"F\", initial_value = 2)\n",
    "          A = gillespy2.Species(name = \"A\", initial_value = 250)\n",
    "          B = gillespy2.Species(name = \"B\", initial_value = 500)\n",
    "          C = gillespy2.Species(name = \"C\", initial_value = 1000)\n",
    "          P = gillespy2.Species(name = \"P\", initial_value = 0)\n",
    "          self.add_species([F, A, B, C, P])\n",
    "\n",
    "          # Parameters (rates)\n",
    "          k1 = gillespy2.Parameter(name = \"k1\", expression = 2.0)\n",
    "          k2 = gillespy2.Parameter(name = \"k2\", expression = 0.1)\n",
    "          k3 = gillespy2.Parameter(name = \"k3\", expression = 104)\n",
    "          k4 = gillespy2.Parameter(name = \"k4\", expression = 4e-7)\n",
    "          k5 = gillespy2.Parameter(name = \"k5\", expression = 26.0)\n",
    "          self.add_parameter([k1, k2, k3, k4, k5])\n",
    "          \n",
    "          # Reactions\n",
    "          reaction1 = gillespy2.Reaction(name = \"reaction1\", \n",
    "                                         reactants = {B: 1, F: 1}, \n",
    "                                         products = {A: 1, F: 1}, \n",
    "                                         rate = k1)\n",
    "          reaction2 = gillespy2.Reaction(name = \"reaction2\", \n",
    "                                         reactants = {A: 1, B: 1}, \n",
    "                                         products = {P: 1}, \n",
    "                                         rate = k2)\n",
    "          reaction3 = gillespy2.Reaction(name = \"reaction3\", \n",
    "                                         reactants = {A: 1, F: 1}, \n",
    "                                         products = {A: 2, C: 1, F: 1}, \n",
    "                                         rate = k3)\n",
    "          reaction4 = gillespy2.Reaction(name = \"reaction4\", \n",
    "                                         reactants = {A: 2}, \n",
    "                                         products = {P: 1}, \n",
    "                                         rate = k4)\n",
    "          reaction5 = gillespy2.Reaction(name = \"reaction5\", \n",
    "                                         reactants = {C: 1, F: 1}, \n",
    "                                         products = {B: 1, F: 1}, \n",
    "                                         rate = k5)\n",
    "          self.add_reaction([reaction1, reaction2, reaction3, reaction4, reaction5])\n",
    "          \n",
    "          # Set timespan of model\n",
    "          self.timespan(np.linspace(0, 5, 50))\n",
    "\n",
    "          # Set list of species that should be plotted\n",
    "          self.species_to_plot = [\"A\", \"B\", \"C\"]"
   ]
  },
  {
   "cell_type": "code",
   "execution_count": null,
   "metadata": {},
   "outputs": [],
   "source": [
    "model = Oregonator()"
   ]
  },
  {
   "cell_type": "code",
   "execution_count": null,
   "metadata": {
    "pycharm": {
     "name": "#%%\n"
    }
   },
   "outputs": [],
   "source": [
    "from gillespy2.solvers.cpp import SSACSolver\n",
    "results = model.run(solver=SSACSolver)"
   ]
  },
  {
   "cell_type": "code",
   "execution_count": null,
   "metadata": {
    "pycharm": {
     "name": "#%%\n"
    }
   },
   "outputs": [],
   "source": [
    "results.plot()"
   ]
  },
  {
   "cell_type": "code",
   "execution_count": null,
   "metadata": {
    "pycharm": {
     "name": "#%%\n"
    }
   },
   "outputs": [],
   "source": [
    "from gillespy2 import ODESolver\n",
    "ode_results = model.run(solver=ODESolver)"
   ]
  },
  {
   "cell_type": "code",
   "execution_count": null,
   "metadata": {
    "pycharm": {
     "name": "#%%\n"
    }
   },
   "outputs": [],
   "source": [
    "ode_results.plot()"
   ]
  }
 ],
 "metadata": {
  "kernelspec": {
   "display_name": "Python 3 (ipykernel)",
   "language": "python",
   "name": "python3"
  },
  "language_info": {
   "codemirror_mode": {
    "name": "ipython",
    "version": 3
   },
   "file_extension": ".py",
   "mimetype": "text/x-python",
   "name": "python",
   "nbconvert_exporter": "python",
   "pygments_lexer": "ipython3",
   "version": "3.9.7"
  }
 },
 "nbformat": 4,
 "nbformat_minor": 2
}
