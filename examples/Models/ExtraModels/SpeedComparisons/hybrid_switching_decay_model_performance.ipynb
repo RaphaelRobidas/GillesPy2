{
 "cells": [
  {
   "cell_type": "markdown",
   "metadata": {},
   "source": [
    "# Hybrid Switching Decay Model Performance\n",
    "***\n",
    "## Setup the Environment\n",
    "***"
   ]
  },
  {
   "cell_type": "code",
   "execution_count": 1,
   "metadata": {},
   "outputs": [],
   "source": [
    "import os\n",
    "import sys\n",
    "sys.path.insert(1, os.path.abspath(os.path.join(os.getcwd(), '../../../..')))"
   ]
  },
  {
   "cell_type": "markdown",
   "metadata": {},
   "source": [
    "MatPlotLib is used for creating custom visualizations"
   ]
  },
  {
   "cell_type": "code",
   "execution_count": 2,
   "metadata": {},
   "outputs": [],
   "source": [
    "import matplotlib.pyplot as plt"
   ]
  },
  {
   "cell_type": "code",
   "execution_count": 3,
   "metadata": {},
   "outputs": [],
   "source": [
    "import math\n",
    "import time\n",
    "import random"
   ]
  },
  {
   "cell_type": "code",
   "execution_count": 4,
   "metadata": {},
   "outputs": [],
   "source": [
    "import gillespy2"
   ]
  },
  {
   "cell_type": "markdown",
   "metadata": {},
   "source": [
    "***\n",
    "## Build the Model\n",
    "***"
   ]
  },
  {
   "cell_type": "code",
   "execution_count": 5,
   "metadata": {},
   "outputs": [],
   "source": [
    "def build_decay_example(parameter_values=None):\n",
    "    # Initialize Model\n",
    "    model = gillespy2.Model(name=\"Automatic Switch Example\")\n",
    "\n",
    "    # Define Variables (GillesPy2.Species)\n",
    "    A = gillespy2.Species(name='A', initial_value=100000)\n",
    "    \n",
    "    # Add Variables to Model\n",
    "    model.add_species(A)\n",
    "\n",
    "    # Define Parameters\n",
    "    k1 = gillespy2.Parameter(name='k1', expression= 0.8)\n",
    "    \n",
    "    # Add Parameters to Model\n",
    "    model.add_parameter(k1)\n",
    "\n",
    "    # Define Reactions\n",
    "    r1 = gillespy2.Reaction(name=\"r1\", reactants={'A': 1}, products={}, rate='k1')\n",
    "\n",
    "    # Add Reactions to Model\n",
    "    model.add_reaction(r1)\n",
    "    \n",
    "    # Define Timespan\n",
    "    tspan = gillespy2.TimeSpan.linspace(t=10, num_points=101)\n",
    "    \n",
    "    # Set Model Timespan\n",
    "    model.timespan(tspan)\n",
    "    return model"
   ]
  },
  {
   "cell_type": "markdown",
   "metadata": {},
   "source": [
    "### Instantiate the Model"
   ]
  },
  {
   "cell_type": "code",
   "execution_count": 6,
   "metadata": {},
   "outputs": [],
   "source": [
    "model = build_decay_example()"
   ]
  },
  {
   "cell_type": "markdown",
   "metadata": {},
   "source": [
    "### Instantiate the Solvers"
   ]
  },
  {
   "cell_type": "code",
   "execution_count": 7,
   "metadata": {},
   "outputs": [],
   "source": [
    "ODE = model.get_best_solver_algo(\"ODE\")(model)\n",
    "SSA = model.get_best_solver_algo(\"SSA\")(model)\n",
    "TauHybrid = model.get_best_solver_algo(\"Tau-Hybrid\")(model)"
   ]
  },
  {
   "cell_type": "markdown",
   "metadata": {},
   "source": [
    "***\n",
    "## Run the Simulations\n",
    "***\n",
    "### ODE"
   ]
  },
  {
   "cell_type": "code",
   "execution_count": 8,
   "metadata": {},
   "outputs": [
    {
     "name": "stdout",
     "output_type": "stream",
     "text": [
      "0.003910022919999995\n"
     ]
    }
   ],
   "source": [
    "ode_start = time.perf_counter()\n",
    "for i in range(100):\n",
    "    ode_results = model.run(solver=ODE)\n",
    "ode_end = time.perf_counter()\n",
    "ode_avg = (ode_end - ode_start) / 100\n",
    "print(ode_avg)"
   ]
  },
  {
   "cell_type": "code",
   "execution_count": 9,
   "metadata": {},
   "outputs": [
    {
     "name": "stdout",
     "output_type": "stream",
     "text": [
      "CPU times: user 3.16 ms, sys: 9.17 ms, total: 12.3 ms\n",
      "Wall time: 3.18 s\n"
     ]
    }
   ],
   "source": [
    "%time ode_results = model.run(algorithm = \"ODE\")"
   ]
  },
  {
   "cell_type": "markdown",
   "metadata": {},
   "source": [
    "### SSA"
   ]
  },
  {
   "cell_type": "code",
   "execution_count": 10,
   "metadata": {},
   "outputs": [
    {
     "name": "stdout",
     "output_type": "stream",
     "text": [
      "0.004626506250000002\n"
     ]
    }
   ],
   "source": [
    "ssa_start = time.perf_counter()\n",
    "for i in range(100):\n",
    "    ssa_results = model.run(solver=SSA)\n",
    "ssa_end = time.perf_counter() \n",
    "ssa_avg = (ssa_end - ssa_start) / 100\n",
    "print(ssa_avg)"
   ]
  },
  {
   "cell_type": "code",
   "execution_count": 11,
   "metadata": {},
   "outputs": [
    {
     "name": "stdout",
     "output_type": "stream",
     "text": [
      "CPU times: user 2.29 ms, sys: 8 ms, total: 10.3 ms\n",
      "Wall time: 1.59 s\n"
     ]
    }
   ],
   "source": [
    "%time ssa_results = model.run(algorithm = \"SSA\")"
   ]
  },
  {
   "cell_type": "markdown",
   "metadata": {},
   "source": [
    "### Tau Hybrid"
   ]
  },
  {
   "cell_type": "code",
   "execution_count": 12,
   "metadata": {},
   "outputs": [
    {
     "name": "stdout",
     "output_type": "stream",
     "text": [
      "0.004995119999999993\n"
     ]
    }
   ],
   "source": [
    "hybrid_start = time.perf_counter()\n",
    "for i in range(100):\n",
    "    hybrid_results = model.run(solver=TauHybrid)\n",
    "hybrid_end = time.perf_counter() \n",
    "hybrid_avg = (hybrid_end - hybrid_start) / 100\n",
    "print(hybrid_avg)"
   ]
  },
  {
   "cell_type": "code",
   "execution_count": 13,
   "metadata": {},
   "outputs": [
    {
     "name": "stdout",
     "output_type": "stream",
     "text": [
      "CPU times: user 3.66 ms, sys: 10.1 ms, total: 13.7 ms\n",
      "Wall time: 5.69 s\n"
     ]
    }
   ],
   "source": [
    "%time hybrid_results = model.run(algorithm = \"Tau-Hybrid\")"
   ]
  },
  {
   "cell_type": "markdown",
   "metadata": {},
   "source": [
    "***\n",
    "## Accuracy Check\n",
    "***\n",
    "#### At 10% through the simulation"
   ]
  },
  {
   "cell_type": "code",
   "execution_count": 14,
   "metadata": {},
   "outputs": [
    {
     "name": "stdout",
     "output_type": "stream",
     "text": [
      "ODE:       44935.0\n",
      "Hybrid:    44932.9\n",
      "SSA:       44932.0\n"
     ]
    }
   ],
   "source": [
    "t = 10\n",
    "print(f\"ODE:    {ode_results[0]['A'][t]:10}\")\n",
    "print(f\"Hybrid: {hybrid_results[0]['A'][t]:10}\")\n",
    "print(f\"SSA:    {ssa_results[0]['A'][t]:10}\")"
   ]
  },
  {
   "cell_type": "markdown",
   "metadata": {},
   "source": [
    "#### At 90% through the simulation"
   ]
  },
  {
   "cell_type": "code",
   "execution_count": 15,
   "metadata": {},
   "outputs": [
    {
     "name": "stdout",
     "output_type": "stream",
     "text": [
      "ODE:         74.73\n",
      "Hybrid:      74.66\n",
      "SSA:         72.0\n"
     ]
    }
   ],
   "source": [
    "t = 90\n",
    "print(f\"ODE:    {ode_results[0]['A'][t]:-10.4}\")\n",
    "print(f\"Hybrid: {hybrid_results[0]['A'][t]:-10.4}\")\n",
    "print(f\"SSA:    {ssa_results[0]['A'][t]:-9.4}\")"
   ]
  },
  {
   "cell_type": "markdown",
   "metadata": {},
   "source": [
    "***\n",
    "## Visualizations\n",
    "***"
   ]
  },
  {
   "cell_type": "code",
   "execution_count": 16,
   "metadata": {},
   "outputs": [
    {
     "data": {
      "text/plain": [
       "<matplotlib.legend.Legend at 0x11798e9a0>"
      ]
     },
     "execution_count": 16,
     "metadata": {},
     "output_type": "execute_result"
    },
    {
     "data": {
      "image/png": "[encoded data removed]",
      "text/plain": [
       "<Figure size 1080x720 with 1 Axes>"
      ]
     },
     "metadata": {
      "needs_background": "light"
     },
     "output_type": "display_data"
    }
   ],
   "source": [
    "plt.figure(figsize=(15, 10))\n",
    "start_slice = 9\n",
    "end_slice = 11\n",
    "for species in hybrid_results[0]:\n",
    "    if species == 'time': continue\n",
    "    plt.plot(hybrid_results[0]['time'], hybrid_results[0][species], label='hybrid')\n",
    "for species in ode_results[0]:\n",
    "    if species == 'time': continue\n",
    "    plt.plot(ode_results[0]['time'], ode_results[0][species], label='ode')\n",
    "for species in ssa_results[0]:\n",
    "    if species == 'time': continue\n",
    "    plt.plot(ssa_results[0]['time'], ssa_results[0][species], label='ssa')\n",
    "plt.title('Example Single-Species Decay Model')\n",
    "plt.legend(loc='best')"
   ]
  },
  {
   "cell_type": "code",
   "execution_count": 17,
   "metadata": {},
   "outputs": [
    {
     "data": {
      "text/plain": [
       "<BarContainer object of 3 artists>"
      ]
     },
     "execution_count": 17,
     "metadata": {},
     "output_type": "execute_result"
    },
    {
     "data": {
      "image/png": "[encoded data removed]",
      "text/plain": [
       "<Figure size 432x288 with 1 Axes>"
      ]
     },
     "metadata": {
      "needs_background": "light"
     },
     "output_type": "display_data"
    }
   ],
   "source": [
    "x = ['ODE', 'Hybrid', 'SSA']\n",
    "runtimes = [ode_avg, hybrid_avg, ssa_avg]\n",
    "plt.xlabel('Solver')\n",
    "plt.ylabel('Time (in ms)')\n",
    "plt.title('Simple Decay Run Times')\n",
    "plt.bar(x, runtimes)"
   ]
  }
 ],
 "metadata": {
  "kernelspec": {
   "display_name": "Python 3 (ipykernel)",
   "language": "python",
   "name": "python3"
  },
  "language_info": {
   "codemirror_mode": {
    "name": "ipython",
    "version": 3
   },
   "file_extension": ".py",
   "mimetype": "text/x-python",
   "name": "python",
   "nbconvert_exporter": "python",
   "pygments_lexer": "ipython3",
   "version": "3.9.9"
  }
 },
 "nbformat": 4,
 "nbformat_minor": 2
}
