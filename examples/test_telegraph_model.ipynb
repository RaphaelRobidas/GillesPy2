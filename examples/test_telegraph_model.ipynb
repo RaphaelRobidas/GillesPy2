{
 "cells": [
  {
   "cell_type": "code",
   "execution_count": 4,
   "metadata": {},
   "outputs": [],
   "source": [
    "import sys\n",
    "import os\n",
    "sys.path.insert(1, os.path.abspath(os.path.join(os.getcwd(), '..')))\n",
    "import numpy as np\n",
    "import gillespy2\n",
    "\n",
    "from gillespy2 import TauHybridSolver\n",
    "from gillespy2 import TauHybridCSolver\n",
    "from matplotlib import pyplot as plt"
   ]
  },
  {
   "cell_type": "code",
   "execution_count": 11,
   "metadata": {},
   "outputs": [],
   "source": [
    "def create_on_off_reaction(initial_value=1):\n",
    "    \"\"\"Creates a stochastic model for the dichotomous Markov process OFF <-> ON\"\"\"\n",
    "\n",
    "    # Intialize the Model with a name of your choosing.\n",
    "    model = gillespy2.Model(name=\"on_off\")\n",
    "\n",
    "    \"\"\"\n",
    "    Variables (GillesPy2.Species) can be anything that participates in or is produced by a reaction channel.\n",
    "\n",
    "    - name: A user defined name for the species.\n",
    "    - initial_value: A value/population count of species at start of simulation.\n",
    "    \"\"\"\n",
    "    ON = gillespy2.Species(name=\"ON\", initial_value=0)\n",
    "    OFF = gillespy2.Species(name=\"OFF\", initial_value=initial_value)\n",
    "\n",
    "    # Add the Variables to the Model.\n",
    "    model.add_species([ON, OFF])\n",
    "\n",
    "    \"\"\"\n",
    "    Parameters are constant values relevant to the system, such as reaction kinetic rates.\n",
    "\n",
    "    - name: A user defined name for reference.\n",
    "    - expression: Some constant value.\n",
    "    \"\"\"\n",
    "    kon  = gillespy2.Parameter(name=\"kon\",  expression=0.1)\n",
    "    koff = gillespy2.Parameter(name=\"koff\", expression=1.0)\n",
    "\n",
    "    # Add the Parameters to the Model.\n",
    "    model.add_parameter([kon, koff])\n",
    "\n",
    "    \"\"\"\n",
    "    Reactions are the reaction channels which cause the system to change over time.\n",
    "\n",
    "    - name: A user defined name for the reaction.\n",
    "    - reactants: A dictionary with participant reactants as keys, and consumed per reaction as value.\n",
    "    - products: A dictionary with reaction products as keys, and number formed per reaction as value.\n",
    "    - rate: A parameter rate constant to be applied to the propensity of this reaction firing.\n",
    "    - propensity_function: Can be used instead of rate in order to declare a custom propensity function in string format.\n",
    "    \"\"\"\n",
    "    r1 = gillespy2.Reaction(\n",
    "            name=\"on\",\n",
    "            reactants={'OFF': 1}, \n",
    "            products= {'ON': 1},\n",
    "            rate='kon'\n",
    "        )\n",
    "\n",
    "    r2 = gillespy2.Reaction(\n",
    "            name=\"off\",\n",
    "            reactants={'ON': 1}, \n",
    "            products= {'OFF': 1},\n",
    "            rate='koff'\n",
    "        )\n",
    "\n",
    "\n",
    "    # Add the Reactions to the Model.\n",
    "    model.add_reaction([r1, r2])\n",
    "\n",
    "    # Define the timespan of the model.\n",
    "    tspan = gillespy2.TimeSpan.linspace(t=100, num_points=100)\n",
    "    \n",
    "    # Set the timespan of the Model.\n",
    "    model.timespan(tspan)\n",
    "    return model\n",
    "\n"
   ]
  },
  {
   "cell_type": "code",
   "execution_count": 14,
   "metadata": {},
   "outputs": [
    {
     "name": "stdout",
     "output_type": "stream",
     "text": [
      "CPU times: user 10.3 ms, sys: 6.03 ms, total: 16.3 ms\n",
      "Wall time: 4.05 s\n",
      "ratio ON/OFF: 0.10900000000000001  /  0.891\n"
     ]
    },
    {
     "data": {
      "image/png": "[encoded data removed]",
      "text/plain": [
       "<Figure size 432x288 with 1 Axes>"
      ]
     },
     "metadata": {
      "needs_background": "light"
     },
     "output_type": "display_data"
    }
   ],
   "source": [
    "n=10\n",
    "model = create_on_off_reaction(n)\n",
    "%time results = model.run()\n",
    "\n",
    "print(\"ratio ON/OFF:\",\n",
    "      np.sum(results['ON'])/len(results['ON'])/float(n),\n",
    "      \" / \",np.sum(results['OFF'])/len(results['OFF'])/float(n)\n",
    "     )\n",
    "\n",
    "\n",
    "plt.plot(results['time'],results['ON'],label='ON');\n",
    "plt.plot(results['time'],results['OFF'],label='OFF');\n",
    "plt.xlabel('time t')\n",
    "plt.legend()\n",
    "plt.show()"
   ]
  },
  {
   "cell_type": "code",
   "execution_count": null,
   "metadata": {},
   "outputs": [],
   "source": [
    "if False:\n",
    "    # reset the cache\n",
    "    on_ratios = {}\n",
    "    off_ratios = {}"
   ]
  },
  {
   "cell_type": "code",
   "execution_count": 45,
   "metadata": {},
   "outputs": [],
   "source": [
    "x_vals = [1,2,3,4,5,6,7,8,9,10,11,12,15,25,35,50,100,1000]"
   ]
  },
  {
   "cell_type": "code",
   "execution_count": 46,
   "metadata": {},
   "outputs": [
    {
     "name": "stdout",
     "output_type": "stream",
     "text": [
      "1\tratio ON/OFF: 0.94  /  0.06\n",
      "2\tratio ON/OFF: 0.43  /  0.57\n",
      "3\tratio ON/OFF: 0.27999999999999997  /  0.7200000000000001\n",
      "4\tratio ON/OFF: 0.1875  /  0.8125\n",
      "5\tratio ON/OFF: 0.148  /  0.852\n",
      "6\tratio ON/OFF: 0.17333333333333334  /  0.8266666666666667\n",
      "7\tratio ON/OFF: 0.15  /  0.85\n",
      "8\tratio ON/OFF: 0.14125  /  0.85875\n",
      "9\tratio ON/OFF: 0.11444444444444445  /  0.8855555555555555\n",
      "10\tratio ON/OFF: 0.129  /  0.8710000000000001\n",
      "11\tratio ON/OFF: 0.10909090909090909  /  0.890909090909091\n",
      "12\tratio ON/OFF: 0.11083333333333334  /  0.8891666666666667\n",
      "15\tratio ON/OFF: 0.10666666666666667  /  0.8933333333333333\n",
      "25\tratio ON/OFF: 0.094  /  0.9059999999999999\n",
      "35\tratio ON/OFF: 0.09514285714285714  /  0.9048571428571429\n",
      "50\tratio ON/OFF: 0.0886  /  0.9114\n",
      "100\tratio ON/OFF: 0.08449999999999999  /  0.9155\n",
      "1000\tratio ON/OFF: 0.08967  /  0.9103300000000001\n"
     ]
    }
   ],
   "source": [
    "for i,n in enumerate(x_vals):\n",
    "    if n not in on_ratios or n not in off_ratios:\n",
    "        model = create_on_off_reaction(n)\n",
    "        results = model.run()\n",
    "        ##print(f\"{n}\\tratio ON:\",np.sum(results['ON'])/len(results['ON']))\n",
    "        ##print(f\"{n}\\tratio OFF:\",np.sum(results['OFF'])/len(results['OFF']))\n",
    "        on_ratios[n] = np.sum(results['ON'])/len(results['ON'])/float(n)\n",
    "        off_ratios[n] = np.sum(results['OFF'])/len(results['OFF'])/float(n)\n",
    "    print(f\"{n}\\tratio ON/OFF:\",on_ratios[n],\" / \",off_ratios[n])\n"
   ]
  },
  {
   "cell_type": "code",
   "execution_count": 43,
   "metadata": {},
   "outputs": [
    {
     "name": "stdout",
     "output_type": "stream",
     "text": [
      "[1, 2, 3, 4, 5, 7, 9, 10, 12, 15]\n"
     ]
    }
   ],
   "source": [
    "plot_x_vals = x_vals[0:10]\n",
    "print(plot_x_vals)"
   ]
  },
  {
   "cell_type": "code",
   "execution_count": 54,
   "metadata": {},
   "outputs": [
    {
     "data": {
      "text/plain": [
       "<matplotlib.legend.Legend at 0x7f9fa1147520>"
      ]
     },
     "execution_count": 54,
     "metadata": {},
     "output_type": "execute_result"
    },
    {
     "data": {
      "image/png": "[encoded data removed]",
      "text/plain": [
       "<Figure size 432x288 with 1 Axes>"
      ]
     },
     "metadata": {
      "needs_background": "light"
     },
     "output_type": "display_data"
    }
   ],
   "source": [
    "\n",
    "plt.plot(plot_x_vals,[on_ratios[k] for k in plot_x_vals],'.-',label=\"on\")\n",
    "plt.plot(plot_x_vals,[off_ratios[k] for k in plot_x_vals],'.-',label=\"off\")\n",
    "plt.legend()"
   ]
  },
  {
   "cell_type": "code",
   "execution_count": 48,
   "metadata": {},
   "outputs": [
    {
     "data": {
      "text/html": [
       "        <script type=\"text/javascript\">\n",
       "        window.PlotlyConfig = {MathJaxConfig: 'local'};\n",
       "        if (window.MathJax) {MathJax.Hub.Config({SVG: {font: \"STIX-Web\"}});}\n",
       "        if (typeof require !== 'undefined') {\n",
       "        require.undef(\"plotly\");\n",
       "        requirejs.config({\n",
       "            paths: {\n",
       "                'plotly': ['https://cdn.plot.ly/plotly-latest.min']\n",
       "            }\n",
       "        });\n",
       "        require(['plotly'], function(Plotly) {\n",
       "            window._Plotly = Plotly;\n",
       "        });\n",
       "        }\n",
       "        </script>\n",
       "        "
      ]
     },
     "metadata": {},
     "output_type": "display_data"
    },
    {
     "data": {
      "application/vnd.plotly.v1+json": {
       "config": {
        "linkText": "Export to plot.ly",
        "plotlyServerURL": "https://plot.ly",
        "showLink": false
       },
       "data": [
        {
         "legendgroup": "OFF",
         "line": {
          "color": "#1f77b4"
         },
         "mode": "lines",
         "name": "OFF",
         "type": "scatter",
         "x": [
          0,
          1.0101,
          2.0202,
          3.0303,
          4.0404,
          5.05051,
          6.06061,
          7.07071,
          8.08081,
          9.09091,
          10.101,
          11.1111,
          12.1212,
          13.1313,
          14.1414,
          15.1515,
          16.1616,
          17.1717,
          18.1818,
          19.1919,
          20.202,
          21.2121,
          22.2222,
          23.2323,
          24.2424,
          25.2525,
          26.2626,
          27.2727,
          28.2828,
          29.2929,
          30.303,
          31.3131,
          32.3232,
          33.3333,
          34.3434,
          35.3535,
          36.3636,
          37.3737,
          38.3838,
          39.3939,
          40.404,
          41.4141,
          42.4242,
          43.4343,
          44.4444,
          45.4545,
          46.4646,
          47.4747,
          48.4848,
          49.4949,
          50.5051,
          51.5152,
          52.5253,
          53.5354,
          54.5455,
          55.5556,
          56.5657,
          57.5758,
          58.5859,
          59.596,
          60.6061,
          61.6162,
          62.6263,
          63.6364,
          64.6465,
          65.6566,
          66.6667,
          67.6768,
          68.6869,
          69.697,
          70.7071,
          71.7172,
          72.7273,
          73.7374,
          74.7475,
          75.7576,
          76.7677,
          77.7778,
          78.7879,
          79.798,
          80.8081,
          81.8182,
          82.8283,
          83.8384,
          84.8485,
          85.8586,
          86.8687,
          87.8788,
          88.8889,
          89.899,
          90.9091,
          91.9192,
          92.9293,
          93.9394,
          94.9495,
          95.9596,
          96.9697,
          97.9798,
          98.9899,
          100
         ],
         "y": [
          11,
          10,
          8,
          10,
          9,
          11,
          9,
          11,
          11,
          11,
          10,
          10,
          9,
          10,
          10,
          9,
          9,
          10,
          10,
          11,
          10,
          11,
          10,
          10,
          10,
          10,
          9,
          10,
          11,
          11,
          11,
          10,
          10,
          9,
          10,
          10,
          10,
          9,
          8,
          10,
          7,
          9,
          9,
          11,
          10,
          10,
          10,
          9,
          10,
          10,
          9,
          9,
          9,
          11,
          9,
          9,
          10,
          10,
          10,
          10,
          7,
          9,
          11,
          11,
          9,
          9,
          9,
          10,
          10,
          11,
          10,
          10,
          10,
          9,
          10,
          10,
          10,
          9,
          7,
          10,
          10,
          10,
          10,
          10,
          11,
          10,
          10,
          10,
          10,
          10,
          11,
          10,
          9,
          10,
          10,
          10,
          10,
          9,
          11,
          9
         ]
        },
        {
         "legendgroup": "ON",
         "line": {
          "color": "#ff7f0e"
         },
         "mode": "lines",
         "name": "ON",
         "type": "scatter",
         "x": [
          0,
          1.0101,
          2.0202,
          3.0303,
          4.0404,
          5.05051,
          6.06061,
          7.07071,
          8.08081,
          9.09091,
          10.101,
          11.1111,
          12.1212,
          13.1313,
          14.1414,
          15.1515,
          16.1616,
          17.1717,
          18.1818,
          19.1919,
          20.202,
          21.2121,
          22.2222,
          23.2323,
          24.2424,
          25.2525,
          26.2626,
          27.2727,
          28.2828,
          29.2929,
          30.303,
          31.3131,
          32.3232,
          33.3333,
          34.3434,
          35.3535,
          36.3636,
          37.3737,
          38.3838,
          39.3939,
          40.404,
          41.4141,
          42.4242,
          43.4343,
          44.4444,
          45.4545,
          46.4646,
          47.4747,
          48.4848,
          49.4949,
          50.5051,
          51.5152,
          52.5253,
          53.5354,
          54.5455,
          55.5556,
          56.5657,
          57.5758,
          58.5859,
          59.596,
          60.6061,
          61.6162,
          62.6263,
          63.6364,
          64.6465,
          65.6566,
          66.6667,
          67.6768,
          68.6869,
          69.697,
          70.7071,
          71.7172,
          72.7273,
          73.7374,
          74.7475,
          75.7576,
          76.7677,
          77.7778,
          78.7879,
          79.798,
          80.8081,
          81.8182,
          82.8283,
          83.8384,
          84.8485,
          85.8586,
          86.8687,
          87.8788,
          88.8889,
          89.899,
          90.9091,
          91.9192,
          92.9293,
          93.9394,
          94.9495,
          95.9596,
          96.9697,
          97.9798,
          98.9899,
          100
         ],
         "y": [
          0,
          1,
          3,
          1,
          2,
          0,
          2,
          0,
          0,
          0,
          1,
          1,
          2,
          1,
          1,
          2,
          2,
          1,
          1,
          0,
          1,
          0,
          1,
          1,
          1,
          1,
          2,
          1,
          0,
          0,
          0,
          1,
          1,
          2,
          1,
          1,
          1,
          2,
          3,
          1,
          4,
          2,
          2,
          0,
          1,
          1,
          1,
          2,
          1,
          1,
          2,
          2,
          2,
          0,
          2,
          2,
          1,
          1,
          1,
          1,
          4,
          2,
          0,
          0,
          2,
          2,
          2,
          1,
          1,
          0,
          1,
          1,
          1,
          2,
          1,
          1,
          1,
          2,
          4,
          1,
          1,
          1,
          1,
          1,
          0,
          1,
          1,
          1,
          1,
          1,
          0,
          1,
          2,
          1,
          1,
          1,
          1,
          2,
          0,
          2
         ]
        }
       ],
       "layout": {
        "showlegend": true,
        "template": {
         "data": {
          "bar": [
           {
            "error_x": {
             "color": "#2a3f5f"
            },
            "error_y": {
             "color": "#2a3f5f"
            },
            "marker": {
             "line": {
              "color": "#E5ECF6",
              "width": 0.5
             }
            },
            "type": "bar"
           }
          ],
          "barpolar": [
           {
            "marker": {
             "line": {
              "color": "#E5ECF6",
              "width": 0.5
             }
            },
            "type": "barpolar"
           }
          ],
          "carpet": [
           {
            "aaxis": {
             "endlinecolor": "#2a3f5f",
             "gridcolor": "white",
             "linecolor": "white",
             "minorgridcolor": "white",
             "startlinecolor": "#2a3f5f"
            },
            "baxis": {
             "endlinecolor": "#2a3f5f",
             "gridcolor": "white",
             "linecolor": "white",
             "minorgridcolor": "white",
             "startlinecolor": "#2a3f5f"
            },
            "type": "carpet"
           }
          ],
          "choropleth": [
           {
            "colorbar": {
             "outlinewidth": 0,
             "ticks": ""
            },
            "type": "choropleth"
           }
          ],
          "contour": [
           {
            "colorbar": {
             "outlinewidth": 0,
             "ticks": ""
            },
            "colorscale": [
             [
              0,
              "#0d0887"
             ],
             [
              0.1111111111111111,
              "#46039f"
             ],
             [
              0.2222222222222222,
              "#7201a8"
             ],
             [
              0.3333333333333333,
              "#9c179e"
             ],
             [
              0.4444444444444444,
              "#bd3786"
             ],
             [
              0.5555555555555556,
              "#d8576b"
             ],
             [
              0.6666666666666666,
              "#ed7953"
             ],
             [
              0.7777777777777778,
              "#fb9f3a"
             ],
             [
              0.8888888888888888,
              "#fdca26"
             ],
             [
              1,
              "#f0f921"
             ]
            ],
            "type": "contour"
           }
          ],
          "contourcarpet": [
           {
            "colorbar": {
             "outlinewidth": 0,
             "ticks": ""
            },
            "type": "contourcarpet"
           }
          ],
          "heatmap": [
           {
            "colorbar": {
             "outlinewidth": 0,
             "ticks": ""
            },
            "colorscale": [
             [
              0,
              "#0d0887"
             ],
             [
              0.1111111111111111,
              "#46039f"
             ],
             [
              0.2222222222222222,
              "#7201a8"
             ],
             [
              0.3333333333333333,
              "#9c179e"
             ],
             [
              0.4444444444444444,
              "#bd3786"
             ],
             [
              0.5555555555555556,
              "#d8576b"
             ],
             [
              0.6666666666666666,
              "#ed7953"
             ],
             [
              0.7777777777777778,
              "#fb9f3a"
             ],
             [
              0.8888888888888888,
              "#fdca26"
             ],
             [
              1,
              "#f0f921"
             ]
            ],
            "type": "heatmap"
           }
          ],
          "heatmapgl": [
           {
            "colorbar": {
             "outlinewidth": 0,
             "ticks": ""
            },
            "colorscale": [
             [
              0,
              "#0d0887"
             ],
             [
              0.1111111111111111,
              "#46039f"
             ],
             [
              0.2222222222222222,
              "#7201a8"
             ],
             [
              0.3333333333333333,
              "#9c179e"
             ],
             [
              0.4444444444444444,
              "#bd3786"
             ],
             [
              0.5555555555555556,
              "#d8576b"
             ],
             [
              0.6666666666666666,
              "#ed7953"
             ],
             [
              0.7777777777777778,
              "#fb9f3a"
             ],
             [
              0.8888888888888888,
              "#fdca26"
             ],
             [
              1,
              "#f0f921"
             ]
            ],
            "type": "heatmapgl"
           }
          ],
          "histogram": [
           {
            "marker": {
             "colorbar": {
              "outlinewidth": 0,
              "ticks": ""
             }
            },
            "type": "histogram"
           }
          ],
          "histogram2d": [
           {
            "colorbar": {
             "outlinewidth": 0,
             "ticks": ""
            },
            "colorscale": [
             [
              0,
              "#0d0887"
             ],
             [
              0.1111111111111111,
              "#46039f"
             ],
             [
              0.2222222222222222,
              "#7201a8"
             ],
             [
              0.3333333333333333,
              "#9c179e"
             ],
             [
              0.4444444444444444,
              "#bd3786"
             ],
             [
              0.5555555555555556,
              "#d8576b"
             ],
             [
              0.6666666666666666,
              "#ed7953"
             ],
             [
              0.7777777777777778,
              "#fb9f3a"
             ],
             [
              0.8888888888888888,
              "#fdca26"
             ],
             [
              1,
              "#f0f921"
             ]
            ],
            "type": "histogram2d"
           }
          ],
          "histogram2dcontour": [
           {
            "colorbar": {
             "outlinewidth": 0,
             "ticks": ""
            },
            "colorscale": [
             [
              0,
              "#0d0887"
             ],
             [
              0.1111111111111111,
              "#46039f"
             ],
             [
              0.2222222222222222,
              "#7201a8"
             ],
             [
              0.3333333333333333,
              "#9c179e"
             ],
             [
              0.4444444444444444,
              "#bd3786"
             ],
             [
              0.5555555555555556,
              "#d8576b"
             ],
             [
              0.6666666666666666,
              "#ed7953"
             ],
             [
              0.7777777777777778,
              "#fb9f3a"
             ],
             [
              0.8888888888888888,
              "#fdca26"
             ],
             [
              1,
              "#f0f921"
             ]
            ],
            "type": "histogram2dcontour"
           }
          ],
          "mesh3d": [
           {
            "colorbar": {
             "outlinewidth": 0,
             "ticks": ""
            },
            "type": "mesh3d"
           }
          ],
          "parcoords": [
           {
            "line": {
             "colorbar": {
              "outlinewidth": 0,
              "ticks": ""
             }
            },
            "type": "parcoords"
           }
          ],
          "pie": [
           {
            "automargin": true,
            "type": "pie"
           }
          ],
          "scatter": [
           {
            "marker": {
             "colorbar": {
              "outlinewidth": 0,
              "ticks": ""
             }
            },
            "type": "scatter"
           }
          ],
          "scatter3d": [
           {
            "line": {
             "colorbar": {
              "outlinewidth": 0,
              "ticks": ""
             }
            },
            "marker": {
             "colorbar": {
              "outlinewidth": 0,
              "ticks": ""
             }
            },
            "type": "scatter3d"
           }
          ],
          "scattercarpet": [
           {
            "marker": {
             "colorbar": {
              "outlinewidth": 0,
              "ticks": ""
             }
            },
            "type": "scattercarpet"
           }
          ],
          "scattergeo": [
           {
            "marker": {
             "colorbar": {
              "outlinewidth": 0,
              "ticks": ""
             }
            },
            "type": "scattergeo"
           }
          ],
          "scattergl": [
           {
            "marker": {
             "colorbar": {
              "outlinewidth": 0,
              "ticks": ""
             }
            },
            "type": "scattergl"
           }
          ],
          "scattermapbox": [
           {
            "marker": {
             "colorbar": {
              "outlinewidth": 0,
              "ticks": ""
             }
            },
            "type": "scattermapbox"
           }
          ],
          "scatterpolar": [
           {
            "marker": {
             "colorbar": {
              "outlinewidth": 0,
              "ticks": ""
             }
            },
            "type": "scatterpolar"
           }
          ],
          "scatterpolargl": [
           {
            "marker": {
             "colorbar": {
              "outlinewidth": 0,
              "ticks": ""
             }
            },
            "type": "scatterpolargl"
           }
          ],
          "scatterternary": [
           {
            "marker": {
             "colorbar": {
              "outlinewidth": 0,
              "ticks": ""
             }
            },
            "type": "scatterternary"
           }
          ],
          "surface": [
           {
            "colorbar": {
             "outlinewidth": 0,
             "ticks": ""
            },
            "colorscale": [
             [
              0,
              "#0d0887"
             ],
             [
              0.1111111111111111,
              "#46039f"
             ],
             [
              0.2222222222222222,
              "#7201a8"
             ],
             [
              0.3333333333333333,
              "#9c179e"
             ],
             [
              0.4444444444444444,
              "#bd3786"
             ],
             [
              0.5555555555555556,
              "#d8576b"
             ],
             [
              0.6666666666666666,
              "#ed7953"
             ],
             [
              0.7777777777777778,
              "#fb9f3a"
             ],
             [
              0.8888888888888888,
              "#fdca26"
             ],
             [
              1,
              "#f0f921"
             ]
            ],
            "type": "surface"
           }
          ],
          "table": [
           {
            "cells": {
             "fill": {
              "color": "#EBF0F8"
             },
             "line": {
              "color": "white"
             }
            },
            "header": {
             "fill": {
              "color": "#C8D4E3"
             },
             "line": {
              "color": "white"
             }
            },
            "type": "table"
           }
          ]
         },
         "layout": {
          "annotationdefaults": {
           "arrowcolor": "#2a3f5f",
           "arrowhead": 0,
           "arrowwidth": 1
          },
          "coloraxis": {
           "colorbar": {
            "outlinewidth": 0,
            "ticks": ""
           }
          },
          "colorscale": {
           "diverging": [
            [
             0,
             "#8e0152"
            ],
            [
             0.1,
             "#c51b7d"
            ],
            [
             0.2,
             "#de77ae"
            ],
            [
             0.3,
             "#f1b6da"
            ],
            [
             0.4,
             "#fde0ef"
            ],
            [
             0.5,
             "#f7f7f7"
            ],
            [
             0.6,
             "#e6f5d0"
            ],
            [
             0.7,
             "#b8e186"
            ],
            [
             0.8,
             "#7fbc41"
            ],
            [
             0.9,
             "#4d9221"
            ],
            [
             1,
             "#276419"
            ]
           ],
           "sequential": [
            [
             0,
             "#0d0887"
            ],
            [
             0.1111111111111111,
             "#46039f"
            ],
            [
             0.2222222222222222,
             "#7201a8"
            ],
            [
             0.3333333333333333,
             "#9c179e"
            ],
            [
             0.4444444444444444,
             "#bd3786"
            ],
            [
             0.5555555555555556,
             "#d8576b"
            ],
            [
             0.6666666666666666,
             "#ed7953"
            ],
            [
             0.7777777777777778,
             "#fb9f3a"
            ],
            [
             0.8888888888888888,
             "#fdca26"
            ],
            [
             1,
             "#f0f921"
            ]
           ],
           "sequentialminus": [
            [
             0,
             "#0d0887"
            ],
            [
             0.1111111111111111,
             "#46039f"
            ],
            [
             0.2222222222222222,
             "#7201a8"
            ],
            [
             0.3333333333333333,
             "#9c179e"
            ],
            [
             0.4444444444444444,
             "#bd3786"
            ],
            [
             0.5555555555555556,
             "#d8576b"
            ],
            [
             0.6666666666666666,
             "#ed7953"
            ],
            [
             0.7777777777777778,
             "#fb9f3a"
            ],
            [
             0.8888888888888888,
             "#fdca26"
            ],
            [
             1,
             "#f0f921"
            ]
           ]
          },
          "colorway": [
           "#636efa",
           "#EF553B",
           "#00cc96",
           "#ab63fa",
           "#FFA15A",
           "#19d3f3",
           "#FF6692",
           "#B6E880",
           "#FF97FF",
           "#FECB52"
          ],
          "font": {
           "color": "#2a3f5f"
          },
          "geo": {
           "bgcolor": "white",
           "lakecolor": "white",
           "landcolor": "#E5ECF6",
           "showlakes": true,
           "showland": true,
           "subunitcolor": "white"
          },
          "hoverlabel": {
           "align": "left"
          },
          "hovermode": "closest",
          "mapbox": {
           "style": "light"
          },
          "paper_bgcolor": "white",
          "plot_bgcolor": "#E5ECF6",
          "polar": {
           "angularaxis": {
            "gridcolor": "white",
            "linecolor": "white",
            "ticks": ""
           },
           "bgcolor": "#E5ECF6",
           "radialaxis": {
            "gridcolor": "white",
            "linecolor": "white",
            "ticks": ""
           }
          },
          "scene": {
           "xaxis": {
            "backgroundcolor": "#E5ECF6",
            "gridcolor": "white",
            "gridwidth": 2,
            "linecolor": "white",
            "showbackground": true,
            "ticks": "",
            "zerolinecolor": "white"
           },
           "yaxis": {
            "backgroundcolor": "#E5ECF6",
            "gridcolor": "white",
            "gridwidth": 2,
            "linecolor": "white",
            "showbackground": true,
            "ticks": "",
            "zerolinecolor": "white"
           },
           "zaxis": {
            "backgroundcolor": "#E5ECF6",
            "gridcolor": "white",
            "gridwidth": 2,
            "linecolor": "white",
            "showbackground": true,
            "ticks": "",
            "zerolinecolor": "white"
           }
          },
          "shapedefaults": {
           "line": {
            "color": "#2a3f5f"
           }
          },
          "ternary": {
           "aaxis": {
            "gridcolor": "white",
            "linecolor": "white",
            "ticks": ""
           },
           "baxis": {
            "gridcolor": "white",
            "linecolor": "white",
            "ticks": ""
           },
           "bgcolor": "#E5ECF6",
           "caxis": {
            "gridcolor": "white",
            "linecolor": "white",
            "ticks": ""
           }
          },
          "title": {
           "x": 0.05
          },
          "xaxis": {
           "automargin": true,
           "gridcolor": "white",
           "linecolor": "white",
           "ticks": "",
           "title": {
            "standoff": 15
           },
           "zerolinecolor": "white",
           "zerolinewidth": 2
          },
          "yaxis": {
           "automargin": true,
           "gridcolor": "white",
           "linecolor": "white",
           "ticks": "",
           "title": {
            "standoff": 15
           },
           "zerolinecolor": "white",
           "zerolinewidth": 2
          }
         }
        },
        "title": {
         "text": ""
        },
        "xaxis": {
         "title": {
          "text": "Time"
         }
        },
        "yaxis": {
         "title": {
          "text": "Value"
         }
        }
       }
      },
      "text/html": [
       "<div>\n",
       "        \n",
       "        \n",
       "            <div id=\"16c3327d-8626-42b7-974f-5d2a132a96a6\" class=\"plotly-graph-div\" style=\"height:525px; width:100%;\"></div>\n",
       "            <script type=\"text/javascript\">\n",
       "                require([\"plotly\"], function(Plotly) {\n",
       "                    window.PLOTLYENV=window.PLOTLYENV || {};\n",
       "                    \n",
       "                if (document.getElementById(\"16c3327d-8626-42b7-974f-5d2a132a96a6\")) {\n",
       "                    Plotly.newPlot(\n",
       "                        '16c3327d-8626-42b7-974f-5d2a132a96a6',\n",
       "                        [{\"legendgroup\": \"OFF\", \"line\": {\"color\": \"#1f77b4\"}, \"mode\": \"lines\", \"name\": \"OFF\", \"type\": \"scatter\", \"x\": [0.0, 1.0101, 2.0202, 3.0303, 4.0404, 5.05051, 6.06061, 7.07071, 8.08081, 9.09091, 10.101, 11.1111, 12.1212, 13.1313, 14.1414, 15.1515, 16.1616, 17.1717, 18.1818, 19.1919, 20.202, 21.2121, 22.2222, 23.2323, 24.2424, 25.2525, 26.2626, 27.2727, 28.2828, 29.2929, 30.303, 31.3131, 32.3232, 33.3333, 34.3434, 35.3535, 36.3636, 37.3737, 38.3838, 39.3939, 40.404, 41.4141, 42.4242, 43.4343, 44.4444, 45.4545, 46.4646, 47.4747, 48.4848, 49.4949, 50.5051, 51.5152, 52.5253, 53.5354, 54.5455, 55.5556, 56.5657, 57.5758, 58.5859, 59.596, 60.6061, 61.6162, 62.6263, 63.6364, 64.6465, 65.6566, 66.6667, 67.6768, 68.6869, 69.697, 70.7071, 71.7172, 72.7273, 73.7374, 74.7475, 75.7576, 76.7677, 77.7778, 78.7879, 79.798, 80.8081, 81.8182, 82.8283, 83.8384, 84.8485, 85.8586, 86.8687, 87.8788, 88.8889, 89.899, 90.9091, 91.9192, 92.9293, 93.9394, 94.9495, 95.9596, 96.9697, 97.9798, 98.9899, 100.0], \"y\": [11.0, 10.0, 8.0, 10.0, 9.0, 11.0, 9.0, 11.0, 11.0, 11.0, 10.0, 10.0, 9.0, 10.0, 10.0, 9.0, 9.0, 10.0, 10.0, 11.0, 10.0, 11.0, 10.0, 10.0, 10.0, 10.0, 9.0, 10.0, 11.0, 11.0, 11.0, 10.0, 10.0, 9.0, 10.0, 10.0, 10.0, 9.0, 8.0, 10.0, 7.0, 9.0, 9.0, 11.0, 10.0, 10.0, 10.0, 9.0, 10.0, 10.0, 9.0, 9.0, 9.0, 11.0, 9.0, 9.0, 10.0, 10.0, 10.0, 10.0, 7.0, 9.0, 11.0, 11.0, 9.0, 9.0, 9.0, 10.0, 10.0, 11.0, 10.0, 10.0, 10.0, 9.0, 10.0, 10.0, 10.0, 9.0, 7.0, 10.0, 10.0, 10.0, 10.0, 10.0, 11.0, 10.0, 10.0, 10.0, 10.0, 10.0, 11.0, 10.0, 9.0, 10.0, 10.0, 10.0, 10.0, 9.0, 11.0, 9.0]}, {\"legendgroup\": \"ON\", \"line\": {\"color\": \"#ff7f0e\"}, \"mode\": \"lines\", \"name\": \"ON\", \"type\": \"scatter\", \"x\": [0.0, 1.0101, 2.0202, 3.0303, 4.0404, 5.05051, 6.06061, 7.07071, 8.08081, 9.09091, 10.101, 11.1111, 12.1212, 13.1313, 14.1414, 15.1515, 16.1616, 17.1717, 18.1818, 19.1919, 20.202, 21.2121, 22.2222, 23.2323, 24.2424, 25.2525, 26.2626, 27.2727, 28.2828, 29.2929, 30.303, 31.3131, 32.3232, 33.3333, 34.3434, 35.3535, 36.3636, 37.3737, 38.3838, 39.3939, 40.404, 41.4141, 42.4242, 43.4343, 44.4444, 45.4545, 46.4646, 47.4747, 48.4848, 49.4949, 50.5051, 51.5152, 52.5253, 53.5354, 54.5455, 55.5556, 56.5657, 57.5758, 58.5859, 59.596, 60.6061, 61.6162, 62.6263, 63.6364, 64.6465, 65.6566, 66.6667, 67.6768, 68.6869, 69.697, 70.7071, 71.7172, 72.7273, 73.7374, 74.7475, 75.7576, 76.7677, 77.7778, 78.7879, 79.798, 80.8081, 81.8182, 82.8283, 83.8384, 84.8485, 85.8586, 86.8687, 87.8788, 88.8889, 89.899, 90.9091, 91.9192, 92.9293, 93.9394, 94.9495, 95.9596, 96.9697, 97.9798, 98.9899, 100.0], \"y\": [0.0, 1.0, 3.0, 1.0, 2.0, 0.0, 2.0, 0.0, 0.0, 0.0, 1.0, 1.0, 2.0, 1.0, 1.0, 2.0, 2.0, 1.0, 1.0, 0.0, 1.0, 0.0, 1.0, 1.0, 1.0, 1.0, 2.0, 1.0, 0.0, 0.0, 0.0, 1.0, 1.0, 2.0, 1.0, 1.0, 1.0, 2.0, 3.0, 1.0, 4.0, 2.0, 2.0, 0.0, 1.0, 1.0, 1.0, 2.0, 1.0, 1.0, 2.0, 2.0, 2.0, 0.0, 2.0, 2.0, 1.0, 1.0, 1.0, 1.0, 4.0, 2.0, 0.0, 0.0, 2.0, 2.0, 2.0, 1.0, 1.0, 0.0, 1.0, 1.0, 1.0, 2.0, 1.0, 1.0, 1.0, 2.0, 4.0, 1.0, 1.0, 1.0, 1.0, 1.0, 0.0, 1.0, 1.0, 1.0, 1.0, 1.0, 0.0, 1.0, 2.0, 1.0, 1.0, 1.0, 1.0, 2.0, 0.0, 2.0]}],\n",
       "                        {\"showlegend\": true, \"template\": {\"data\": {\"bar\": [{\"error_x\": {\"color\": \"#2a3f5f\"}, \"error_y\": {\"color\": \"#2a3f5f\"}, \"marker\": {\"line\": {\"color\": \"#E5ECF6\", \"width\": 0.5}}, \"type\": \"bar\"}], \"barpolar\": [{\"marker\": {\"line\": {\"color\": \"#E5ECF6\", \"width\": 0.5}}, \"type\": \"barpolar\"}], \"carpet\": [{\"aaxis\": {\"endlinecolor\": \"#2a3f5f\", \"gridcolor\": \"white\", \"linecolor\": \"white\", \"minorgridcolor\": \"white\", \"startlinecolor\": \"#2a3f5f\"}, \"baxis\": {\"endlinecolor\": \"#2a3f5f\", \"gridcolor\": \"white\", \"linecolor\": \"white\", \"minorgridcolor\": \"white\", \"startlinecolor\": \"#2a3f5f\"}, \"type\": \"carpet\"}], \"choropleth\": [{\"colorbar\": {\"outlinewidth\": 0, \"ticks\": \"\"}, \"type\": \"choropleth\"}], \"contour\": [{\"colorbar\": {\"outlinewidth\": 0, \"ticks\": \"\"}, \"colorscale\": [[0.0, \"#0d0887\"], [0.1111111111111111, \"#46039f\"], [0.2222222222222222, \"#7201a8\"], [0.3333333333333333, \"#9c179e\"], [0.4444444444444444, \"#bd3786\"], [0.5555555555555556, \"#d8576b\"], [0.6666666666666666, \"#ed7953\"], [0.7777777777777778, \"#fb9f3a\"], [0.8888888888888888, \"#fdca26\"], [1.0, \"#f0f921\"]], \"type\": \"contour\"}], \"contourcarpet\": [{\"colorbar\": {\"outlinewidth\": 0, \"ticks\": \"\"}, \"type\": \"contourcarpet\"}], \"heatmap\": [{\"colorbar\": {\"outlinewidth\": 0, \"ticks\": \"\"}, \"colorscale\": [[0.0, \"#0d0887\"], [0.1111111111111111, \"#46039f\"], [0.2222222222222222, \"#7201a8\"], [0.3333333333333333, \"#9c179e\"], [0.4444444444444444, \"#bd3786\"], [0.5555555555555556, \"#d8576b\"], [0.6666666666666666, \"#ed7953\"], [0.7777777777777778, \"#fb9f3a\"], [0.8888888888888888, \"#fdca26\"], [1.0, \"#f0f921\"]], \"type\": \"heatmap\"}], \"heatmapgl\": [{\"colorbar\": {\"outlinewidth\": 0, \"ticks\": \"\"}, \"colorscale\": [[0.0, \"#0d0887\"], [0.1111111111111111, \"#46039f\"], [0.2222222222222222, \"#7201a8\"], [0.3333333333333333, \"#9c179e\"], [0.4444444444444444, \"#bd3786\"], [0.5555555555555556, \"#d8576b\"], [0.6666666666666666, \"#ed7953\"], [0.7777777777777778, \"#fb9f3a\"], [0.8888888888888888, \"#fdca26\"], [1.0, \"#f0f921\"]], \"type\": \"heatmapgl\"}], \"histogram\": [{\"marker\": {\"colorbar\": {\"outlinewidth\": 0, \"ticks\": \"\"}}, \"type\": \"histogram\"}], \"histogram2d\": [{\"colorbar\": {\"outlinewidth\": 0, \"ticks\": \"\"}, \"colorscale\": [[0.0, \"#0d0887\"], [0.1111111111111111, \"#46039f\"], [0.2222222222222222, \"#7201a8\"], [0.3333333333333333, \"#9c179e\"], [0.4444444444444444, \"#bd3786\"], [0.5555555555555556, \"#d8576b\"], [0.6666666666666666, \"#ed7953\"], [0.7777777777777778, \"#fb9f3a\"], [0.8888888888888888, \"#fdca26\"], [1.0, \"#f0f921\"]], \"type\": \"histogram2d\"}], \"histogram2dcontour\": [{\"colorbar\": {\"outlinewidth\": 0, \"ticks\": \"\"}, \"colorscale\": [[0.0, \"#0d0887\"], [0.1111111111111111, \"#46039f\"], [0.2222222222222222, \"#7201a8\"], [0.3333333333333333, \"#9c179e\"], [0.4444444444444444, \"#bd3786\"], [0.5555555555555556, \"#d8576b\"], [0.6666666666666666, \"#ed7953\"], [0.7777777777777778, \"#fb9f3a\"], [0.8888888888888888, \"#fdca26\"], [1.0, \"#f0f921\"]], \"type\": \"histogram2dcontour\"}], \"mesh3d\": [{\"colorbar\": {\"outlinewidth\": 0, \"ticks\": \"\"}, \"type\": \"mesh3d\"}], \"parcoords\": [{\"line\": {\"colorbar\": {\"outlinewidth\": 0, \"ticks\": \"\"}}, \"type\": \"parcoords\"}], \"pie\": [{\"automargin\": true, \"type\": \"pie\"}], \"scatter\": [{\"marker\": {\"colorbar\": {\"outlinewidth\": 0, \"ticks\": \"\"}}, \"type\": \"scatter\"}], \"scatter3d\": [{\"line\": {\"colorbar\": {\"outlinewidth\": 0, \"ticks\": \"\"}}, \"marker\": {\"colorbar\": {\"outlinewidth\": 0, \"ticks\": \"\"}}, \"type\": \"scatter3d\"}], \"scattercarpet\": [{\"marker\": {\"colorbar\": {\"outlinewidth\": 0, \"ticks\": \"\"}}, \"type\": \"scattercarpet\"}], \"scattergeo\": [{\"marker\": {\"colorbar\": {\"outlinewidth\": 0, \"ticks\": \"\"}}, \"type\": \"scattergeo\"}], \"scattergl\": [{\"marker\": {\"colorbar\": {\"outlinewidth\": 0, \"ticks\": \"\"}}, \"type\": \"scattergl\"}], \"scattermapbox\": [{\"marker\": {\"colorbar\": {\"outlinewidth\": 0, \"ticks\": \"\"}}, \"type\": \"scattermapbox\"}], \"scatterpolar\": [{\"marker\": {\"colorbar\": {\"outlinewidth\": 0, \"ticks\": \"\"}}, \"type\": \"scatterpolar\"}], \"scatterpolargl\": [{\"marker\": {\"colorbar\": {\"outlinewidth\": 0, \"ticks\": \"\"}}, \"type\": \"scatterpolargl\"}], \"scatterternary\": [{\"marker\": {\"colorbar\": {\"outlinewidth\": 0, \"ticks\": \"\"}}, \"type\": \"scatterternary\"}], \"surface\": [{\"colorbar\": {\"outlinewidth\": 0, \"ticks\": \"\"}, \"colorscale\": [[0.0, \"#0d0887\"], [0.1111111111111111, \"#46039f\"], [0.2222222222222222, \"#7201a8\"], [0.3333333333333333, \"#9c179e\"], [0.4444444444444444, \"#bd3786\"], [0.5555555555555556, \"#d8576b\"], [0.6666666666666666, \"#ed7953\"], [0.7777777777777778, \"#fb9f3a\"], [0.8888888888888888, \"#fdca26\"], [1.0, \"#f0f921\"]], \"type\": \"surface\"}], \"table\": [{\"cells\": {\"fill\": {\"color\": \"#EBF0F8\"}, \"line\": {\"color\": \"white\"}}, \"header\": {\"fill\": {\"color\": \"#C8D4E3\"}, \"line\": {\"color\": \"white\"}}, \"type\": \"table\"}]}, \"layout\": {\"annotationdefaults\": {\"arrowcolor\": \"#2a3f5f\", \"arrowhead\": 0, \"arrowwidth\": 1}, \"coloraxis\": {\"colorbar\": {\"outlinewidth\": 0, \"ticks\": \"\"}}, \"colorscale\": {\"diverging\": [[0, \"#8e0152\"], [0.1, \"#c51b7d\"], [0.2, \"#de77ae\"], [0.3, \"#f1b6da\"], [0.4, \"#fde0ef\"], [0.5, \"#f7f7f7\"], [0.6, \"#e6f5d0\"], [0.7, \"#b8e186\"], [0.8, \"#7fbc41\"], [0.9, \"#4d9221\"], [1, \"#276419\"]], \"sequential\": [[0.0, \"#0d0887\"], [0.1111111111111111, \"#46039f\"], [0.2222222222222222, \"#7201a8\"], [0.3333333333333333, \"#9c179e\"], [0.4444444444444444, \"#bd3786\"], [0.5555555555555556, \"#d8576b\"], [0.6666666666666666, \"#ed7953\"], [0.7777777777777778, \"#fb9f3a\"], [0.8888888888888888, \"#fdca26\"], [1.0, \"#f0f921\"]], \"sequentialminus\": [[0.0, \"#0d0887\"], [0.1111111111111111, \"#46039f\"], [0.2222222222222222, \"#7201a8\"], [0.3333333333333333, \"#9c179e\"], [0.4444444444444444, \"#bd3786\"], [0.5555555555555556, \"#d8576b\"], [0.6666666666666666, \"#ed7953\"], [0.7777777777777778, \"#fb9f3a\"], [0.8888888888888888, \"#fdca26\"], [1.0, \"#f0f921\"]]}, \"colorway\": [\"#636efa\", \"#EF553B\", \"#00cc96\", \"#ab63fa\", \"#FFA15A\", \"#19d3f3\", \"#FF6692\", \"#B6E880\", \"#FF97FF\", \"#FECB52\"], \"font\": {\"color\": \"#2a3f5f\"}, \"geo\": {\"bgcolor\": \"white\", \"lakecolor\": \"white\", \"landcolor\": \"#E5ECF6\", \"showlakes\": true, \"showland\": true, \"subunitcolor\": \"white\"}, \"hoverlabel\": {\"align\": \"left\"}, \"hovermode\": \"closest\", \"mapbox\": {\"style\": \"light\"}, \"paper_bgcolor\": \"white\", \"plot_bgcolor\": \"#E5ECF6\", \"polar\": {\"angularaxis\": {\"gridcolor\": \"white\", \"linecolor\": \"white\", \"ticks\": \"\"}, \"bgcolor\": \"#E5ECF6\", \"radialaxis\": {\"gridcolor\": \"white\", \"linecolor\": \"white\", \"ticks\": \"\"}}, \"scene\": {\"xaxis\": {\"backgroundcolor\": \"#E5ECF6\", \"gridcolor\": \"white\", \"gridwidth\": 2, \"linecolor\": \"white\", \"showbackground\": true, \"ticks\": \"\", \"zerolinecolor\": \"white\"}, \"yaxis\": {\"backgroundcolor\": \"#E5ECF6\", \"gridcolor\": \"white\", \"gridwidth\": 2, \"linecolor\": \"white\", \"showbackground\": true, \"ticks\": \"\", \"zerolinecolor\": \"white\"}, \"zaxis\": {\"backgroundcolor\": \"#E5ECF6\", \"gridcolor\": \"white\", \"gridwidth\": 2, \"linecolor\": \"white\", \"showbackground\": true, \"ticks\": \"\", \"zerolinecolor\": \"white\"}}, \"shapedefaults\": {\"line\": {\"color\": \"#2a3f5f\"}}, \"ternary\": {\"aaxis\": {\"gridcolor\": \"white\", \"linecolor\": \"white\", \"ticks\": \"\"}, \"baxis\": {\"gridcolor\": \"white\", \"linecolor\": \"white\", \"ticks\": \"\"}, \"bgcolor\": \"#E5ECF6\", \"caxis\": {\"gridcolor\": \"white\", \"linecolor\": \"white\", \"ticks\": \"\"}}, \"title\": {\"x\": 0.05}, \"xaxis\": {\"automargin\": true, \"gridcolor\": \"white\", \"linecolor\": \"white\", \"ticks\": \"\", \"title\": {\"standoff\": 15}, \"zerolinecolor\": \"white\", \"zerolinewidth\": 2}, \"yaxis\": {\"automargin\": true, \"gridcolor\": \"white\", \"linecolor\": \"white\", \"ticks\": \"\", \"title\": {\"standoff\": 15}, \"zerolinecolor\": \"white\", \"zerolinewidth\": 2}}}, \"title\": {\"text\": \"\"}, \"xaxis\": {\"title\": {\"text\": \"Time\"}}, \"yaxis\": {\"title\": {\"text\": \"Value\"}}},\n",
       "                        {\"responsive\": true}\n",
       "                    ).then(function(){\n",
       "                            \n",
       "var gd = document.getElementById('16c3327d-8626-42b7-974f-5d2a132a96a6');\n",
       "var x = new MutationObserver(function (mutations, observer) {{\n",
       "        var display = window.getComputedStyle(gd).display;\n",
       "        if (!display || display === 'none') {{\n",
       "            console.log([gd, 'removed!']);\n",
       "            Plotly.purge(gd);\n",
       "            observer.disconnect();\n",
       "        }}\n",
       "}});\n",
       "\n",
       "// Listen for the removal of the full notebook cells\n",
       "var notebookContainer = gd.closest('#notebook-container');\n",
       "if (notebookContainer) {{\n",
       "    x.observe(notebookContainer, {childList: true});\n",
       "}}\n",
       "\n",
       "// Listen for the clearing of the current output cell\n",
       "var outputEl = gd.closest('.output');\n",
       "if (outputEl) {{\n",
       "    x.observe(outputEl, {childList: true});\n",
       "}}\n",
       "\n",
       "                        })\n",
       "                };\n",
       "                });\n",
       "            </script>\n",
       "        </div>"
      ]
     },
     "metadata": {},
     "output_type": "display_data"
    }
   ],
   "source": [
    "results.plotplotly()"
   ]
  },
  {
   "cell_type": "code",
   "execution_count": 61,
   "metadata": {},
   "outputs": [],
   "source": [
    "if False:\n",
    "    # reset the cache\n",
    "    num_traj = 100\n",
    "    on_ratios_means = {}\n",
    "    off_ratios_vars = {}\n",
    "    off_ratios_means = {}\n",
    "    on_ratios_vars = {}\n"
   ]
  },
  {
   "cell_type": "code",
   "execution_count": 62,
   "metadata": {},
   "outputs": [
    {
     "name": "stdout",
     "output_type": "stream",
     "text": [
      "{}\n",
      "{}\n",
      "{}\n",
      "{}\n"
     ]
    }
   ],
   "source": [
    "print(on_ratios_means)\n",
    "print(off_ratios_vars)\n",
    "print(off_ratios_means)\n",
    "print(on_ratios_vars)"
   ]
  },
  {
   "cell_type": "code",
   "execution_count": 76,
   "metadata": {},
   "outputs": [
    {
     "name": "stdout",
     "output_type": "stream",
     "text": [
      "1\tratio ON/OFF: 0.8999000000000001 +/- 0.28056611705480655  /  0.10010000000000002 +/- 0.2805661170548066\n",
      "2\tratio ON/OFF: 0.4271999999999999 +/- 0.18642082572006316  /  0.5728 +/- 0.18642082572006316\n",
      "3\tratio ON/OFF: 0.2839333333333333 +/- 0.15083485781990666  /  0.7160666666666667 +/- 0.15083485781990666\n",
      "4\tratio ON/OFF: 0.21375000000000002 +/- 0.12631517529393238  /  0.7862500000000003 +/- 0.12631517529393235\n",
      "5\tratio ON/OFF: 0.17484 +/- 0.11546770522567187  /  0.8251600000000001 +/- 0.11546770522567187\n",
      "6\tratio ON/OFF: 0.154 +/- 0.10650932091298022  /  0.846 +/- 0.10650932091298022\n",
      "7\tratio ON/OFF: 0.1366 +/- 0.09767162500530534  /  0.8634000000000002 +/- 0.09767162500530534\n",
      "8\tratio ON/OFF: 0.12823749999999998 +/- 0.09110157433900916  /  0.8717625000000001 +/- 0.09110157433900916\n",
      "9\tratio ON/OFF: 0.12187777777777778 +/- 0.08681887588119652  /  0.8781222222222221 +/- 0.08681887588119652\n",
      "10\tratio ON/OFF: 0.11494 +/- 0.08248108548201837  /  0.88506 +/- 0.08248108548201837\n",
      "11\tratio ON/OFF: 0.11159090909090909 +/- 0.08044462726011159  /  0.888409090909091 +/- 0.08044462726011159\n",
      "12\tratio ON/OFF: 0.10762500000000001 +/- 0.07723570436129681  /  0.892375 +/- 0.0772357043612968\n",
      "15\tratio ON/OFF: 0.10257333333333332 +/- 0.0703206193450697  /  0.8974266666666667 +/- 0.07032061934506971\n",
      "25\tratio ON/OFF: 0.09342 +/- 0.05601758000594897  /  0.9065800000000002 +/- 0.05601758000594897\n",
      "35\tratio ON/OFF: 0.09184857142857142 +/- 0.04700163353028591  /  0.9081514285714285 +/- 0.04700163353028591\n",
      "50\tratio ON/OFF: 0.091088 +/- 0.04020697459299515  /  0.9089119999999998 +/- 0.04020697459299515\n",
      "100\tratio ON/OFF: 0.08945799999999998 +/- 0.02785578841640178  /  0.910542 +/- 0.02785578841640179\n",
      "1000\tratio ON/OFF: 0.08956250000000002 +/- 0.008870945917799349  /  0.9104375 +/- 0.008870945917799347\n"
     ]
    }
   ],
   "source": [
    "for i,n in enumerate(x_vals):\n",
    "    if n==1 \\\n",
    "      or n not in on_ratios_means or n not in off_ratios_means\\\n",
    "      or n not in on_ratios_vars or n not in off_ratios_vars:\n",
    "        model = create_on_off_reaction(n)\n",
    "        results = model.run(number_of_trajectories=num_traj)\n",
    "        ##print(f\"{n}\\tratio ON:\",np.sum(results['ON'])/len(results['ON']))\n",
    "        ##print(f\"{n}\\tratio OFF:\",np.sum(results['OFF'])/len(results['OFF']))\n",
    "        on_ratios_means[n] = np.sum(results.average_ensemble()['ON'])/len(results.average_ensemble()['ON'])/float(n)\n",
    "        off_ratios_means[n] = np.sum(results.average_ensemble()['OFF'])/len(results.average_ensemble()['OFF'])/float(n)\n",
    "        on_ratios_vars[n] = np.sum(results.stddev_ensemble()['ON'])/len(results.stddev_ensemble()['ON'])/float(n)\n",
    "        off_ratios_vars[n] = np.sum(results.stddev_ensemble()['OFF'])/len(results.stddev_ensemble()['OFF'])/float(n)\n",
    "    print(f\"{n}\\tratio ON/OFF:\",on_ratios_means[n],\"+/-\",on_ratios_vars[n],\" / \",off_ratios_means[n],\"+/-\",off_ratios_vars[n])"
   ]
  },
  {
   "cell_type": "code",
   "execution_count": 72,
   "metadata": {},
   "outputs": [
    {
     "name": "stdout",
     "output_type": "stream",
     "text": [
      "[1, 2, 3, 4, 5, 6, 7, 8, 9, 10, 11, 12, 15, 25, 35, 50]\n"
     ]
    }
   ],
   "source": [
    "plot_x_vals2 = x_vals[0:16]\n",
    "print(plot_x_vals2)"
   ]
  },
  {
   "cell_type": "code",
   "execution_count": 73,
   "metadata": {},
   "outputs": [
    {
     "data": {
      "text/plain": [
       "<matplotlib.legend.Legend at 0x7f9face27a60>"
      ]
     },
     "execution_count": 73,
     "metadata": {},
     "output_type": "execute_result"
    },
    {
     "data": {
      "image/png": "[encoded data removed]",
      "text/plain": [
       "<Figure size 432x288 with 1 Axes>"
      ]
     },
     "metadata": {
      "needs_background": "light"
     },
     "output_type": "display_data"
    }
   ],
   "source": [
    "plt.errorbar(plot_x_vals2,[on_ratios_means[k] for k in plot_x_vals2],[on_ratios_vars[k] for k in plot_x_vals2],label=\"on\")\n",
    "plt.errorbar(plot_x_vals2,[off_ratios_means[k] for k in plot_x_vals2],[off_ratios_vars[k] for k in plot_x_vals2],label=\"off\")\n",
    "plt.legend()"
   ]
  },
  {
   "cell_type": "code",
   "execution_count": 88,
   "metadata": {},
   "outputs": [
    {
     "data": {
      "text/html": [
       "        <script type=\"text/javascript\">\n",
       "        window.PlotlyConfig = {MathJaxConfig: 'local'};\n",
       "        if (window.MathJax) {MathJax.Hub.Config({SVG: {font: \"STIX-Web\"}});}\n",
       "        if (typeof require !== 'undefined') {\n",
       "        require.undef(\"plotly\");\n",
       "        requirejs.config({\n",
       "            paths: {\n",
       "                'plotly': ['https://cdn.plot.ly/plotly-latest.min']\n",
       "            }\n",
       "        });\n",
       "        require(['plotly'], function(Plotly) {\n",
       "            window._Plotly = Plotly;\n",
       "        });\n",
       "        }\n",
       "        </script>\n",
       "        "
      ]
     },
     "metadata": {},
     "output_type": "display_data"
    },
    {
     "data": {
      "application/vnd.plotly.v1+json": {
       "config": {
        "linkText": "Export to plot.ly",
        "plotlyServerURL": "https://plot.ly",
        "showLink": false
       },
       "data": [
        {
         "legendgroup": "[1.0, 0.05, 0.06, 0.09, 0.1, 0.13, 0.08, 0.09, 0.11, 0.07, 0.08, 0.08, 0.12, 0.12, 0.14, 0.08, 0.06, 0.16, 0.06, 0.1, 0.05, 0.06, 0.09, 0.07, 0.12, 0.08, 0.09, 0.1, 0.07, 0.08, 0.11, 0.1, 0.08, 0.11, 0.1, 0.13, 0.08, 0.16, 0.13, 0.11, 0.1, 0.07, 0.07, 0.07, 0.09, 0.09, 0.11, 0.12, 0.11, 0.12, 0.07, 0.07, 0.07, 0.09, 0.13, 0.12, 0.09, 0.08, 0.09, 0.04, 0.09, 0.08, 0.16, 0.14, 0.07, 0.07, 0.08, 0.07, 0.12, 0.13, 0.1, 0.07, 0.09, 0.11, 0.14, 0.14, 0.11, 0.11, 0.1, 0.06, 0.07, 0.16, 0.13, 0.1, 0.08, 0.06, 0.1, 0.06, 0.11, 0.07, 0.08, 0.09, 0.07, 0.09, 0.1, 0.1, 0.12, 0.1, 0.08, 0.04]",
         "line": {
          "dash": "dot",
          "width": 1
         },
         "marker": {
          "color": "#444"
         },
         "mode": "lines",
         "name": "OFF Upper Bound",
         "showlegend": false,
         "type": "scatter",
         "x": [
          0,
          1.0101,
          2.0202,
          3.0303,
          4.0404,
          5.05051,
          6.06061,
          7.07071,
          8.08081,
          9.09091,
          10.101,
          11.1111,
          12.1212,
          13.1313,
          14.1414,
          15.1515,
          16.1616,
          17.1717,
          18.1818,
          19.1919,
          20.202,
          21.2121,
          22.2222,
          23.2323,
          24.2424,
          25.2525,
          26.2626,
          27.2727,
          28.2828,
          29.2929,
          30.303,
          31.3131,
          32.3232,
          33.3333,
          34.3434,
          35.3535,
          36.3636,
          37.3737,
          38.3838,
          39.3939,
          40.404,
          41.4141,
          42.4242,
          43.4343,
          44.4444,
          45.4545,
          46.4646,
          47.4747,
          48.4848,
          49.4949,
          50.5051,
          51.5152,
          52.5253,
          53.5354,
          54.5455,
          55.5556,
          56.5657,
          57.5758,
          58.5859,
          59.596,
          60.6061,
          61.6162,
          62.6263,
          63.6364,
          64.6465,
          65.6566,
          66.6667,
          67.6768,
          68.6869,
          69.697,
          70.7071,
          71.7172,
          72.7273,
          73.7374,
          74.7475,
          75.7576,
          76.7677,
          77.7778,
          78.7879,
          79.798,
          80.8081,
          81.8182,
          82.8283,
          83.8384,
          84.8485,
          85.8586,
          86.8687,
          87.8788,
          88.8889,
          89.899,
          90.9091,
          91.9192,
          92.9293,
          93.9394,
          94.9495,
          95.9596,
          96.9697,
          97.9798,
          98.9899,
          100
         ],
         "y": [
          1,
          0.26794494717703404,
          0.2974868417407581,
          0.3761817604250838,
          0.3999999999999998,
          0.4663034344160044,
          0.35129319932501096,
          0.37618176042508356,
          0.4228897569432405,
          0.3251470164434616,
          0.3512931993250109,
          0.35129319932501085,
          0.4449615361854386,
          0.4449615361854386,
          0.4869870314579493,
          0.35129319932501096,
          0.29748684174075823,
          0.5266060555964676,
          0.2974868417407581,
          0.3999999999999998,
          0.26794494717703354,
          0.2974868417407583,
          0.37618176042508356,
          0.3251470164434616,
          0.4449615361854386,
          0.351293199325011,
          0.3761817604250838,
          0.3999999999999998,
          0.32514701644346156,
          0.35129319932501096,
          0.42288975694324055,
          0.3999999999999998,
          0.3512931993250109,
          0.42288975694324055,
          0.3999999999999998,
          0.46630343441600447,
          0.35129319932501096,
          0.5266060555964672,
          0.4663034344160045,
          0.42288975694324044,
          0.3999999999999999,
          0.3251470164434615,
          0.32514701644346156,
          0.32514701644346156,
          0.37618176042508367,
          0.37618176042508367,
          0.42288975694324055,
          0.4449615361854386,
          0.42288975694324055,
          0.44496153618543866,
          0.3251470164434615,
          0.3251470164434615,
          0.3251470164434616,
          0.37618176042508356,
          0.46630343441600447,
          0.44496153618543866,
          0.3761817604250838,
          0.351293199325011,
          0.3761817604250838,
          0.23595917942265407,
          0.3761817604250838,
          0.35129319932501096,
          0.5266060555964673,
          0.48698703145794947,
          0.3251470164434615,
          0.32514701644346156,
          0.35129319932501085,
          0.3251470164434616,
          0.4449615361854386,
          0.4663034344160045,
          0.3999999999999999,
          0.3251470164434615,
          0.37618176042508367,
          0.4228897569432405,
          0.48698703145794936,
          0.48698703145794947,
          0.42288975694324044,
          0.42288975694324055,
          0.3999999999999998,
          0.29748684174075835,
          0.32514701644346156,
          0.5266060555964676,
          0.4663034344160046,
          0.3999999999999998,
          0.35129319932501085,
          0.29748684174075823,
          0.3999999999999998,
          0.2974868417407583,
          0.42288975694324044,
          0.3251470164434616,
          0.351293199325011,
          0.37618176042508356,
          0.3251470164434616,
          0.37618176042508356,
          0.3999999999999998,
          0.3999999999999998,
          0.44496153618543866,
          0.3999999999999999,
          0.35129319932501096,
          0.235959179422654
         ]
        },
        {
         "fill": "tonexty",
         "fillcolor": "rgba(68, 68, 68, 0.2)",
         "legendgroup": "[1.0, 0.05, 0.06, 0.09, 0.1, 0.13, 0.08, 0.09, 0.11, 0.07, 0.08, 0.08, 0.12, 0.12, 0.14, 0.08, 0.06, 0.16, 0.06, 0.1, 0.05, 0.06, 0.09, 0.07, 0.12, 0.08, 0.09, 0.1, 0.07, 0.08, 0.11, 0.1, 0.08, 0.11, 0.1, 0.13, 0.08, 0.16, 0.13, 0.11, 0.1, 0.07, 0.07, 0.07, 0.09, 0.09, 0.11, 0.12, 0.11, 0.12, 0.07, 0.07, 0.07, 0.09, 0.13, 0.12, 0.09, 0.08, 0.09, 0.04, 0.09, 0.08, 0.16, 0.14, 0.07, 0.07, 0.08, 0.07, 0.12, 0.13, 0.1, 0.07, 0.09, 0.11, 0.14, 0.14, 0.11, 0.11, 0.1, 0.06, 0.07, 0.16, 0.13, 0.1, 0.08, 0.06, 0.1, 0.06, 0.11, 0.07, 0.08, 0.09, 0.07, 0.09, 0.1, 0.1, 0.12, 0.1, 0.08, 0.04]",
         "name": "OFF",
         "type": "scatter",
         "x": [
          0,
          1.0101,
          2.0202,
          3.0303,
          4.0404,
          5.05051,
          6.06061,
          7.07071,
          8.08081,
          9.09091,
          10.101,
          11.1111,
          12.1212,
          13.1313,
          14.1414,
          15.1515,
          16.1616,
          17.1717,
          18.1818,
          19.1919,
          20.202,
          21.2121,
          22.2222,
          23.2323,
          24.2424,
          25.2525,
          26.2626,
          27.2727,
          28.2828,
          29.2929,
          30.303,
          31.3131,
          32.3232,
          33.3333,
          34.3434,
          35.3535,
          36.3636,
          37.3737,
          38.3838,
          39.3939,
          40.404,
          41.4141,
          42.4242,
          43.4343,
          44.4444,
          45.4545,
          46.4646,
          47.4747,
          48.4848,
          49.4949,
          50.5051,
          51.5152,
          52.5253,
          53.5354,
          54.5455,
          55.5556,
          56.5657,
          57.5758,
          58.5859,
          59.596,
          60.6061,
          61.6162,
          62.6263,
          63.6364,
          64.6465,
          65.6566,
          66.6667,
          67.6768,
          68.6869,
          69.697,
          70.7071,
          71.7172,
          72.7273,
          73.7374,
          74.7475,
          75.7576,
          76.7677,
          77.7778,
          78.7879,
          79.798,
          80.8081,
          81.8182,
          82.8283,
          83.8384,
          84.8485,
          85.8586,
          86.8687,
          87.8788,
          88.8889,
          89.899,
          90.9091,
          91.9192,
          92.9293,
          93.9394,
          94.9495,
          95.9596,
          96.9697,
          97.9798,
          98.9899,
          100
         ],
         "y": [
          1,
          0.05,
          0.06,
          0.09,
          0.1,
          0.13,
          0.08,
          0.09,
          0.11,
          0.07,
          0.08,
          0.08,
          0.12,
          0.12,
          0.14,
          0.08,
          0.06,
          0.16,
          0.06,
          0.1,
          0.05,
          0.06,
          0.09,
          0.07,
          0.12,
          0.08,
          0.09,
          0.1,
          0.07,
          0.08,
          0.11,
          0.1,
          0.08,
          0.11,
          0.1,
          0.13,
          0.08,
          0.16,
          0.13,
          0.11,
          0.1,
          0.07,
          0.07,
          0.07,
          0.09,
          0.09,
          0.11,
          0.12,
          0.11,
          0.12,
          0.07,
          0.07,
          0.07,
          0.09,
          0.13,
          0.12,
          0.09,
          0.08,
          0.09,
          0.04,
          0.09,
          0.08,
          0.16,
          0.14,
          0.07,
          0.07,
          0.08,
          0.07,
          0.12,
          0.13,
          0.1,
          0.07,
          0.09,
          0.11,
          0.14,
          0.14,
          0.11,
          0.11,
          0.1,
          0.06,
          0.07,
          0.16,
          0.13,
          0.1,
          0.08,
          0.06,
          0.1,
          0.06,
          0.11,
          0.07,
          0.08,
          0.09,
          0.07,
          0.09,
          0.1,
          0.1,
          0.12,
          0.1,
          0.08,
          0.04
         ]
        },
        {
         "fill": "tonexty",
         "fillcolor": "rgba(68, 68, 68, 0.2)",
         "legendgroup": "[1.0, 0.05, 0.06, 0.09, 0.1, 0.13, 0.08, 0.09, 0.11, 0.07, 0.08, 0.08, 0.12, 0.12, 0.14, 0.08, 0.06, 0.16, 0.06, 0.1, 0.05, 0.06, 0.09, 0.07, 0.12, 0.08, 0.09, 0.1, 0.07, 0.08, 0.11, 0.1, 0.08, 0.11, 0.1, 0.13, 0.08, 0.16, 0.13, 0.11, 0.1, 0.07, 0.07, 0.07, 0.09, 0.09, 0.11, 0.12, 0.11, 0.12, 0.07, 0.07, 0.07, 0.09, 0.13, 0.12, 0.09, 0.08, 0.09, 0.04, 0.09, 0.08, 0.16, 0.14, 0.07, 0.07, 0.08, 0.07, 0.12, 0.13, 0.1, 0.07, 0.09, 0.11, 0.14, 0.14, 0.11, 0.11, 0.1, 0.06, 0.07, 0.16, 0.13, 0.1, 0.08, 0.06, 0.1, 0.06, 0.11, 0.07, 0.08, 0.09, 0.07, 0.09, 0.1, 0.1, 0.12, 0.1, 0.08, 0.04]",
         "line": {
          "dash": "dot",
          "width": 1
         },
         "marker": {
          "color": "#444"
         },
         "mode": "lines",
         "name": "OFF Lower Bound",
         "showlegend": false,
         "type": "scatter",
         "x": [
          0,
          1.0101,
          2.0202,
          3.0303,
          4.0404,
          5.05051,
          6.06061,
          7.07071,
          8.08081,
          9.09091,
          10.101,
          11.1111,
          12.1212,
          13.1313,
          14.1414,
          15.1515,
          16.1616,
          17.1717,
          18.1818,
          19.1919,
          20.202,
          21.2121,
          22.2222,
          23.2323,
          24.2424,
          25.2525,
          26.2626,
          27.2727,
          28.2828,
          29.2929,
          30.303,
          31.3131,
          32.3232,
          33.3333,
          34.3434,
          35.3535,
          36.3636,
          37.3737,
          38.3838,
          39.3939,
          40.404,
          41.4141,
          42.4242,
          43.4343,
          44.4444,
          45.4545,
          46.4646,
          47.4747,
          48.4848,
          49.4949,
          50.5051,
          51.5152,
          52.5253,
          53.5354,
          54.5455,
          55.5556,
          56.5657,
          57.5758,
          58.5859,
          59.596,
          60.6061,
          61.6162,
          62.6263,
          63.6364,
          64.6465,
          65.6566,
          66.6667,
          67.6768,
          68.6869,
          69.697,
          70.7071,
          71.7172,
          72.7273,
          73.7374,
          74.7475,
          75.7576,
          76.7677,
          77.7778,
          78.7879,
          79.798,
          80.8081,
          81.8182,
          82.8283,
          83.8384,
          84.8485,
          85.8586,
          86.8687,
          87.8788,
          88.8889,
          89.899,
          90.9091,
          91.9192,
          92.9293,
          93.9394,
          94.9495,
          95.9596,
          96.9697,
          97.9798,
          98.9899,
          100
         ],
         "y": [
          1,
          -0.16794494717703407,
          -0.1774868417407581,
          -0.19618176042508376,
          -0.19999999999999976,
          -0.2063034344160044,
          -0.19129319932501093,
          -0.1961817604250836,
          -0.20288975694324052,
          -0.1851470164434616,
          -0.19129319932501088,
          -0.19129319932501082,
          -0.2049615361854386,
          -0.2049615361854386,
          -0.20698703145794928,
          -0.19129319932501093,
          -0.17748684174075827,
          -0.20660605559646758,
          -0.17748684174075816,
          -0.19999999999999976,
          -0.16794494717703357,
          -0.1774868417407583,
          -0.1961817604250836,
          -0.1851470164434616,
          -0.2049615361854386,
          -0.191293199325011,
          -0.19618176042508376,
          -0.19999999999999976,
          -0.18514701644346154,
          -0.19129319932501093,
          -0.20288975694324057,
          -0.19999999999999976,
          -0.19129319932501088,
          -0.20288975694324057,
          -0.19999999999999982,
          -0.20630343441600446,
          -0.19129319932501093,
          -0.20660605559646725,
          -0.20630343441600452,
          -0.20288975694324046,
          -0.19999999999999987,
          -0.1851470164434615,
          -0.18514701644346154,
          -0.18514701644346154,
          -0.1961817604250837,
          -0.1961817604250837,
          -0.20288975694324057,
          -0.2049615361854386,
          -0.20288975694324057,
          -0.20496153618543866,
          -0.1851470164434615,
          -0.1851470164434615,
          -0.1851470164434616,
          -0.1961817604250836,
          -0.20630343441600446,
          -0.20496153618543866,
          -0.19618176042508376,
          -0.191293199325011,
          -0.19618176042508376,
          -0.15595917942265405,
          -0.1961817604250838,
          -0.19129319932501093,
          -0.20660605559646736,
          -0.20698703145794944,
          -0.1851470164434615,
          -0.18514701644346154,
          -0.19129319932501082,
          -0.1851470164434616,
          -0.2049615361854386,
          -0.20630343441600452,
          -0.19999999999999987,
          -0.1851470164434615,
          -0.1961817604250837,
          -0.20288975694324052,
          -0.20698703145794933,
          -0.20698703145794944,
          -0.20288975694324046,
          -0.20288975694324057,
          -0.19999999999999976,
          -0.17748684174075835,
          -0.18514701644346154,
          -0.20660605559646758,
          -0.20630343441600457,
          -0.19999999999999982,
          -0.19129319932501082,
          -0.17748684174075824,
          -0.19999999999999976,
          -0.1774868417407583,
          -0.20288975694324046,
          -0.1851470164434616,
          -0.191293199325011,
          -0.19618176042508353,
          -0.1851470164434616,
          -0.1961817604250836,
          -0.19999999999999976,
          -0.19999999999999976,
          -0.20496153618543866,
          -0.19999999999999987,
          -0.19129319932501093,
          -0.15595917942265397
         ]
        },
        {
         "legendgroup": "[0.0, 0.95, 0.94, 0.91, 0.9, 0.87, 0.92, 0.91, 0.89, 0.93, 0.92, 0.92, 0.88, 0.88, 0.86, 0.92, 0.94, 0.84, 0.94, 0.9, 0.95, 0.94, 0.91, 0.93, 0.88, 0.92, 0.91, 0.9, 0.93, 0.92, 0.89, 0.9, 0.92, 0.89, 0.9, 0.87, 0.92, 0.84, 0.87, 0.89, 0.9, 0.93, 0.93, 0.93, 0.91, 0.91, 0.89, 0.88, 0.89, 0.88, 0.93, 0.93, 0.93, 0.91, 0.87, 0.88, 0.91, 0.92, 0.91, 0.96, 0.91, 0.92, 0.84, 0.86, 0.93, 0.93, 0.92, 0.93, 0.88, 0.87, 0.9, 0.93, 0.91, 0.89, 0.86, 0.86, 0.89, 0.89, 0.9, 0.94, 0.93, 0.84, 0.87, 0.9, 0.92, 0.94, 0.9, 0.94, 0.89, 0.93, 0.92, 0.91, 0.93, 0.91, 0.9, 0.9, 0.88, 0.9, 0.92, 0.96]",
         "line": {
          "dash": "dot",
          "width": 1
         },
         "marker": {
          "color": "#444"
         },
         "mode": "lines",
         "name": "ON Upper Bound",
         "showlegend": false,
         "type": "scatter",
         "x": [
          0,
          1.0101,
          2.0202,
          3.0303,
          4.0404,
          5.05051,
          6.06061,
          7.07071,
          8.08081,
          9.09091,
          10.101,
          11.1111,
          12.1212,
          13.1313,
          14.1414,
          15.1515,
          16.1616,
          17.1717,
          18.1818,
          19.1919,
          20.202,
          21.2121,
          22.2222,
          23.2323,
          24.2424,
          25.2525,
          26.2626,
          27.2727,
          28.2828,
          29.2929,
          30.303,
          31.3131,
          32.3232,
          33.3333,
          34.3434,
          35.3535,
          36.3636,
          37.3737,
          38.3838,
          39.3939,
          40.404,
          41.4141,
          42.4242,
          43.4343,
          44.4444,
          45.4545,
          46.4646,
          47.4747,
          48.4848,
          49.4949,
          50.5051,
          51.5152,
          52.5253,
          53.5354,
          54.5455,
          55.5556,
          56.5657,
          57.5758,
          58.5859,
          59.596,
          60.6061,
          61.6162,
          62.6263,
          63.6364,
          64.6465,
          65.6566,
          66.6667,
          67.6768,
          68.6869,
          69.697,
          70.7071,
          71.7172,
          72.7273,
          73.7374,
          74.7475,
          75.7576,
          76.7677,
          77.7778,
          78.7879,
          79.798,
          80.8081,
          81.8182,
          82.8283,
          83.8384,
          84.8485,
          85.8586,
          86.8687,
          87.8788,
          88.8889,
          89.899,
          90.9091,
          91.9192,
          92.9293,
          93.9394,
          94.9495,
          95.9596,
          96.9697,
          97.9798,
          98.9899,
          100
         ],
         "y": [
          0,
          1.167944947177034,
          1.177486841740758,
          1.1961817604250835,
          1.1999999999999997,
          1.2063034344160044,
          1.191293199325011,
          1.1961817604250835,
          1.2028897569432404,
          1.1851470164434617,
          1.1912931993250109,
          1.1912931993250109,
          1.2049615361854387,
          1.2049615361854387,
          1.2069870314579494,
          1.191293199325011,
          1.1774868417407582,
          1.2066060555964675,
          1.177486841740758,
          1.1999999999999997,
          1.1679449471770336,
          1.1774868417407582,
          1.1961817604250835,
          1.1851470164434617,
          1.2049615361854387,
          1.191293199325011,
          1.1961817604250835,
          1.1999999999999997,
          1.1851470164434617,
          1.191293199325011,
          1.2028897569432404,
          1.1999999999999997,
          1.1912931993250109,
          1.2028897569432404,
          1.1999999999999997,
          1.2063034344160044,
          1.191293199325011,
          1.2066060555964673,
          1.2063034344160046,
          1.2028897569432404,
          1.2,
          1.1851470164434617,
          1.1851470164434617,
          1.1851470164434617,
          1.1961817604250837,
          1.1961817604250835,
          1.2028897569432404,
          1.2049615361854387,
          1.2028897569432404,
          1.2049615361854387,
          1.1851470164434617,
          1.1851470164434617,
          1.1851470164434617,
          1.1961817604250835,
          1.2063034344160044,
          1.2049615361854387,
          1.1961817604250837,
          1.191293199325011,
          1.1961817604250837,
          1.155959179422654,
          1.1961817604250837,
          1.191293199325011,
          1.2066060555964673,
          1.2069870314579494,
          1.1851470164434617,
          1.1851470164434617,
          1.1912931993250109,
          1.1851470164434617,
          1.2049615361854387,
          1.2063034344160046,
          1.2,
          1.1851470164434617,
          1.1961817604250835,
          1.2028897569432404,
          1.2069870314579494,
          1.2069870314579494,
          1.2028897569432404,
          1.2028897569432404,
          1.1999999999999997,
          1.1774868417407582,
          1.1851470164434617,
          1.2066060555964675,
          1.2063034344160046,
          1.1999999999999997,
          1.1912931993250109,
          1.1774868417407582,
          1.1999999999999997,
          1.1774868417407582,
          1.2028897569432404,
          1.1851470164434617,
          1.191293199325011,
          1.1961817604250835,
          1.1851470164434617,
          1.1961817604250835,
          1.1999999999999997,
          1.1999999999999997,
          1.2049615361854387,
          1.2,
          1.191293199325011,
          1.155959179422654
         ]
        },
        {
         "fill": "tonexty",
         "fillcolor": "rgba(68, 68, 68, 0.2)",
         "legendgroup": "[0.0, 0.95, 0.94, 0.91, 0.9, 0.87, 0.92, 0.91, 0.89, 0.93, 0.92, 0.92, 0.88, 0.88, 0.86, 0.92, 0.94, 0.84, 0.94, 0.9, 0.95, 0.94, 0.91, 0.93, 0.88, 0.92, 0.91, 0.9, 0.93, 0.92, 0.89, 0.9, 0.92, 0.89, 0.9, 0.87, 0.92, 0.84, 0.87, 0.89, 0.9, 0.93, 0.93, 0.93, 0.91, 0.91, 0.89, 0.88, 0.89, 0.88, 0.93, 0.93, 0.93, 0.91, 0.87, 0.88, 0.91, 0.92, 0.91, 0.96, 0.91, 0.92, 0.84, 0.86, 0.93, 0.93, 0.92, 0.93, 0.88, 0.87, 0.9, 0.93, 0.91, 0.89, 0.86, 0.86, 0.89, 0.89, 0.9, 0.94, 0.93, 0.84, 0.87, 0.9, 0.92, 0.94, 0.9, 0.94, 0.89, 0.93, 0.92, 0.91, 0.93, 0.91, 0.9, 0.9, 0.88, 0.9, 0.92, 0.96]",
         "name": "ON",
         "type": "scatter",
         "x": [
          0,
          1.0101,
          2.0202,
          3.0303,
          4.0404,
          5.05051,
          6.06061,
          7.07071,
          8.08081,
          9.09091,
          10.101,
          11.1111,
          12.1212,
          13.1313,
          14.1414,
          15.1515,
          16.1616,
          17.1717,
          18.1818,
          19.1919,
          20.202,
          21.2121,
          22.2222,
          23.2323,
          24.2424,
          25.2525,
          26.2626,
          27.2727,
          28.2828,
          29.2929,
          30.303,
          31.3131,
          32.3232,
          33.3333,
          34.3434,
          35.3535,
          36.3636,
          37.3737,
          38.3838,
          39.3939,
          40.404,
          41.4141,
          42.4242,
          43.4343,
          44.4444,
          45.4545,
          46.4646,
          47.4747,
          48.4848,
          49.4949,
          50.5051,
          51.5152,
          52.5253,
          53.5354,
          54.5455,
          55.5556,
          56.5657,
          57.5758,
          58.5859,
          59.596,
          60.6061,
          61.6162,
          62.6263,
          63.6364,
          64.6465,
          65.6566,
          66.6667,
          67.6768,
          68.6869,
          69.697,
          70.7071,
          71.7172,
          72.7273,
          73.7374,
          74.7475,
          75.7576,
          76.7677,
          77.7778,
          78.7879,
          79.798,
          80.8081,
          81.8182,
          82.8283,
          83.8384,
          84.8485,
          85.8586,
          86.8687,
          87.8788,
          88.8889,
          89.899,
          90.9091,
          91.9192,
          92.9293,
          93.9394,
          94.9495,
          95.9596,
          96.9697,
          97.9798,
          98.9899,
          100
         ],
         "y": [
          0,
          0.95,
          0.94,
          0.91,
          0.9,
          0.87,
          0.92,
          0.91,
          0.89,
          0.93,
          0.92,
          0.92,
          0.88,
          0.88,
          0.86,
          0.92,
          0.94,
          0.84,
          0.94,
          0.9,
          0.95,
          0.94,
          0.91,
          0.93,
          0.88,
          0.92,
          0.91,
          0.9,
          0.93,
          0.92,
          0.89,
          0.9,
          0.92,
          0.89,
          0.9,
          0.87,
          0.92,
          0.84,
          0.87,
          0.89,
          0.9,
          0.93,
          0.93,
          0.93,
          0.91,
          0.91,
          0.89,
          0.88,
          0.89,
          0.88,
          0.93,
          0.93,
          0.93,
          0.91,
          0.87,
          0.88,
          0.91,
          0.92,
          0.91,
          0.96,
          0.91,
          0.92,
          0.84,
          0.86,
          0.93,
          0.93,
          0.92,
          0.93,
          0.88,
          0.87,
          0.9,
          0.93,
          0.91,
          0.89,
          0.86,
          0.86,
          0.89,
          0.89,
          0.9,
          0.94,
          0.93,
          0.84,
          0.87,
          0.9,
          0.92,
          0.94,
          0.9,
          0.94,
          0.89,
          0.93,
          0.92,
          0.91,
          0.93,
          0.91,
          0.9,
          0.9,
          0.88,
          0.9,
          0.92,
          0.96
         ]
        },
        {
         "fill": "tonexty",
         "fillcolor": "rgba(68, 68, 68, 0.2)",
         "legendgroup": "[0.0, 0.95, 0.94, 0.91, 0.9, 0.87, 0.92, 0.91, 0.89, 0.93, 0.92, 0.92, 0.88, 0.88, 0.86, 0.92, 0.94, 0.84, 0.94, 0.9, 0.95, 0.94, 0.91, 0.93, 0.88, 0.92, 0.91, 0.9, 0.93, 0.92, 0.89, 0.9, 0.92, 0.89, 0.9, 0.87, 0.92, 0.84, 0.87, 0.89, 0.9, 0.93, 0.93, 0.93, 0.91, 0.91, 0.89, 0.88, 0.89, 0.88, 0.93, 0.93, 0.93, 0.91, 0.87, 0.88, 0.91, 0.92, 0.91, 0.96, 0.91, 0.92, 0.84, 0.86, 0.93, 0.93, 0.92, 0.93, 0.88, 0.87, 0.9, 0.93, 0.91, 0.89, 0.86, 0.86, 0.89, 0.89, 0.9, 0.94, 0.93, 0.84, 0.87, 0.9, 0.92, 0.94, 0.9, 0.94, 0.89, 0.93, 0.92, 0.91, 0.93, 0.91, 0.9, 0.9, 0.88, 0.9, 0.92, 0.96]",
         "line": {
          "dash": "dot",
          "width": 1
         },
         "marker": {
          "color": "#444"
         },
         "mode": "lines",
         "name": "ON Lower Bound",
         "showlegend": false,
         "type": "scatter",
         "x": [
          0,
          1.0101,
          2.0202,
          3.0303,
          4.0404,
          5.05051,
          6.06061,
          7.07071,
          8.08081,
          9.09091,
          10.101,
          11.1111,
          12.1212,
          13.1313,
          14.1414,
          15.1515,
          16.1616,
          17.1717,
          18.1818,
          19.1919,
          20.202,
          21.2121,
          22.2222,
          23.2323,
          24.2424,
          25.2525,
          26.2626,
          27.2727,
          28.2828,
          29.2929,
          30.303,
          31.3131,
          32.3232,
          33.3333,
          34.3434,
          35.3535,
          36.3636,
          37.3737,
          38.3838,
          39.3939,
          40.404,
          41.4141,
          42.4242,
          43.4343,
          44.4444,
          45.4545,
          46.4646,
          47.4747,
          48.4848,
          49.4949,
          50.5051,
          51.5152,
          52.5253,
          53.5354,
          54.5455,
          55.5556,
          56.5657,
          57.5758,
          58.5859,
          59.596,
          60.6061,
          61.6162,
          62.6263,
          63.6364,
          64.6465,
          65.6566,
          66.6667,
          67.6768,
          68.6869,
          69.697,
          70.7071,
          71.7172,
          72.7273,
          73.7374,
          74.7475,
          75.7576,
          76.7677,
          77.7778,
          78.7879,
          79.798,
          80.8081,
          81.8182,
          82.8283,
          83.8384,
          84.8485,
          85.8586,
          86.8687,
          87.8788,
          88.8889,
          89.899,
          90.9091,
          91.9192,
          92.9293,
          93.9394,
          94.9495,
          95.9596,
          96.9697,
          97.9798,
          98.9899,
          100
         ],
         "y": [
          0,
          0.7320550528229659,
          0.7025131582592419,
          0.6238182395749166,
          0.6000000000000003,
          0.5336965655839956,
          0.6487068006749891,
          0.6238182395749166,
          0.5771102430567596,
          0.6748529835565384,
          0.6487068006749892,
          0.6487068006749892,
          0.5550384638145613,
          0.5550384638145613,
          0.5130129685420507,
          0.6487068006749891,
          0.7025131582592417,
          0.4733939444035324,
          0.7025131582592418,
          0.6000000000000003,
          0.7320550528229663,
          0.7025131582592417,
          0.6238182395749166,
          0.6748529835565384,
          0.5550384638145613,
          0.648706800674989,
          0.6238182395749166,
          0.6000000000000003,
          0.6748529835565384,
          0.6487068006749891,
          0.5771102430567595,
          0.6000000000000003,
          0.6487068006749892,
          0.5771102430567596,
          0.6000000000000002,
          0.5336965655839956,
          0.6487068006749891,
          0.4733939444035327,
          0.5336965655839955,
          0.5771102430567596,
          0.6000000000000001,
          0.6748529835565384,
          0.6748529835565384,
          0.6748529835565384,
          0.6238182395749163,
          0.6238182395749166,
          0.5771102430567596,
          0.5550384638145613,
          0.5771102430567597,
          0.5550384638145613,
          0.6748529835565384,
          0.6748529835565384,
          0.6748529835565384,
          0.6238182395749166,
          0.5336965655839956,
          0.5550384638145613,
          0.6238182395749163,
          0.648706800674989,
          0.6238182395749163,
          0.7640408205773459,
          0.6238182395749163,
          0.6487068006749891,
          0.4733939444035326,
          0.5130129685420506,
          0.6748529835565384,
          0.6748529835565384,
          0.6487068006749892,
          0.6748529835565384,
          0.5550384638145613,
          0.5336965655839955,
          0.6000000000000001,
          0.6748529835565384,
          0.6238182395749166,
          0.5771102430567596,
          0.5130129685420506,
          0.5130129685420506,
          0.5771102430567596,
          0.5771102430567596,
          0.6000000000000003,
          0.7025131582592417,
          0.6748529835565384,
          0.4733939444035324,
          0.5336965655839954,
          0.6000000000000002,
          0.6487068006749892,
          0.7025131582592417,
          0.6000000000000003,
          0.7025131582592417,
          0.5771102430567596,
          0.6748529835565384,
          0.648706800674989,
          0.6238182395749166,
          0.6748529835565384,
          0.6238182395749166,
          0.6000000000000003,
          0.6000000000000003,
          0.5550384638145613,
          0.6000000000000001,
          0.6487068006749891,
          0.764040820577346
         ]
        }
       ],
       "layout": {
        "legend": {
         "traceorder": "normal"
        },
        "showlegend": true,
        "template": {
         "data": {
          "bar": [
           {
            "error_x": {
             "color": "#2a3f5f"
            },
            "error_y": {
             "color": "#2a3f5f"
            },
            "marker": {
             "line": {
              "color": "#E5ECF6",
              "width": 0.5
             }
            },
            "type": "bar"
           }
          ],
          "barpolar": [
           {
            "marker": {
             "line": {
              "color": "#E5ECF6",
              "width": 0.5
             }
            },
            "type": "barpolar"
           }
          ],
          "carpet": [
           {
            "aaxis": {
             "endlinecolor": "#2a3f5f",
             "gridcolor": "white",
             "linecolor": "white",
             "minorgridcolor": "white",
             "startlinecolor": "#2a3f5f"
            },
            "baxis": {
             "endlinecolor": "#2a3f5f",
             "gridcolor": "white",
             "linecolor": "white",
             "minorgridcolor": "white",
             "startlinecolor": "#2a3f5f"
            },
            "type": "carpet"
           }
          ],
          "choropleth": [
           {
            "colorbar": {
             "outlinewidth": 0,
             "ticks": ""
            },
            "type": "choropleth"
           }
          ],
          "contour": [
           {
            "colorbar": {
             "outlinewidth": 0,
             "ticks": ""
            },
            "colorscale": [
             [
              0,
              "#0d0887"
             ],
             [
              0.1111111111111111,
              "#46039f"
             ],
             [
              0.2222222222222222,
              "#7201a8"
             ],
             [
              0.3333333333333333,
              "#9c179e"
             ],
             [
              0.4444444444444444,
              "#bd3786"
             ],
             [
              0.5555555555555556,
              "#d8576b"
             ],
             [
              0.6666666666666666,
              "#ed7953"
             ],
             [
              0.7777777777777778,
              "#fb9f3a"
             ],
             [
              0.8888888888888888,
              "#fdca26"
             ],
             [
              1,
              "#f0f921"
             ]
            ],
            "type": "contour"
           }
          ],
          "contourcarpet": [
           {
            "colorbar": {
             "outlinewidth": 0,
             "ticks": ""
            },
            "type": "contourcarpet"
           }
          ],
          "heatmap": [
           {
            "colorbar": {
             "outlinewidth": 0,
             "ticks": ""
            },
            "colorscale": [
             [
              0,
              "#0d0887"
             ],
             [
              0.1111111111111111,
              "#46039f"
             ],
             [
              0.2222222222222222,
              "#7201a8"
             ],
             [
              0.3333333333333333,
              "#9c179e"
             ],
             [
              0.4444444444444444,
              "#bd3786"
             ],
             [
              0.5555555555555556,
              "#d8576b"
             ],
             [
              0.6666666666666666,
              "#ed7953"
             ],
             [
              0.7777777777777778,
              "#fb9f3a"
             ],
             [
              0.8888888888888888,
              "#fdca26"
             ],
             [
              1,
              "#f0f921"
             ]
            ],
            "type": "heatmap"
           }
          ],
          "heatmapgl": [
           {
            "colorbar": {
             "outlinewidth": 0,
             "ticks": ""
            },
            "colorscale": [
             [
              0,
              "#0d0887"
             ],
             [
              0.1111111111111111,
              "#46039f"
             ],
             [
              0.2222222222222222,
              "#7201a8"
             ],
             [
              0.3333333333333333,
              "#9c179e"
             ],
             [
              0.4444444444444444,
              "#bd3786"
             ],
             [
              0.5555555555555556,
              "#d8576b"
             ],
             [
              0.6666666666666666,
              "#ed7953"
             ],
             [
              0.7777777777777778,
              "#fb9f3a"
             ],
             [
              0.8888888888888888,
              "#fdca26"
             ],
             [
              1,
              "#f0f921"
             ]
            ],
            "type": "heatmapgl"
           }
          ],
          "histogram": [
           {
            "marker": {
             "colorbar": {
              "outlinewidth": 0,
              "ticks": ""
             }
            },
            "type": "histogram"
           }
          ],
          "histogram2d": [
           {
            "colorbar": {
             "outlinewidth": 0,
             "ticks": ""
            },
            "colorscale": [
             [
              0,
              "#0d0887"
             ],
             [
              0.1111111111111111,
              "#46039f"
             ],
             [
              0.2222222222222222,
              "#7201a8"
             ],
             [
              0.3333333333333333,
              "#9c179e"
             ],
             [
              0.4444444444444444,
              "#bd3786"
             ],
             [
              0.5555555555555556,
              "#d8576b"
             ],
             [
              0.6666666666666666,
              "#ed7953"
             ],
             [
              0.7777777777777778,
              "#fb9f3a"
             ],
             [
              0.8888888888888888,
              "#fdca26"
             ],
             [
              1,
              "#f0f921"
             ]
            ],
            "type": "histogram2d"
           }
          ],
          "histogram2dcontour": [
           {
            "colorbar": {
             "outlinewidth": 0,
             "ticks": ""
            },
            "colorscale": [
             [
              0,
              "#0d0887"
             ],
             [
              0.1111111111111111,
              "#46039f"
             ],
             [
              0.2222222222222222,
              "#7201a8"
             ],
             [
              0.3333333333333333,
              "#9c179e"
             ],
             [
              0.4444444444444444,
              "#bd3786"
             ],
             [
              0.5555555555555556,
              "#d8576b"
             ],
             [
              0.6666666666666666,
              "#ed7953"
             ],
             [
              0.7777777777777778,
              "#fb9f3a"
             ],
             [
              0.8888888888888888,
              "#fdca26"
             ],
             [
              1,
              "#f0f921"
             ]
            ],
            "type": "histogram2dcontour"
           }
          ],
          "mesh3d": [
           {
            "colorbar": {
             "outlinewidth": 0,
             "ticks": ""
            },
            "type": "mesh3d"
           }
          ],
          "parcoords": [
           {
            "line": {
             "colorbar": {
              "outlinewidth": 0,
              "ticks": ""
             }
            },
            "type": "parcoords"
           }
          ],
          "pie": [
           {
            "automargin": true,
            "type": "pie"
           }
          ],
          "scatter": [
           {
            "marker": {
             "colorbar": {
              "outlinewidth": 0,
              "ticks": ""
             }
            },
            "type": "scatter"
           }
          ],
          "scatter3d": [
           {
            "line": {
             "colorbar": {
              "outlinewidth": 0,
              "ticks": ""
             }
            },
            "marker": {
             "colorbar": {
              "outlinewidth": 0,
              "ticks": ""
             }
            },
            "type": "scatter3d"
           }
          ],
          "scattercarpet": [
           {
            "marker": {
             "colorbar": {
              "outlinewidth": 0,
              "ticks": ""
             }
            },
            "type": "scattercarpet"
           }
          ],
          "scattergeo": [
           {
            "marker": {
             "colorbar": {
              "outlinewidth": 0,
              "ticks": ""
             }
            },
            "type": "scattergeo"
           }
          ],
          "scattergl": [
           {
            "marker": {
             "colorbar": {
              "outlinewidth": 0,
              "ticks": ""
             }
            },
            "type": "scattergl"
           }
          ],
          "scattermapbox": [
           {
            "marker": {
             "colorbar": {
              "outlinewidth": 0,
              "ticks": ""
             }
            },
            "type": "scattermapbox"
           }
          ],
          "scatterpolar": [
           {
            "marker": {
             "colorbar": {
              "outlinewidth": 0,
              "ticks": ""
             }
            },
            "type": "scatterpolar"
           }
          ],
          "scatterpolargl": [
           {
            "marker": {
             "colorbar": {
              "outlinewidth": 0,
              "ticks": ""
             }
            },
            "type": "scatterpolargl"
           }
          ],
          "scatterternary": [
           {
            "marker": {
             "colorbar": {
              "outlinewidth": 0,
              "ticks": ""
             }
            },
            "type": "scatterternary"
           }
          ],
          "surface": [
           {
            "colorbar": {
             "outlinewidth": 0,
             "ticks": ""
            },
            "colorscale": [
             [
              0,
              "#0d0887"
             ],
             [
              0.1111111111111111,
              "#46039f"
             ],
             [
              0.2222222222222222,
              "#7201a8"
             ],
             [
              0.3333333333333333,
              "#9c179e"
             ],
             [
              0.4444444444444444,
              "#bd3786"
             ],
             [
              0.5555555555555556,
              "#d8576b"
             ],
             [
              0.6666666666666666,
              "#ed7953"
             ],
             [
              0.7777777777777778,
              "#fb9f3a"
             ],
             [
              0.8888888888888888,
              "#fdca26"
             ],
             [
              1,
              "#f0f921"
             ]
            ],
            "type": "surface"
           }
          ],
          "table": [
           {
            "cells": {
             "fill": {
              "color": "#EBF0F8"
             },
             "line": {
              "color": "white"
             }
            },
            "header": {
             "fill": {
              "color": "#C8D4E3"
             },
             "line": {
              "color": "white"
             }
            },
            "type": "table"
           }
          ]
         },
         "layout": {
          "annotationdefaults": {
           "arrowcolor": "#2a3f5f",
           "arrowhead": 0,
           "arrowwidth": 1
          },
          "coloraxis": {
           "colorbar": {
            "outlinewidth": 0,
            "ticks": ""
           }
          },
          "colorscale": {
           "diverging": [
            [
             0,
             "#8e0152"
            ],
            [
             0.1,
             "#c51b7d"
            ],
            [
             0.2,
             "#de77ae"
            ],
            [
             0.3,
             "#f1b6da"
            ],
            [
             0.4,
             "#fde0ef"
            ],
            [
             0.5,
             "#f7f7f7"
            ],
            [
             0.6,
             "#e6f5d0"
            ],
            [
             0.7,
             "#b8e186"
            ],
            [
             0.8,
             "#7fbc41"
            ],
            [
             0.9,
             "#4d9221"
            ],
            [
             1,
             "#276419"
            ]
           ],
           "sequential": [
            [
             0,
             "#0d0887"
            ],
            [
             0.1111111111111111,
             "#46039f"
            ],
            [
             0.2222222222222222,
             "#7201a8"
            ],
            [
             0.3333333333333333,
             "#9c179e"
            ],
            [
             0.4444444444444444,
             "#bd3786"
            ],
            [
             0.5555555555555556,
             "#d8576b"
            ],
            [
             0.6666666666666666,
             "#ed7953"
            ],
            [
             0.7777777777777778,
             "#fb9f3a"
            ],
            [
             0.8888888888888888,
             "#fdca26"
            ],
            [
             1,
             "#f0f921"
            ]
           ],
           "sequentialminus": [
            [
             0,
             "#0d0887"
            ],
            [
             0.1111111111111111,
             "#46039f"
            ],
            [
             0.2222222222222222,
             "#7201a8"
            ],
            [
             0.3333333333333333,
             "#9c179e"
            ],
            [
             0.4444444444444444,
             "#bd3786"
            ],
            [
             0.5555555555555556,
             "#d8576b"
            ],
            [
             0.6666666666666666,
             "#ed7953"
            ],
            [
             0.7777777777777778,
             "#fb9f3a"
            ],
            [
             0.8888888888888888,
             "#fdca26"
            ],
            [
             1,
             "#f0f921"
            ]
           ]
          },
          "colorway": [
           "#636efa",
           "#EF553B",
           "#00cc96",
           "#ab63fa",
           "#FFA15A",
           "#19d3f3",
           "#FF6692",
           "#B6E880",
           "#FF97FF",
           "#FECB52"
          ],
          "font": {
           "color": "#2a3f5f"
          },
          "geo": {
           "bgcolor": "white",
           "lakecolor": "white",
           "landcolor": "#E5ECF6",
           "showlakes": true,
           "showland": true,
           "subunitcolor": "white"
          },
          "hoverlabel": {
           "align": "left"
          },
          "hovermode": "closest",
          "mapbox": {
           "style": "light"
          },
          "paper_bgcolor": "white",
          "plot_bgcolor": "#E5ECF6",
          "polar": {
           "angularaxis": {
            "gridcolor": "white",
            "linecolor": "white",
            "ticks": ""
           },
           "bgcolor": "#E5ECF6",
           "radialaxis": {
            "gridcolor": "white",
            "linecolor": "white",
            "ticks": ""
           }
          },
          "scene": {
           "xaxis": {
            "backgroundcolor": "#E5ECF6",
            "gridcolor": "white",
            "gridwidth": 2,
            "linecolor": "white",
            "showbackground": true,
            "ticks": "",
            "zerolinecolor": "white"
           },
           "yaxis": {
            "backgroundcolor": "#E5ECF6",
            "gridcolor": "white",
            "gridwidth": 2,
            "linecolor": "white",
            "showbackground": true,
            "ticks": "",
            "zerolinecolor": "white"
           },
           "zaxis": {
            "backgroundcolor": "#E5ECF6",
            "gridcolor": "white",
            "gridwidth": 2,
            "linecolor": "white",
            "showbackground": true,
            "ticks": "",
            "zerolinecolor": "white"
           }
          },
          "shapedefaults": {
           "line": {
            "color": "#2a3f5f"
           }
          },
          "ternary": {
           "aaxis": {
            "gridcolor": "white",
            "linecolor": "white",
            "ticks": ""
           },
           "baxis": {
            "gridcolor": "white",
            "linecolor": "white",
            "ticks": ""
           },
           "bgcolor": "#E5ECF6",
           "caxis": {
            "gridcolor": "white",
            "linecolor": "white",
            "ticks": ""
           }
          },
          "title": {
           "x": 0.05
          },
          "xaxis": {
           "automargin": true,
           "gridcolor": "white",
           "linecolor": "white",
           "ticks": "",
           "title": {
            "standoff": 15
           },
           "zerolinecolor": "white",
           "zerolinewidth": 2
          },
          "yaxis": {
           "automargin": true,
           "gridcolor": "white",
           "linecolor": "white",
           "ticks": "",
           "title": {
            "standoff": 15
           },
           "zerolinecolor": "white",
           "zerolinewidth": 2
          }
         }
        },
        "title": {
         "text": "Mean and Standard Deviation"
        },
        "xaxis": {
         "title": {
          "text": "Time"
         }
        },
        "yaxis": {
         "title": {
          "text": "Value"
         }
        }
       }
      },
      "text/html": [
       "<div>\n",
       "        \n",
       "        \n",
       "            <div id=\"1f854346-4811-4dea-a63d-df59d2ca238e\" class=\"plotly-graph-div\" style=\"height:525px; width:100%;\"></div>\n",
       "            <script type=\"text/javascript\">\n",
       "                require([\"plotly\"], function(Plotly) {\n",
       "                    window.PLOTLYENV=window.PLOTLYENV || {};\n",
       "                    \n",
       "                if (document.getElementById(\"1f854346-4811-4dea-a63d-df59d2ca238e\")) {\n",
       "                    Plotly.newPlot(\n",
       "                        '1f854346-4811-4dea-a63d-df59d2ca238e',\n",
       "                        [{\"legendgroup\": \"[1.0, 0.05, 0.06, 0.09, 0.1, 0.13, 0.08, 0.09, 0.11, 0.07, 0.08, 0.08, 0.12, 0.12, 0.14, 0.08, 0.06, 0.16, 0.06, 0.1, 0.05, 0.06, 0.09, 0.07, 0.12, 0.08, 0.09, 0.1, 0.07, 0.08, 0.11, 0.1, 0.08, 0.11, 0.1, 0.13, 0.08, 0.16, 0.13, 0.11, 0.1, 0.07, 0.07, 0.07, 0.09, 0.09, 0.11, 0.12, 0.11, 0.12, 0.07, 0.07, 0.07, 0.09, 0.13, 0.12, 0.09, 0.08, 0.09, 0.04, 0.09, 0.08, 0.16, 0.14, 0.07, 0.07, 0.08, 0.07, 0.12, 0.13, 0.1, 0.07, 0.09, 0.11, 0.14, 0.14, 0.11, 0.11, 0.1, 0.06, 0.07, 0.16, 0.13, 0.1, 0.08, 0.06, 0.1, 0.06, 0.11, 0.07, 0.08, 0.09, 0.07, 0.09, 0.1, 0.1, 0.12, 0.1, 0.08, 0.04]\", \"line\": {\"dash\": \"dot\", \"width\": 1}, \"marker\": {\"color\": \"#444\"}, \"mode\": \"lines\", \"name\": \"OFF Upper Bound\", \"showlegend\": false, \"type\": \"scatter\", \"x\": [0.0, 1.0101, 2.0202, 3.0303, 4.0404, 5.05051, 6.06061, 7.07071, 8.08081, 9.09091, 10.101, 11.1111, 12.1212, 13.1313, 14.1414, 15.1515, 16.1616, 17.1717, 18.1818, 19.1919, 20.202, 21.2121, 22.2222, 23.2323, 24.2424, 25.2525, 26.2626, 27.2727, 28.2828, 29.2929, 30.303, 31.3131, 32.3232, 33.3333, 34.3434, 35.3535, 36.3636, 37.3737, 38.3838, 39.3939, 40.404, 41.4141, 42.4242, 43.4343, 44.4444, 45.4545, 46.4646, 47.4747, 48.4848, 49.4949, 50.5051, 51.5152, 52.5253, 53.5354, 54.5455, 55.5556, 56.5657, 57.5758, 58.5859, 59.596, 60.6061, 61.6162, 62.6263, 63.6364, 64.6465, 65.6566, 66.6667, 67.6768, 68.6869, 69.697, 70.7071, 71.7172, 72.7273, 73.7374, 74.7475, 75.7576, 76.7677, 77.7778, 78.7879, 79.798, 80.8081, 81.8182, 82.8283, 83.8384, 84.8485, 85.8586, 86.8687, 87.8788, 88.8889, 89.899, 90.9091, 91.9192, 92.9293, 93.9394, 94.9495, 95.9596, 96.9697, 97.9798, 98.9899, 100.0], \"y\": [1.0, 0.26794494717703404, 0.2974868417407581, 0.3761817604250838, 0.3999999999999998, 0.4663034344160044, 0.35129319932501096, 0.37618176042508356, 0.4228897569432405, 0.3251470164434616, 0.3512931993250109, 0.35129319932501085, 0.4449615361854386, 0.4449615361854386, 0.4869870314579493, 0.35129319932501096, 0.29748684174075823, 0.5266060555964676, 0.2974868417407581, 0.3999999999999998, 0.26794494717703354, 0.2974868417407583, 0.37618176042508356, 0.3251470164434616, 0.4449615361854386, 0.351293199325011, 0.3761817604250838, 0.3999999999999998, 0.32514701644346156, 0.35129319932501096, 0.42288975694324055, 0.3999999999999998, 0.3512931993250109, 0.42288975694324055, 0.3999999999999998, 0.46630343441600447, 0.35129319932501096, 0.5266060555964672, 0.4663034344160045, 0.42288975694324044, 0.3999999999999999, 0.3251470164434615, 0.32514701644346156, 0.32514701644346156, 0.37618176042508367, 0.37618176042508367, 0.42288975694324055, 0.4449615361854386, 0.42288975694324055, 0.44496153618543866, 0.3251470164434615, 0.3251470164434615, 0.3251470164434616, 0.37618176042508356, 0.46630343441600447, 0.44496153618543866, 0.3761817604250838, 0.351293199325011, 0.3761817604250838, 0.23595917942265407, 0.3761817604250838, 0.35129319932501096, 0.5266060555964673, 0.48698703145794947, 0.3251470164434615, 0.32514701644346156, 0.35129319932501085, 0.3251470164434616, 0.4449615361854386, 0.4663034344160045, 0.3999999999999999, 0.3251470164434615, 0.37618176042508367, 0.4228897569432405, 0.48698703145794936, 0.48698703145794947, 0.42288975694324044, 0.42288975694324055, 0.3999999999999998, 0.29748684174075835, 0.32514701644346156, 0.5266060555964676, 0.4663034344160046, 0.3999999999999998, 0.35129319932501085, 0.29748684174075823, 0.3999999999999998, 0.2974868417407583, 0.42288975694324044, 0.3251470164434616, 0.351293199325011, 0.37618176042508356, 0.3251470164434616, 0.37618176042508356, 0.3999999999999998, 0.3999999999999998, 0.44496153618543866, 0.3999999999999999, 0.35129319932501096, 0.235959179422654]}, {\"fill\": \"tonexty\", \"fillcolor\": \"rgba(68, 68, 68, 0.2)\", \"legendgroup\": \"[1.0, 0.05, 0.06, 0.09, 0.1, 0.13, 0.08, 0.09, 0.11, 0.07, 0.08, 0.08, 0.12, 0.12, 0.14, 0.08, 0.06, 0.16, 0.06, 0.1, 0.05, 0.06, 0.09, 0.07, 0.12, 0.08, 0.09, 0.1, 0.07, 0.08, 0.11, 0.1, 0.08, 0.11, 0.1, 0.13, 0.08, 0.16, 0.13, 0.11, 0.1, 0.07, 0.07, 0.07, 0.09, 0.09, 0.11, 0.12, 0.11, 0.12, 0.07, 0.07, 0.07, 0.09, 0.13, 0.12, 0.09, 0.08, 0.09, 0.04, 0.09, 0.08, 0.16, 0.14, 0.07, 0.07, 0.08, 0.07, 0.12, 0.13, 0.1, 0.07, 0.09, 0.11, 0.14, 0.14, 0.11, 0.11, 0.1, 0.06, 0.07, 0.16, 0.13, 0.1, 0.08, 0.06, 0.1, 0.06, 0.11, 0.07, 0.08, 0.09, 0.07, 0.09, 0.1, 0.1, 0.12, 0.1, 0.08, 0.04]\", \"name\": \"OFF\", \"type\": \"scatter\", \"x\": [0.0, 1.0101, 2.0202, 3.0303, 4.0404, 5.05051, 6.06061, 7.07071, 8.08081, 9.09091, 10.101, 11.1111, 12.1212, 13.1313, 14.1414, 15.1515, 16.1616, 17.1717, 18.1818, 19.1919, 20.202, 21.2121, 22.2222, 23.2323, 24.2424, 25.2525, 26.2626, 27.2727, 28.2828, 29.2929, 30.303, 31.3131, 32.3232, 33.3333, 34.3434, 35.3535, 36.3636, 37.3737, 38.3838, 39.3939, 40.404, 41.4141, 42.4242, 43.4343, 44.4444, 45.4545, 46.4646, 47.4747, 48.4848, 49.4949, 50.5051, 51.5152, 52.5253, 53.5354, 54.5455, 55.5556, 56.5657, 57.5758, 58.5859, 59.596, 60.6061, 61.6162, 62.6263, 63.6364, 64.6465, 65.6566, 66.6667, 67.6768, 68.6869, 69.697, 70.7071, 71.7172, 72.7273, 73.7374, 74.7475, 75.7576, 76.7677, 77.7778, 78.7879, 79.798, 80.8081, 81.8182, 82.8283, 83.8384, 84.8485, 85.8586, 86.8687, 87.8788, 88.8889, 89.899, 90.9091, 91.9192, 92.9293, 93.9394, 94.9495, 95.9596, 96.9697, 97.9798, 98.9899, 100.0], \"y\": [1.0, 0.05, 0.06, 0.09, 0.1, 0.13, 0.08, 0.09, 0.11, 0.07, 0.08, 0.08, 0.12, 0.12, 0.14, 0.08, 0.06, 0.16, 0.06, 0.1, 0.05, 0.06, 0.09, 0.07, 0.12, 0.08, 0.09, 0.1, 0.07, 0.08, 0.11, 0.1, 0.08, 0.11, 0.1, 0.13, 0.08, 0.16, 0.13, 0.11, 0.1, 0.07, 0.07, 0.07, 0.09, 0.09, 0.11, 0.12, 0.11, 0.12, 0.07, 0.07, 0.07, 0.09, 0.13, 0.12, 0.09, 0.08, 0.09, 0.04, 0.09, 0.08, 0.16, 0.14, 0.07, 0.07, 0.08, 0.07, 0.12, 0.13, 0.1, 0.07, 0.09, 0.11, 0.14, 0.14, 0.11, 0.11, 0.1, 0.06, 0.07, 0.16, 0.13, 0.1, 0.08, 0.06, 0.1, 0.06, 0.11, 0.07, 0.08, 0.09, 0.07, 0.09, 0.1, 0.1, 0.12, 0.1, 0.08, 0.04]}, {\"fill\": \"tonexty\", \"fillcolor\": \"rgba(68, 68, 68, 0.2)\", \"legendgroup\": \"[1.0, 0.05, 0.06, 0.09, 0.1, 0.13, 0.08, 0.09, 0.11, 0.07, 0.08, 0.08, 0.12, 0.12, 0.14, 0.08, 0.06, 0.16, 0.06, 0.1, 0.05, 0.06, 0.09, 0.07, 0.12, 0.08, 0.09, 0.1, 0.07, 0.08, 0.11, 0.1, 0.08, 0.11, 0.1, 0.13, 0.08, 0.16, 0.13, 0.11, 0.1, 0.07, 0.07, 0.07, 0.09, 0.09, 0.11, 0.12, 0.11, 0.12, 0.07, 0.07, 0.07, 0.09, 0.13, 0.12, 0.09, 0.08, 0.09, 0.04, 0.09, 0.08, 0.16, 0.14, 0.07, 0.07, 0.08, 0.07, 0.12, 0.13, 0.1, 0.07, 0.09, 0.11, 0.14, 0.14, 0.11, 0.11, 0.1, 0.06, 0.07, 0.16, 0.13, 0.1, 0.08, 0.06, 0.1, 0.06, 0.11, 0.07, 0.08, 0.09, 0.07, 0.09, 0.1, 0.1, 0.12, 0.1, 0.08, 0.04]\", \"line\": {\"dash\": \"dot\", \"width\": 1}, \"marker\": {\"color\": \"#444\"}, \"mode\": \"lines\", \"name\": \"OFF Lower Bound\", \"showlegend\": false, \"type\": \"scatter\", \"x\": [0.0, 1.0101, 2.0202, 3.0303, 4.0404, 5.05051, 6.06061, 7.07071, 8.08081, 9.09091, 10.101, 11.1111, 12.1212, 13.1313, 14.1414, 15.1515, 16.1616, 17.1717, 18.1818, 19.1919, 20.202, 21.2121, 22.2222, 23.2323, 24.2424, 25.2525, 26.2626, 27.2727, 28.2828, 29.2929, 30.303, 31.3131, 32.3232, 33.3333, 34.3434, 35.3535, 36.3636, 37.3737, 38.3838, 39.3939, 40.404, 41.4141, 42.4242, 43.4343, 44.4444, 45.4545, 46.4646, 47.4747, 48.4848, 49.4949, 50.5051, 51.5152, 52.5253, 53.5354, 54.5455, 55.5556, 56.5657, 57.5758, 58.5859, 59.596, 60.6061, 61.6162, 62.6263, 63.6364, 64.6465, 65.6566, 66.6667, 67.6768, 68.6869, 69.697, 70.7071, 71.7172, 72.7273, 73.7374, 74.7475, 75.7576, 76.7677, 77.7778, 78.7879, 79.798, 80.8081, 81.8182, 82.8283, 83.8384, 84.8485, 85.8586, 86.8687, 87.8788, 88.8889, 89.899, 90.9091, 91.9192, 92.9293, 93.9394, 94.9495, 95.9596, 96.9697, 97.9798, 98.9899, 100.0], \"y\": [1.0, -0.16794494717703407, -0.1774868417407581, -0.19618176042508376, -0.19999999999999976, -0.2063034344160044, -0.19129319932501093, -0.1961817604250836, -0.20288975694324052, -0.1851470164434616, -0.19129319932501088, -0.19129319932501082, -0.2049615361854386, -0.2049615361854386, -0.20698703145794928, -0.19129319932501093, -0.17748684174075827, -0.20660605559646758, -0.17748684174075816, -0.19999999999999976, -0.16794494717703357, -0.1774868417407583, -0.1961817604250836, -0.1851470164434616, -0.2049615361854386, -0.191293199325011, -0.19618176042508376, -0.19999999999999976, -0.18514701644346154, -0.19129319932501093, -0.20288975694324057, -0.19999999999999976, -0.19129319932501088, -0.20288975694324057, -0.19999999999999982, -0.20630343441600446, -0.19129319932501093, -0.20660605559646725, -0.20630343441600452, -0.20288975694324046, -0.19999999999999987, -0.1851470164434615, -0.18514701644346154, -0.18514701644346154, -0.1961817604250837, -0.1961817604250837, -0.20288975694324057, -0.2049615361854386, -0.20288975694324057, -0.20496153618543866, -0.1851470164434615, -0.1851470164434615, -0.1851470164434616, -0.1961817604250836, -0.20630343441600446, -0.20496153618543866, -0.19618176042508376, -0.191293199325011, -0.19618176042508376, -0.15595917942265405, -0.1961817604250838, -0.19129319932501093, -0.20660605559646736, -0.20698703145794944, -0.1851470164434615, -0.18514701644346154, -0.19129319932501082, -0.1851470164434616, -0.2049615361854386, -0.20630343441600452, -0.19999999999999987, -0.1851470164434615, -0.1961817604250837, -0.20288975694324052, -0.20698703145794933, -0.20698703145794944, -0.20288975694324046, -0.20288975694324057, -0.19999999999999976, -0.17748684174075835, -0.18514701644346154, -0.20660605559646758, -0.20630343441600457, -0.19999999999999982, -0.19129319932501082, -0.17748684174075824, -0.19999999999999976, -0.1774868417407583, -0.20288975694324046, -0.1851470164434616, -0.191293199325011, -0.19618176042508353, -0.1851470164434616, -0.1961817604250836, -0.19999999999999976, -0.19999999999999976, -0.20496153618543866, -0.19999999999999987, -0.19129319932501093, -0.15595917942265397]}, {\"legendgroup\": \"[0.0, 0.95, 0.94, 0.91, 0.9, 0.87, 0.92, 0.91, 0.89, 0.93, 0.92, 0.92, 0.88, 0.88, 0.86, 0.92, 0.94, 0.84, 0.94, 0.9, 0.95, 0.94, 0.91, 0.93, 0.88, 0.92, 0.91, 0.9, 0.93, 0.92, 0.89, 0.9, 0.92, 0.89, 0.9, 0.87, 0.92, 0.84, 0.87, 0.89, 0.9, 0.93, 0.93, 0.93, 0.91, 0.91, 0.89, 0.88, 0.89, 0.88, 0.93, 0.93, 0.93, 0.91, 0.87, 0.88, 0.91, 0.92, 0.91, 0.96, 0.91, 0.92, 0.84, 0.86, 0.93, 0.93, 0.92, 0.93, 0.88, 0.87, 0.9, 0.93, 0.91, 0.89, 0.86, 0.86, 0.89, 0.89, 0.9, 0.94, 0.93, 0.84, 0.87, 0.9, 0.92, 0.94, 0.9, 0.94, 0.89, 0.93, 0.92, 0.91, 0.93, 0.91, 0.9, 0.9, 0.88, 0.9, 0.92, 0.96]\", \"line\": {\"dash\": \"dot\", \"width\": 1}, \"marker\": {\"color\": \"#444\"}, \"mode\": \"lines\", \"name\": \"ON Upper Bound\", \"showlegend\": false, \"type\": \"scatter\", \"x\": [0.0, 1.0101, 2.0202, 3.0303, 4.0404, 5.05051, 6.06061, 7.07071, 8.08081, 9.09091, 10.101, 11.1111, 12.1212, 13.1313, 14.1414, 15.1515, 16.1616, 17.1717, 18.1818, 19.1919, 20.202, 21.2121, 22.2222, 23.2323, 24.2424, 25.2525, 26.2626, 27.2727, 28.2828, 29.2929, 30.303, 31.3131, 32.3232, 33.3333, 34.3434, 35.3535, 36.3636, 37.3737, 38.3838, 39.3939, 40.404, 41.4141, 42.4242, 43.4343, 44.4444, 45.4545, 46.4646, 47.4747, 48.4848, 49.4949, 50.5051, 51.5152, 52.5253, 53.5354, 54.5455, 55.5556, 56.5657, 57.5758, 58.5859, 59.596, 60.6061, 61.6162, 62.6263, 63.6364, 64.6465, 65.6566, 66.6667, 67.6768, 68.6869, 69.697, 70.7071, 71.7172, 72.7273, 73.7374, 74.7475, 75.7576, 76.7677, 77.7778, 78.7879, 79.798, 80.8081, 81.8182, 82.8283, 83.8384, 84.8485, 85.8586, 86.8687, 87.8788, 88.8889, 89.899, 90.9091, 91.9192, 92.9293, 93.9394, 94.9495, 95.9596, 96.9697, 97.9798, 98.9899, 100.0], \"y\": [0.0, 1.167944947177034, 1.177486841740758, 1.1961817604250835, 1.1999999999999997, 1.2063034344160044, 1.191293199325011, 1.1961817604250835, 1.2028897569432404, 1.1851470164434617, 1.1912931993250109, 1.1912931993250109, 1.2049615361854387, 1.2049615361854387, 1.2069870314579494, 1.191293199325011, 1.1774868417407582, 1.2066060555964675, 1.177486841740758, 1.1999999999999997, 1.1679449471770336, 1.1774868417407582, 1.1961817604250835, 1.1851470164434617, 1.2049615361854387, 1.191293199325011, 1.1961817604250835, 1.1999999999999997, 1.1851470164434617, 1.191293199325011, 1.2028897569432404, 1.1999999999999997, 1.1912931993250109, 1.2028897569432404, 1.1999999999999997, 1.2063034344160044, 1.191293199325011, 1.2066060555964673, 1.2063034344160046, 1.2028897569432404, 1.2, 1.1851470164434617, 1.1851470164434617, 1.1851470164434617, 1.1961817604250837, 1.1961817604250835, 1.2028897569432404, 1.2049615361854387, 1.2028897569432404, 1.2049615361854387, 1.1851470164434617, 1.1851470164434617, 1.1851470164434617, 1.1961817604250835, 1.2063034344160044, 1.2049615361854387, 1.1961817604250837, 1.191293199325011, 1.1961817604250837, 1.155959179422654, 1.1961817604250837, 1.191293199325011, 1.2066060555964673, 1.2069870314579494, 1.1851470164434617, 1.1851470164434617, 1.1912931993250109, 1.1851470164434617, 1.2049615361854387, 1.2063034344160046, 1.2, 1.1851470164434617, 1.1961817604250835, 1.2028897569432404, 1.2069870314579494, 1.2069870314579494, 1.2028897569432404, 1.2028897569432404, 1.1999999999999997, 1.1774868417407582, 1.1851470164434617, 1.2066060555964675, 1.2063034344160046, 1.1999999999999997, 1.1912931993250109, 1.1774868417407582, 1.1999999999999997, 1.1774868417407582, 1.2028897569432404, 1.1851470164434617, 1.191293199325011, 1.1961817604250835, 1.1851470164434617, 1.1961817604250835, 1.1999999999999997, 1.1999999999999997, 1.2049615361854387, 1.2, 1.191293199325011, 1.155959179422654]}, {\"fill\": \"tonexty\", \"fillcolor\": \"rgba(68, 68, 68, 0.2)\", \"legendgroup\": \"[0.0, 0.95, 0.94, 0.91, 0.9, 0.87, 0.92, 0.91, 0.89, 0.93, 0.92, 0.92, 0.88, 0.88, 0.86, 0.92, 0.94, 0.84, 0.94, 0.9, 0.95, 0.94, 0.91, 0.93, 0.88, 0.92, 0.91, 0.9, 0.93, 0.92, 0.89, 0.9, 0.92, 0.89, 0.9, 0.87, 0.92, 0.84, 0.87, 0.89, 0.9, 0.93, 0.93, 0.93, 0.91, 0.91, 0.89, 0.88, 0.89, 0.88, 0.93, 0.93, 0.93, 0.91, 0.87, 0.88, 0.91, 0.92, 0.91, 0.96, 0.91, 0.92, 0.84, 0.86, 0.93, 0.93, 0.92, 0.93, 0.88, 0.87, 0.9, 0.93, 0.91, 0.89, 0.86, 0.86, 0.89, 0.89, 0.9, 0.94, 0.93, 0.84, 0.87, 0.9, 0.92, 0.94, 0.9, 0.94, 0.89, 0.93, 0.92, 0.91, 0.93, 0.91, 0.9, 0.9, 0.88, 0.9, 0.92, 0.96]\", \"name\": \"ON\", \"type\": \"scatter\", \"x\": [0.0, 1.0101, 2.0202, 3.0303, 4.0404, 5.05051, 6.06061, 7.07071, 8.08081, 9.09091, 10.101, 11.1111, 12.1212, 13.1313, 14.1414, 15.1515, 16.1616, 17.1717, 18.1818, 19.1919, 20.202, 21.2121, 22.2222, 23.2323, 24.2424, 25.2525, 26.2626, 27.2727, 28.2828, 29.2929, 30.303, 31.3131, 32.3232, 33.3333, 34.3434, 35.3535, 36.3636, 37.3737, 38.3838, 39.3939, 40.404, 41.4141, 42.4242, 43.4343, 44.4444, 45.4545, 46.4646, 47.4747, 48.4848, 49.4949, 50.5051, 51.5152, 52.5253, 53.5354, 54.5455, 55.5556, 56.5657, 57.5758, 58.5859, 59.596, 60.6061, 61.6162, 62.6263, 63.6364, 64.6465, 65.6566, 66.6667, 67.6768, 68.6869, 69.697, 70.7071, 71.7172, 72.7273, 73.7374, 74.7475, 75.7576, 76.7677, 77.7778, 78.7879, 79.798, 80.8081, 81.8182, 82.8283, 83.8384, 84.8485, 85.8586, 86.8687, 87.8788, 88.8889, 89.899, 90.9091, 91.9192, 92.9293, 93.9394, 94.9495, 95.9596, 96.9697, 97.9798, 98.9899, 100.0], \"y\": [0.0, 0.95, 0.94, 0.91, 0.9, 0.87, 0.92, 0.91, 0.89, 0.93, 0.92, 0.92, 0.88, 0.88, 0.86, 0.92, 0.94, 0.84, 0.94, 0.9, 0.95, 0.94, 0.91, 0.93, 0.88, 0.92, 0.91, 0.9, 0.93, 0.92, 0.89, 0.9, 0.92, 0.89, 0.9, 0.87, 0.92, 0.84, 0.87, 0.89, 0.9, 0.93, 0.93, 0.93, 0.91, 0.91, 0.89, 0.88, 0.89, 0.88, 0.93, 0.93, 0.93, 0.91, 0.87, 0.88, 0.91, 0.92, 0.91, 0.96, 0.91, 0.92, 0.84, 0.86, 0.93, 0.93, 0.92, 0.93, 0.88, 0.87, 0.9, 0.93, 0.91, 0.89, 0.86, 0.86, 0.89, 0.89, 0.9, 0.94, 0.93, 0.84, 0.87, 0.9, 0.92, 0.94, 0.9, 0.94, 0.89, 0.93, 0.92, 0.91, 0.93, 0.91, 0.9, 0.9, 0.88, 0.9, 0.92, 0.96]}, {\"fill\": \"tonexty\", \"fillcolor\": \"rgba(68, 68, 68, 0.2)\", \"legendgroup\": \"[0.0, 0.95, 0.94, 0.91, 0.9, 0.87, 0.92, 0.91, 0.89, 0.93, 0.92, 0.92, 0.88, 0.88, 0.86, 0.92, 0.94, 0.84, 0.94, 0.9, 0.95, 0.94, 0.91, 0.93, 0.88, 0.92, 0.91, 0.9, 0.93, 0.92, 0.89, 0.9, 0.92, 0.89, 0.9, 0.87, 0.92, 0.84, 0.87, 0.89, 0.9, 0.93, 0.93, 0.93, 0.91, 0.91, 0.89, 0.88, 0.89, 0.88, 0.93, 0.93, 0.93, 0.91, 0.87, 0.88, 0.91, 0.92, 0.91, 0.96, 0.91, 0.92, 0.84, 0.86, 0.93, 0.93, 0.92, 0.93, 0.88, 0.87, 0.9, 0.93, 0.91, 0.89, 0.86, 0.86, 0.89, 0.89, 0.9, 0.94, 0.93, 0.84, 0.87, 0.9, 0.92, 0.94, 0.9, 0.94, 0.89, 0.93, 0.92, 0.91, 0.93, 0.91, 0.9, 0.9, 0.88, 0.9, 0.92, 0.96]\", \"line\": {\"dash\": \"dot\", \"width\": 1}, \"marker\": {\"color\": \"#444\"}, \"mode\": \"lines\", \"name\": \"ON Lower Bound\", \"showlegend\": false, \"type\": \"scatter\", \"x\": [0.0, 1.0101, 2.0202, 3.0303, 4.0404, 5.05051, 6.06061, 7.07071, 8.08081, 9.09091, 10.101, 11.1111, 12.1212, 13.1313, 14.1414, 15.1515, 16.1616, 17.1717, 18.1818, 19.1919, 20.202, 21.2121, 22.2222, 23.2323, 24.2424, 25.2525, 26.2626, 27.2727, 28.2828, 29.2929, 30.303, 31.3131, 32.3232, 33.3333, 34.3434, 35.3535, 36.3636, 37.3737, 38.3838, 39.3939, 40.404, 41.4141, 42.4242, 43.4343, 44.4444, 45.4545, 46.4646, 47.4747, 48.4848, 49.4949, 50.5051, 51.5152, 52.5253, 53.5354, 54.5455, 55.5556, 56.5657, 57.5758, 58.5859, 59.596, 60.6061, 61.6162, 62.6263, 63.6364, 64.6465, 65.6566, 66.6667, 67.6768, 68.6869, 69.697, 70.7071, 71.7172, 72.7273, 73.7374, 74.7475, 75.7576, 76.7677, 77.7778, 78.7879, 79.798, 80.8081, 81.8182, 82.8283, 83.8384, 84.8485, 85.8586, 86.8687, 87.8788, 88.8889, 89.899, 90.9091, 91.9192, 92.9293, 93.9394, 94.9495, 95.9596, 96.9697, 97.9798, 98.9899, 100.0], \"y\": [0.0, 0.7320550528229659, 0.7025131582592419, 0.6238182395749166, 0.6000000000000003, 0.5336965655839956, 0.6487068006749891, 0.6238182395749166, 0.5771102430567596, 0.6748529835565384, 0.6487068006749892, 0.6487068006749892, 0.5550384638145613, 0.5550384638145613, 0.5130129685420507, 0.6487068006749891, 0.7025131582592417, 0.4733939444035324, 0.7025131582592418, 0.6000000000000003, 0.7320550528229663, 0.7025131582592417, 0.6238182395749166, 0.6748529835565384, 0.5550384638145613, 0.648706800674989, 0.6238182395749166, 0.6000000000000003, 0.6748529835565384, 0.6487068006749891, 0.5771102430567595, 0.6000000000000003, 0.6487068006749892, 0.5771102430567596, 0.6000000000000002, 0.5336965655839956, 0.6487068006749891, 0.4733939444035327, 0.5336965655839955, 0.5771102430567596, 0.6000000000000001, 0.6748529835565384, 0.6748529835565384, 0.6748529835565384, 0.6238182395749163, 0.6238182395749166, 0.5771102430567596, 0.5550384638145613, 0.5771102430567597, 0.5550384638145613, 0.6748529835565384, 0.6748529835565384, 0.6748529835565384, 0.6238182395749166, 0.5336965655839956, 0.5550384638145613, 0.6238182395749163, 0.648706800674989, 0.6238182395749163, 0.7640408205773459, 0.6238182395749163, 0.6487068006749891, 0.4733939444035326, 0.5130129685420506, 0.6748529835565384, 0.6748529835565384, 0.6487068006749892, 0.6748529835565384, 0.5550384638145613, 0.5336965655839955, 0.6000000000000001, 0.6748529835565384, 0.6238182395749166, 0.5771102430567596, 0.5130129685420506, 0.5130129685420506, 0.5771102430567596, 0.5771102430567596, 0.6000000000000003, 0.7025131582592417, 0.6748529835565384, 0.4733939444035324, 0.5336965655839954, 0.6000000000000002, 0.6487068006749892, 0.7025131582592417, 0.6000000000000003, 0.7025131582592417, 0.5771102430567596, 0.6748529835565384, 0.648706800674989, 0.6238182395749166, 0.6748529835565384, 0.6238182395749166, 0.6000000000000003, 0.6000000000000003, 0.5550384638145613, 0.6000000000000001, 0.6487068006749891, 0.764040820577346]}],\n",
       "                        {\"legend\": {\"traceorder\": \"normal\"}, \"showlegend\": true, \"template\": {\"data\": {\"bar\": [{\"error_x\": {\"color\": \"#2a3f5f\"}, \"error_y\": {\"color\": \"#2a3f5f\"}, \"marker\": {\"line\": {\"color\": \"#E5ECF6\", \"width\": 0.5}}, \"type\": \"bar\"}], \"barpolar\": [{\"marker\": {\"line\": {\"color\": \"#E5ECF6\", \"width\": 0.5}}, \"type\": \"barpolar\"}], \"carpet\": [{\"aaxis\": {\"endlinecolor\": \"#2a3f5f\", \"gridcolor\": \"white\", \"linecolor\": \"white\", \"minorgridcolor\": \"white\", \"startlinecolor\": \"#2a3f5f\"}, \"baxis\": {\"endlinecolor\": \"#2a3f5f\", \"gridcolor\": \"white\", \"linecolor\": \"white\", \"minorgridcolor\": \"white\", \"startlinecolor\": \"#2a3f5f\"}, \"type\": \"carpet\"}], \"choropleth\": [{\"colorbar\": {\"outlinewidth\": 0, \"ticks\": \"\"}, \"type\": \"choropleth\"}], \"contour\": [{\"colorbar\": {\"outlinewidth\": 0, \"ticks\": \"\"}, \"colorscale\": [[0.0, \"#0d0887\"], [0.1111111111111111, \"#46039f\"], [0.2222222222222222, \"#7201a8\"], [0.3333333333333333, \"#9c179e\"], [0.4444444444444444, \"#bd3786\"], [0.5555555555555556, \"#d8576b\"], [0.6666666666666666, \"#ed7953\"], [0.7777777777777778, \"#fb9f3a\"], [0.8888888888888888, \"#fdca26\"], [1.0, \"#f0f921\"]], \"type\": \"contour\"}], \"contourcarpet\": [{\"colorbar\": {\"outlinewidth\": 0, \"ticks\": \"\"}, \"type\": \"contourcarpet\"}], \"heatmap\": [{\"colorbar\": {\"outlinewidth\": 0, \"ticks\": \"\"}, \"colorscale\": [[0.0, \"#0d0887\"], [0.1111111111111111, \"#46039f\"], [0.2222222222222222, \"#7201a8\"], [0.3333333333333333, \"#9c179e\"], [0.4444444444444444, \"#bd3786\"], [0.5555555555555556, \"#d8576b\"], [0.6666666666666666, \"#ed7953\"], [0.7777777777777778, \"#fb9f3a\"], [0.8888888888888888, \"#fdca26\"], [1.0, \"#f0f921\"]], \"type\": \"heatmap\"}], \"heatmapgl\": [{\"colorbar\": {\"outlinewidth\": 0, \"ticks\": \"\"}, \"colorscale\": [[0.0, \"#0d0887\"], [0.1111111111111111, \"#46039f\"], [0.2222222222222222, \"#7201a8\"], [0.3333333333333333, \"#9c179e\"], [0.4444444444444444, \"#bd3786\"], [0.5555555555555556, \"#d8576b\"], [0.6666666666666666, \"#ed7953\"], [0.7777777777777778, \"#fb9f3a\"], [0.8888888888888888, \"#fdca26\"], [1.0, \"#f0f921\"]], \"type\": \"heatmapgl\"}], \"histogram\": [{\"marker\": {\"colorbar\": {\"outlinewidth\": 0, \"ticks\": \"\"}}, \"type\": \"histogram\"}], \"histogram2d\": [{\"colorbar\": {\"outlinewidth\": 0, \"ticks\": \"\"}, \"colorscale\": [[0.0, \"#0d0887\"], [0.1111111111111111, \"#46039f\"], [0.2222222222222222, \"#7201a8\"], [0.3333333333333333, \"#9c179e\"], [0.4444444444444444, \"#bd3786\"], [0.5555555555555556, \"#d8576b\"], [0.6666666666666666, \"#ed7953\"], [0.7777777777777778, \"#fb9f3a\"], [0.8888888888888888, \"#fdca26\"], [1.0, \"#f0f921\"]], \"type\": \"histogram2d\"}], \"histogram2dcontour\": [{\"colorbar\": {\"outlinewidth\": 0, \"ticks\": \"\"}, \"colorscale\": [[0.0, \"#0d0887\"], [0.1111111111111111, \"#46039f\"], [0.2222222222222222, \"#7201a8\"], [0.3333333333333333, \"#9c179e\"], [0.4444444444444444, \"#bd3786\"], [0.5555555555555556, \"#d8576b\"], [0.6666666666666666, \"#ed7953\"], [0.7777777777777778, \"#fb9f3a\"], [0.8888888888888888, \"#fdca26\"], [1.0, \"#f0f921\"]], \"type\": \"histogram2dcontour\"}], \"mesh3d\": [{\"colorbar\": {\"outlinewidth\": 0, \"ticks\": \"\"}, \"type\": \"mesh3d\"}], \"parcoords\": [{\"line\": {\"colorbar\": {\"outlinewidth\": 0, \"ticks\": \"\"}}, \"type\": \"parcoords\"}], \"pie\": [{\"automargin\": true, \"type\": \"pie\"}], \"scatter\": [{\"marker\": {\"colorbar\": {\"outlinewidth\": 0, \"ticks\": \"\"}}, \"type\": \"scatter\"}], \"scatter3d\": [{\"line\": {\"colorbar\": {\"outlinewidth\": 0, \"ticks\": \"\"}}, \"marker\": {\"colorbar\": {\"outlinewidth\": 0, \"ticks\": \"\"}}, \"type\": \"scatter3d\"}], \"scattercarpet\": [{\"marker\": {\"colorbar\": {\"outlinewidth\": 0, \"ticks\": \"\"}}, \"type\": \"scattercarpet\"}], \"scattergeo\": [{\"marker\": {\"colorbar\": {\"outlinewidth\": 0, \"ticks\": \"\"}}, \"type\": \"scattergeo\"}], \"scattergl\": [{\"marker\": {\"colorbar\": {\"outlinewidth\": 0, \"ticks\": \"\"}}, \"type\": \"scattergl\"}], \"scattermapbox\": [{\"marker\": {\"colorbar\": {\"outlinewidth\": 0, \"ticks\": \"\"}}, \"type\": \"scattermapbox\"}], \"scatterpolar\": [{\"marker\": {\"colorbar\": {\"outlinewidth\": 0, \"ticks\": \"\"}}, \"type\": \"scatterpolar\"}], \"scatterpolargl\": [{\"marker\": {\"colorbar\": {\"outlinewidth\": 0, \"ticks\": \"\"}}, \"type\": \"scatterpolargl\"}], \"scatterternary\": [{\"marker\": {\"colorbar\": {\"outlinewidth\": 0, \"ticks\": \"\"}}, \"type\": \"scatterternary\"}], \"surface\": [{\"colorbar\": {\"outlinewidth\": 0, \"ticks\": \"\"}, \"colorscale\": [[0.0, \"#0d0887\"], [0.1111111111111111, \"#46039f\"], [0.2222222222222222, \"#7201a8\"], [0.3333333333333333, \"#9c179e\"], [0.4444444444444444, \"#bd3786\"], [0.5555555555555556, \"#d8576b\"], [0.6666666666666666, \"#ed7953\"], [0.7777777777777778, \"#fb9f3a\"], [0.8888888888888888, \"#fdca26\"], [1.0, \"#f0f921\"]], \"type\": \"surface\"}], \"table\": [{\"cells\": {\"fill\": {\"color\": \"#EBF0F8\"}, \"line\": {\"color\": \"white\"}}, \"header\": {\"fill\": {\"color\": \"#C8D4E3\"}, \"line\": {\"color\": \"white\"}}, \"type\": \"table\"}]}, \"layout\": {\"annotationdefaults\": {\"arrowcolor\": \"#2a3f5f\", \"arrowhead\": 0, \"arrowwidth\": 1}, \"coloraxis\": {\"colorbar\": {\"outlinewidth\": 0, \"ticks\": \"\"}}, \"colorscale\": {\"diverging\": [[0, \"#8e0152\"], [0.1, \"#c51b7d\"], [0.2, \"#de77ae\"], [0.3, \"#f1b6da\"], [0.4, \"#fde0ef\"], [0.5, \"#f7f7f7\"], [0.6, \"#e6f5d0\"], [0.7, \"#b8e186\"], [0.8, \"#7fbc41\"], [0.9, \"#4d9221\"], [1, \"#276419\"]], \"sequential\": [[0.0, \"#0d0887\"], [0.1111111111111111, \"#46039f\"], [0.2222222222222222, \"#7201a8\"], [0.3333333333333333, \"#9c179e\"], [0.4444444444444444, \"#bd3786\"], [0.5555555555555556, \"#d8576b\"], [0.6666666666666666, \"#ed7953\"], [0.7777777777777778, \"#fb9f3a\"], [0.8888888888888888, \"#fdca26\"], [1.0, \"#f0f921\"]], \"sequentialminus\": [[0.0, \"#0d0887\"], [0.1111111111111111, \"#46039f\"], [0.2222222222222222, \"#7201a8\"], [0.3333333333333333, \"#9c179e\"], [0.4444444444444444, \"#bd3786\"], [0.5555555555555556, \"#d8576b\"], [0.6666666666666666, \"#ed7953\"], [0.7777777777777778, \"#fb9f3a\"], [0.8888888888888888, \"#fdca26\"], [1.0, \"#f0f921\"]]}, \"colorway\": [\"#636efa\", \"#EF553B\", \"#00cc96\", \"#ab63fa\", \"#FFA15A\", \"#19d3f3\", \"#FF6692\", \"#B6E880\", \"#FF97FF\", \"#FECB52\"], \"font\": {\"color\": \"#2a3f5f\"}, \"geo\": {\"bgcolor\": \"white\", \"lakecolor\": \"white\", \"landcolor\": \"#E5ECF6\", \"showlakes\": true, \"showland\": true, \"subunitcolor\": \"white\"}, \"hoverlabel\": {\"align\": \"left\"}, \"hovermode\": \"closest\", \"mapbox\": {\"style\": \"light\"}, \"paper_bgcolor\": \"white\", \"plot_bgcolor\": \"#E5ECF6\", \"polar\": {\"angularaxis\": {\"gridcolor\": \"white\", \"linecolor\": \"white\", \"ticks\": \"\"}, \"bgcolor\": \"#E5ECF6\", \"radialaxis\": {\"gridcolor\": \"white\", \"linecolor\": \"white\", \"ticks\": \"\"}}, \"scene\": {\"xaxis\": {\"backgroundcolor\": \"#E5ECF6\", \"gridcolor\": \"white\", \"gridwidth\": 2, \"linecolor\": \"white\", \"showbackground\": true, \"ticks\": \"\", \"zerolinecolor\": \"white\"}, \"yaxis\": {\"backgroundcolor\": \"#E5ECF6\", \"gridcolor\": \"white\", \"gridwidth\": 2, \"linecolor\": \"white\", \"showbackground\": true, \"ticks\": \"\", \"zerolinecolor\": \"white\"}, \"zaxis\": {\"backgroundcolor\": \"#E5ECF6\", \"gridcolor\": \"white\", \"gridwidth\": 2, \"linecolor\": \"white\", \"showbackground\": true, \"ticks\": \"\", \"zerolinecolor\": \"white\"}}, \"shapedefaults\": {\"line\": {\"color\": \"#2a3f5f\"}}, \"ternary\": {\"aaxis\": {\"gridcolor\": \"white\", \"linecolor\": \"white\", \"ticks\": \"\"}, \"baxis\": {\"gridcolor\": \"white\", \"linecolor\": \"white\", \"ticks\": \"\"}, \"bgcolor\": \"#E5ECF6\", \"caxis\": {\"gridcolor\": \"white\", \"linecolor\": \"white\", \"ticks\": \"\"}}, \"title\": {\"x\": 0.05}, \"xaxis\": {\"automargin\": true, \"gridcolor\": \"white\", \"linecolor\": \"white\", \"ticks\": \"\", \"title\": {\"standoff\": 15}, \"zerolinecolor\": \"white\", \"zerolinewidth\": 2}, \"yaxis\": {\"automargin\": true, \"gridcolor\": \"white\", \"linecolor\": \"white\", \"ticks\": \"\", \"title\": {\"standoff\": 15}, \"zerolinecolor\": \"white\", \"zerolinewidth\": 2}}}, \"title\": {\"text\": \"Mean and Standard Deviation\"}, \"xaxis\": {\"title\": {\"text\": \"Time\"}}, \"yaxis\": {\"title\": {\"text\": \"Value\"}}},\n",
       "                        {\"responsive\": true}\n",
       "                    ).then(function(){\n",
       "                            \n",
       "var gd = document.getElementById('1f854346-4811-4dea-a63d-df59d2ca238e');\n",
       "var x = new MutationObserver(function (mutations, observer) {{\n",
       "        var display = window.getComputedStyle(gd).display;\n",
       "        if (!display || display === 'none') {{\n",
       "            console.log([gd, 'removed!']);\n",
       "            Plotly.purge(gd);\n",
       "            observer.disconnect();\n",
       "        }}\n",
       "}});\n",
       "\n",
       "// Listen for the removal of the full notebook cells\n",
       "var notebookContainer = gd.closest('#notebook-container');\n",
       "if (notebookContainer) {{\n",
       "    x.observe(notebookContainer, {childList: true});\n",
       "}}\n",
       "\n",
       "// Listen for the clearing of the current output cell\n",
       "var outputEl = gd.closest('.output');\n",
       "if (outputEl) {{\n",
       "    x.observe(outputEl, {childList: true});\n",
       "}}\n",
       "\n",
       "                        })\n",
       "                };\n",
       "                });\n",
       "            </script>\n",
       "        </div>"
      ]
     },
     "metadata": {},
     "output_type": "display_data"
    }
   ],
   "source": [
    "model = create_on_off_reaction(1)\n",
    "results = model.run(number_of_trajectories=num_traj)\n",
    "results.plotplotly_mean_stdev()"
   ]
  },
  {
   "cell_type": "code",
   "execution_count": 80,
   "metadata": {},
   "outputs": [
    {
     "data": {
      "image/png": "[encoded data removed]",
      "text/plain": [
       "<Figure size 1800x1000 with 1 Axes>"
      ]
     },
     "metadata": {},
     "output_type": "display_data"
    }
   ],
   "source": [
    "results.plot(index=0)"
   ]
  },
  {
   "cell_type": "code",
   "execution_count": 89,
   "metadata": {},
   "outputs": [
    {
     "name": "stdout",
     "output_type": "stream",
     "text": [
      "0\t0.86 \t 0.14\n",
      "1\t0.86 \t 0.14\n",
      "2\t0.86 \t 0.14\n",
      "3\t0.85 \t 0.15\n",
      "4\t0.84 \t 0.16\n",
      "5\t0.89 \t 0.11\n",
      "6\t0.95 \t 0.05\n",
      "7\t0.9 \t 0.1\n",
      "8\t0.94 \t 0.06\n",
      "9\t0.94 \t 0.06\n",
      "10\t0.89 \t 0.11\n",
      "11\t0.82 \t 0.18\n",
      "12\t0.95 \t 0.05\n",
      "13\t0.88 \t 0.12\n",
      "14\t0.9 \t 0.1\n",
      "15\t0.91 \t 0.09\n",
      "16\t0.93 \t 0.07\n",
      "17\t0.82 \t 0.18\n",
      "18\t0.89 \t 0.11\n",
      "19\t0.95 \t 0.05\n",
      "20\t0.91 \t 0.09\n",
      "21\t0.92 \t 0.08\n",
      "22\t0.88 \t 0.12\n",
      "23\t0.82 \t 0.18\n",
      "24\t0.95 \t 0.05\n",
      "25\t0.84 \t 0.16\n",
      "26\t0.9 \t 0.1\n",
      "27\t0.9 \t 0.1\n",
      "28\t0.89 \t 0.11\n",
      "29\t0.9 \t 0.1\n",
      "30\t0.91 \t 0.09\n",
      "31\t0.91 \t 0.09\n",
      "32\t0.86 \t 0.14\n",
      "33\t0.85 \t 0.15\n",
      "34\t0.77 \t 0.23\n",
      "35\t0.87 \t 0.13\n",
      "36\t0.89 \t 0.11\n",
      "37\t0.9 \t 0.1\n",
      "38\t0.93 \t 0.07\n",
      "39\t0.92 \t 0.08\n",
      "40\t0.89 \t 0.11\n",
      "41\t0.95 \t 0.05\n",
      "42\t0.94 \t 0.06\n",
      "43\t0.93 \t 0.07\n",
      "44\t0.89 \t 0.11\n",
      "45\t0.88 \t 0.12\n",
      "46\t0.89 \t 0.11\n",
      "47\t0.95 \t 0.05\n",
      "48\t0.94 \t 0.06\n",
      "49\t0.88 \t 0.12\n",
      "50\t0.89 \t 0.11\n",
      "51\t0.93 \t 0.07\n",
      "52\t0.91 \t 0.09\n",
      "53\t0.85 \t 0.15\n",
      "54\t0.91 \t 0.09\n",
      "55\t0.89 \t 0.11\n",
      "56\t0.9 \t 0.1\n",
      "57\t0.97 \t 0.03\n",
      "58\t0.92 \t 0.08\n",
      "59\t0.92 \t 0.08\n",
      "60\t0.96 \t 0.04\n",
      "61\t0.86 \t 0.14\n",
      "62\t0.92 \t 0.08\n",
      "63\t0.95 \t 0.05\n",
      "64\t0.88 \t 0.12\n",
      "65\t0.82 \t 0.18\n",
      "66\t0.87 \t 0.13\n",
      "67\t0.95 \t 0.05\n",
      "68\t0.88 \t 0.12\n",
      "69\t0.95 \t 0.05\n",
      "70\t0.9 \t 0.1\n",
      "71\t0.82 \t 0.18\n",
      "72\t0.9 \t 0.1\n",
      "73\t0.89 \t 0.11\n",
      "74\t0.97 \t 0.03\n",
      "75\t0.87 \t 0.13\n",
      "76\t0.97 \t 0.03\n",
      "77\t0.85 \t 0.15\n",
      "78\t0.93 \t 0.07\n",
      "79\t0.89 \t 0.11\n",
      "80\t0.88 \t 0.12\n",
      "81\t0.93 \t 0.07\n",
      "82\t0.87 \t 0.13\n",
      "83\t0.92 \t 0.08\n",
      "84\t0.8 \t 0.2\n",
      "85\t0.82 \t 0.18\n",
      "86\t0.82 \t 0.18\n",
      "87\t0.97 \t 0.03\n",
      "88\t0.93 \t 0.07\n",
      "89\t0.84 \t 0.16\n",
      "90\t0.87 \t 0.13\n",
      "91\t0.97 \t 0.03\n",
      "92\t0.91 \t 0.09\n",
      "93\t0.9 \t 0.1\n",
      "94\t0.91 \t 0.09\n",
      "95\t0.89 \t 0.11\n",
      "96\t0.93 \t 0.07\n",
      "97\t0.93 \t 0.07\n",
      "98\t0.86 \t 0.14\n",
      "99\t0.89 \t 0.11\n"
     ]
    }
   ],
   "source": [
    "for n in range(num_traj):\n",
    "    print(f\"{n}\\t{np.sum(results[n]['ON'])/len(results[n]['ON'])} \\t {np.sum(results[n]['OFF'])/len(results[n]['OFF'])}\")"
   ]
  },
  {
   "cell_type": "code",
   "execution_count": 90,
   "metadata": {},
   "outputs": [
    {
     "data": {
      "text/html": [
       "        <script type=\"text/javascript\">\n",
       "        window.PlotlyConfig = {MathJaxConfig: 'local'};\n",
       "        if (window.MathJax) {MathJax.Hub.Config({SVG: {font: \"STIX-Web\"}});}\n",
       "        if (typeof require !== 'undefined') {\n",
       "        require.undef(\"plotly\");\n",
       "        requirejs.config({\n",
       "            paths: {\n",
       "                'plotly': ['https://cdn.plot.ly/plotly-latest.min']\n",
       "            }\n",
       "        });\n",
       "        require(['plotly'], function(Plotly) {\n",
       "            window._Plotly = Plotly;\n",
       "        });\n",
       "        }\n",
       "        </script>\n",
       "        "
      ]
     },
     "metadata": {},
     "output_type": "display_data"
    },
    {
     "data": {
      "application/vnd.plotly.v1+json": {
       "config": {
        "linkText": "Export to plot.ly",
        "plotlyServerURL": "https://plot.ly",
        "showLink": false
       },
       "data": [
        {
         "legendgroup": "[5.0, 4.09, 4.13, 4.14, 4.16, 4.19, 4.19, 4.16, 4.12, 4.12, 4.11, 4.21, 4.21, 4.11, 4.09, 4.08, 4.1, 4.02, 4.05, 4.12, 4.13, 4.07, 4.07, 4.11, 4.02, 4.18, 4.2, 4.13, 4.13, 4.09, 4.06, 4.09, 4.31, 4.1, 4.05, 4.07, 4.1, 4.14, 4.02, 4.13, 4.08, 4.06, 4.14, 4.07, 4.1, 4.17, 4.12, 4.11, 4.09, 4.17, 4.02, 4.17, 4.16, 4.21, 4.08, 4.06, 4.1, 4.08, 4.04, 4.15, 4.19, 4.13, 4.15, 4.05, 4.04, 4.18, 4.04, 4.16, 4.06, 4.02, 4.14, 4.07, 4.08, 4.09, 4.12, 4.08, 4.13, 4.08, 3.97, 4.06, 4.13, 4.19, 4.13, 4.25, 4.16, 4.23, 4.1, 4.14, 4.1, 4.04, 4.09, 4.12, 4.06, 4.13, 4.11, 4.17, 4.12, 4.06, 4.04, 4.15]",
         "line": {
          "dash": "dot",
          "width": 1
         },
         "marker": {
          "color": "#444"
         },
         "mode": "lines",
         "name": "OFF Upper Bound",
         "showlegend": false,
         "type": "scatter",
         "x": [
          0,
          1.0101,
          2.0202,
          3.0303,
          4.0404,
          5.05051,
          6.06061,
          7.07071,
          8.08081,
          9.09091,
          10.101,
          11.1111,
          12.1212,
          13.1313,
          14.1414,
          15.1515,
          16.1616,
          17.1717,
          18.1818,
          19.1919,
          20.202,
          21.2121,
          22.2222,
          23.2323,
          24.2424,
          25.2525,
          26.2626,
          27.2727,
          28.2828,
          29.2929,
          30.303,
          31.3131,
          32.3232,
          33.3333,
          34.3434,
          35.3535,
          36.3636,
          37.3737,
          38.3838,
          39.3939,
          40.404,
          41.4141,
          42.4242,
          43.4343,
          44.4444,
          45.4545,
          46.4646,
          47.4747,
          48.4848,
          49.4949,
          50.5051,
          51.5152,
          52.5253,
          53.5354,
          54.5455,
          55.5556,
          56.5657,
          57.5758,
          58.5859,
          59.596,
          60.6061,
          61.6162,
          62.6263,
          63.6364,
          64.6465,
          65.6566,
          66.6667,
          67.6768,
          68.6869,
          69.697,
          70.7071,
          71.7172,
          72.7273,
          73.7374,
          74.7475,
          75.7576,
          76.7677,
          77.7778,
          78.7879,
          79.798,
          80.8081,
          81.8182,
          82.8283,
          83.8384,
          84.8485,
          85.8586,
          86.8687,
          87.8788,
          88.8889,
          89.899,
          90.9091,
          91.9192,
          92.9293,
          93.9394,
          94.9495,
          95.9596,
          96.9697,
          97.9798,
          98.9899,
          100
         ],
         "y": [
          5,
          4.6747221562417485,
          4.612804308182932,
          4.688087584241789,
          4.683832034148352,
          4.713354564325181,
          4.750267793113258,
          4.7025863986500225,
          4.635363949069005,
          4.67281099844341,
          4.617838557023785,
          4.780876519047683,
          4.705883050728698,
          4.597749935930288,
          4.6017616632769585,
          4.691228271597445,
          4.770820393249937,
          4.740832851637603,
          4.703834841531101,
          4.740966987850401,
          4.724222180669823,
          4.721996932508121,
          4.674235053600832,
          4.708247440445841,
          4.5853317610041024,
          4.7346169849544815,
          4.765685424949238,
          4.724222180669823,
          4.6895533933415114,
          4.754755594184809,
          4.6896030495478875,
          4.7395382975621985,
          4.998403951179828,
          4.656776436283002,
          4.56720402163943,
          4.58487862647424,
          4.619615242270664,
          4.772771680782254,
          4.5853317610041024,
          4.756976873576689,
          4.64,
          4.720605782596549,
          4.723438085832592,
          4.706474665638782,
          4.7557438524302,
          4.770915967502945,
          4.724648658313239,
          4.655802161959808,
          4.657362318100171,
          4.754037670017953,
          4.5853317610041024,
          4.718725796732758,
          4.720713830755048,
          4.6637620521815375,
          4.6575811631277455,
          4.604426303552647,
          4.6385164807134505,
          4.64,
          4.655142259969189,
          4.72227615711298,
          4.817614531380529,
          4.772728558568857,
          4.818954408012983,
          4.656217782649107,
          4.67118935352238,
          4.8184355879804945,
          4.638665181883831,
          4.738273291792039,
          4.5251881339845195,
          4.56735728733616,
          4.669528091794949,
          4.6039475629685,
          4.67464274989274,
          4.723955834423818,
          4.690613704707484,
          4.583587132480567,
          4.772728558568856,
          4.6575811631277455,
          4.488748493973718,
          4.673514466007118,
          4.756976873576689,
          4.750267793113258,
          4.652589705218157,
          4.856217782649107,
          4.683832034148352,
          4.793116329012045,
          4.674456264653802,
          4.723438085832592,
          4.785565460040104,
          4.655142259969189,
          4.657362318100171,
          4.654415568635495,
          4.604426303552648,
          4.591627555503352,
          4.637162214123888,
          4.595558456619065,
          4.594973683481516,
          4.546209831245728,
          4.604269439186636,
          4.6861902647381815
         ]
        },
        {
         "fill": "tonexty",
         "fillcolor": "rgba(68, 68, 68, 0.2)",
         "legendgroup": "[5.0, 4.09, 4.13, 4.14, 4.16, 4.19, 4.19, 4.16, 4.12, 4.12, 4.11, 4.21, 4.21, 4.11, 4.09, 4.08, 4.1, 4.02, 4.05, 4.12, 4.13, 4.07, 4.07, 4.11, 4.02, 4.18, 4.2, 4.13, 4.13, 4.09, 4.06, 4.09, 4.31, 4.1, 4.05, 4.07, 4.1, 4.14, 4.02, 4.13, 4.08, 4.06, 4.14, 4.07, 4.1, 4.17, 4.12, 4.11, 4.09, 4.17, 4.02, 4.17, 4.16, 4.21, 4.08, 4.06, 4.1, 4.08, 4.04, 4.15, 4.19, 4.13, 4.15, 4.05, 4.04, 4.18, 4.04, 4.16, 4.06, 4.02, 4.14, 4.07, 4.08, 4.09, 4.12, 4.08, 4.13, 4.08, 3.97, 4.06, 4.13, 4.19, 4.13, 4.25, 4.16, 4.23, 4.1, 4.14, 4.1, 4.04, 4.09, 4.12, 4.06, 4.13, 4.11, 4.17, 4.12, 4.06, 4.04, 4.15]",
         "name": "OFF",
         "type": "scatter",
         "x": [
          0,
          1.0101,
          2.0202,
          3.0303,
          4.0404,
          5.05051,
          6.06061,
          7.07071,
          8.08081,
          9.09091,
          10.101,
          11.1111,
          12.1212,
          13.1313,
          14.1414,
          15.1515,
          16.1616,
          17.1717,
          18.1818,
          19.1919,
          20.202,
          21.2121,
          22.2222,
          23.2323,
          24.2424,
          25.2525,
          26.2626,
          27.2727,
          28.2828,
          29.2929,
          30.303,
          31.3131,
          32.3232,
          33.3333,
          34.3434,
          35.3535,
          36.3636,
          37.3737,
          38.3838,
          39.3939,
          40.404,
          41.4141,
          42.4242,
          43.4343,
          44.4444,
          45.4545,
          46.4646,
          47.4747,
          48.4848,
          49.4949,
          50.5051,
          51.5152,
          52.5253,
          53.5354,
          54.5455,
          55.5556,
          56.5657,
          57.5758,
          58.5859,
          59.596,
          60.6061,
          61.6162,
          62.6263,
          63.6364,
          64.6465,
          65.6566,
          66.6667,
          67.6768,
          68.6869,
          69.697,
          70.7071,
          71.7172,
          72.7273,
          73.7374,
          74.7475,
          75.7576,
          76.7677,
          77.7778,
          78.7879,
          79.798,
          80.8081,
          81.8182,
          82.8283,
          83.8384,
          84.8485,
          85.8586,
          86.8687,
          87.8788,
          88.8889,
          89.899,
          90.9091,
          91.9192,
          92.9293,
          93.9394,
          94.9495,
          95.9596,
          96.9697,
          97.9798,
          98.9899,
          100
         ],
         "y": [
          5,
          4.09,
          4.13,
          4.14,
          4.16,
          4.19,
          4.19,
          4.16,
          4.12,
          4.12,
          4.11,
          4.21,
          4.21,
          4.11,
          4.09,
          4.08,
          4.1,
          4.02,
          4.05,
          4.12,
          4.13,
          4.07,
          4.07,
          4.11,
          4.02,
          4.18,
          4.2,
          4.13,
          4.13,
          4.09,
          4.06,
          4.09,
          4.31,
          4.1,
          4.05,
          4.07,
          4.1,
          4.14,
          4.02,
          4.13,
          4.08,
          4.06,
          4.14,
          4.07,
          4.1,
          4.17,
          4.12,
          4.11,
          4.09,
          4.17,
          4.02,
          4.17,
          4.16,
          4.21,
          4.08,
          4.06,
          4.1,
          4.08,
          4.04,
          4.15,
          4.19,
          4.13,
          4.15,
          4.05,
          4.04,
          4.18,
          4.04,
          4.16,
          4.06,
          4.02,
          4.14,
          4.07,
          4.08,
          4.09,
          4.12,
          4.08,
          4.13,
          4.08,
          3.97,
          4.06,
          4.13,
          4.19,
          4.13,
          4.25,
          4.16,
          4.23,
          4.1,
          4.14,
          4.1,
          4.04,
          4.09,
          4.12,
          4.06,
          4.13,
          4.11,
          4.17,
          4.12,
          4.06,
          4.04,
          4.15
         ]
        },
        {
         "fill": "tonexty",
         "fillcolor": "rgba(68, 68, 68, 0.2)",
         "legendgroup": "[5.0, 4.09, 4.13, 4.14, 4.16, 4.19, 4.19, 4.16, 4.12, 4.12, 4.11, 4.21, 4.21, 4.11, 4.09, 4.08, 4.1, 4.02, 4.05, 4.12, 4.13, 4.07, 4.07, 4.11, 4.02, 4.18, 4.2, 4.13, 4.13, 4.09, 4.06, 4.09, 4.31, 4.1, 4.05, 4.07, 4.1, 4.14, 4.02, 4.13, 4.08, 4.06, 4.14, 4.07, 4.1, 4.17, 4.12, 4.11, 4.09, 4.17, 4.02, 4.17, 4.16, 4.21, 4.08, 4.06, 4.1, 4.08, 4.04, 4.15, 4.19, 4.13, 4.15, 4.05, 4.04, 4.18, 4.04, 4.16, 4.06, 4.02, 4.14, 4.07, 4.08, 4.09, 4.12, 4.08, 4.13, 4.08, 3.97, 4.06, 4.13, 4.19, 4.13, 4.25, 4.16, 4.23, 4.1, 4.14, 4.1, 4.04, 4.09, 4.12, 4.06, 4.13, 4.11, 4.17, 4.12, 4.06, 4.04, 4.15]",
         "line": {
          "dash": "dot",
          "width": 1
         },
         "marker": {
          "color": "#444"
         },
         "mode": "lines",
         "name": "OFF Lower Bound",
         "showlegend": false,
         "type": "scatter",
         "x": [
          0,
          1.0101,
          2.0202,
          3.0303,
          4.0404,
          5.05051,
          6.06061,
          7.07071,
          8.08081,
          9.09091,
          10.101,
          11.1111,
          12.1212,
          13.1313,
          14.1414,
          15.1515,
          16.1616,
          17.1717,
          18.1818,
          19.1919,
          20.202,
          21.2121,
          22.2222,
          23.2323,
          24.2424,
          25.2525,
          26.2626,
          27.2727,
          28.2828,
          29.2929,
          30.303,
          31.3131,
          32.3232,
          33.3333,
          34.3434,
          35.3535,
          36.3636,
          37.3737,
          38.3838,
          39.3939,
          40.404,
          41.4141,
          42.4242,
          43.4343,
          44.4444,
          45.4545,
          46.4646,
          47.4747,
          48.4848,
          49.4949,
          50.5051,
          51.5152,
          52.5253,
          53.5354,
          54.5455,
          55.5556,
          56.5657,
          57.5758,
          58.5859,
          59.596,
          60.6061,
          61.6162,
          62.6263,
          63.6364,
          64.6465,
          65.6566,
          66.6667,
          67.6768,
          68.6869,
          69.697,
          70.7071,
          71.7172,
          72.7273,
          73.7374,
          74.7475,
          75.7576,
          76.7677,
          77.7778,
          78.7879,
          79.798,
          80.8081,
          81.8182,
          82.8283,
          83.8384,
          84.8485,
          85.8586,
          86.8687,
          87.8788,
          88.8889,
          89.899,
          90.9091,
          91.9192,
          92.9293,
          93.9394,
          94.9495,
          95.9596,
          96.9697,
          97.9798,
          98.9899,
          100
         ],
         "y": [
          5,
          3.5052778437582512,
          3.6471956918170676,
          3.5919124157582107,
          3.636167965851648,
          3.6666454356748197,
          3.6297322068867426,
          3.6174136013499782,
          3.6046360509309956,
          3.5671890015565904,
          3.6021614429762154,
          3.6391234809523167,
          3.714116949271302,
          3.6222500640697124,
          3.578238336723041,
          3.4687717284025554,
          3.4291796067500626,
          3.299167148362396,
          3.3961651584688988,
          3.4990330121495994,
          3.5357778193301765,
          3.4180030674918793,
          3.465764946399169,
          3.5117525595541594,
          3.454668238995897,
          3.6253830150455184,
          3.6343145750507624,
          3.5357778193301765,
          3.570446606658489,
          3.42524440581519,
          3.430396950452112,
          3.4404617024378013,
          3.621596048820171,
          3.543223563716997,
          3.5327959783605696,
          3.5551213735257607,
          3.5803847577293357,
          3.507228319217745,
          3.4546682389958967,
          3.5030231264233103,
          3.5200000000000005,
          3.3993942174034504,
          3.556561914167407,
          3.433525334361218,
          3.4442561475697997,
          3.5690840324970554,
          3.5153513416867614,
          3.564197838040193,
          3.5226376818998286,
          3.5859623299820464,
          3.454668238995897,
          3.621274203267242,
          3.5992861692449525,
          3.756237947818463,
          3.5024188368722546,
          3.5155736964473516,
          3.5614835192865484,
          3.5200000000000005,
          3.4248577400308116,
          3.57772384288702,
          3.562385468619472,
          3.4872714414311434,
          3.4810455919870176,
          3.4437822173508925,
          3.4088106464776198,
          3.541564412019505,
          3.441334818116169,
          3.5817267082079614,
          3.5948118660154798,
          3.4726427126638395,
          3.6104719082050507,
          3.536052437031501,
          3.4853572501072603,
          3.4560441655761815,
          3.5493862952925164,
          3.5764128675194335,
          3.4872714414311434,
          3.5024188368722546,
          3.4512515060262823,
          3.446485533992881,
          3.5030231264233107,
          3.6297322068867426,
          3.607410294781843,
          3.6437822173508927,
          3.636167965851648,
          3.666883670987956,
          3.5255437353461967,
          3.556561914167407,
          3.414434539959895,
          3.4248577400308116,
          3.5226376818998286,
          3.585584431364505,
          3.5155736964473516,
          3.668372444496648,
          3.5828377858761122,
          3.7444415433809355,
          3.6450263165184835,
          3.573790168754271,
          3.4757305608133646,
          3.6138097352618193
         ]
        },
        {
         "legendgroup": "[0.0, 0.91, 0.87, 0.86, 0.84, 0.81, 0.81, 0.84, 0.88, 0.88, 0.89, 0.79, 0.79, 0.89, 0.91, 0.92, 0.9, 0.98, 0.95, 0.88, 0.87, 0.93, 0.93, 0.89, 0.98, 0.82, 0.8, 0.87, 0.87, 0.91, 0.94, 0.91, 0.69, 0.9, 0.95, 0.93, 0.9, 0.86, 0.98, 0.87, 0.92, 0.94, 0.86, 0.93, 0.9, 0.83, 0.88, 0.89, 0.91, 0.83, 0.98, 0.83, 0.84, 0.79, 0.92, 0.94, 0.9, 0.92, 0.96, 0.85, 0.81, 0.87, 0.85, 0.95, 0.96, 0.82, 0.96, 0.84, 0.94, 0.98, 0.86, 0.93, 0.92, 0.91, 0.88, 0.92, 0.87, 0.92, 1.03, 0.94, 0.87, 0.81, 0.87, 0.75, 0.84, 0.77, 0.9, 0.86, 0.9, 0.96, 0.91, 0.88, 0.94, 0.87, 0.89, 0.83, 0.88, 0.94, 0.96, 0.85]",
         "line": {
          "dash": "dot",
          "width": 1
         },
         "marker": {
          "color": "#444"
         },
         "mode": "lines",
         "name": "ON Upper Bound",
         "showlegend": false,
         "type": "scatter",
         "x": [
          0,
          1.0101,
          2.0202,
          3.0303,
          4.0404,
          5.05051,
          6.06061,
          7.07071,
          8.08081,
          9.09091,
          10.101,
          11.1111,
          12.1212,
          13.1313,
          14.1414,
          15.1515,
          16.1616,
          17.1717,
          18.1818,
          19.1919,
          20.202,
          21.2121,
          22.2222,
          23.2323,
          24.2424,
          25.2525,
          26.2626,
          27.2727,
          28.2828,
          29.2929,
          30.303,
          31.3131,
          32.3232,
          33.3333,
          34.3434,
          35.3535,
          36.3636,
          37.3737,
          38.3838,
          39.3939,
          40.404,
          41.4141,
          42.4242,
          43.4343,
          44.4444,
          45.4545,
          46.4646,
          47.4747,
          48.4848,
          49.4949,
          50.5051,
          51.5152,
          52.5253,
          53.5354,
          54.5455,
          55.5556,
          56.5657,
          57.5758,
          58.5859,
          59.596,
          60.6061,
          61.6162,
          62.6263,
          63.6364,
          64.6465,
          65.6566,
          66.6667,
          67.6768,
          68.6869,
          69.697,
          70.7071,
          71.7172,
          72.7273,
          73.7374,
          74.7475,
          75.7576,
          76.7677,
          77.7778,
          78.7879,
          79.798,
          80.8081,
          81.8182,
          82.8283,
          83.8384,
          84.8485,
          85.8586,
          86.8687,
          87.8788,
          88.8889,
          89.899,
          90.9091,
          91.9192,
          92.9293,
          93.9394,
          94.9495,
          95.9596,
          96.9697,
          97.9798,
          98.9899,
          100
         ],
         "y": [
          0,
          1.4947221562417488,
          1.3528043081829324,
          1.408087584241789,
          1.3638320341483523,
          1.3333545643251812,
          1.3702677931132579,
          1.382586398650022,
          1.3953639490690044,
          1.4328109984434099,
          1.397838557023785,
          1.3608765190476833,
          1.2858830507286976,
          1.377749935930288,
          1.421761663276959,
          1.5312282715974448,
          1.570820393249937,
          1.7008328516376037,
          1.603834841531101,
          1.5009669878504008,
          1.4642221806698232,
          1.5819969325081211,
          1.5342350536008316,
          1.488247440445841,
          1.5453317610041024,
          1.3746169849544816,
          1.365685424949238,
          1.4642221806698232,
          1.4295533933415112,
          1.57475559418481,
          1.5696030495478874,
          1.5595382975621987,
          1.3784039511798287,
          1.4567764362830025,
          1.4672040216394302,
          1.4448786264742397,
          1.4196152422706634,
          1.4927716807822549,
          1.5453317610041029,
          1.4969768735766893,
          1.4799999999999995,
          1.6006057825965496,
          1.4434380858325928,
          1.5664746656387822,
          1.5557438524301999,
          1.4309159675029446,
          1.4846486583132386,
          1.4358021619598076,
          1.477362318100171,
          1.4140376700179536,
          1.5453317610041026,
          1.3787257967327582,
          1.400713830755048,
          1.2437620521815371,
          1.4975811631277458,
          1.484426303552648,
          1.438516480713451,
          1.4799999999999995,
          1.5751422599691884,
          1.42227615711298,
          1.4376145313805284,
          1.5127285585688566,
          1.5189544080129829,
          1.556217782649107,
          1.5911893535223802,
          1.458435587980495,
          1.5586651818838313,
          1.4182732917920386,
          1.4051881339845198,
          1.52735728733616,
          1.3895280917949493,
          1.4639475629684995,
          1.51464274989274,
          1.543955834423818,
          1.4506137047074836,
          1.4235871324805665,
          1.5127285585688566,
          1.4975811631277458,
          1.5487484939737177,
          1.5535144660071185,
          1.4969768735766893,
          1.3702677931132579,
          1.3925897052181568,
          1.356217782649107,
          1.363832034148352,
          1.3331163290120438,
          1.4744562646538029,
          1.4434380858325926,
          1.5855654600401046,
          1.5751422599691884,
          1.477362318100171,
          1.4144155686354953,
          1.484426303552648,
          1.3316275555033517,
          1.4171622141238882,
          1.2555584566190645,
          1.3549736834815165,
          1.4262098312457285,
          1.5242694391866354,
          1.386190264738181
         ]
        },
        {
         "fill": "tonexty",
         "fillcolor": "rgba(68, 68, 68, 0.2)",
         "legendgroup": "[0.0, 0.91, 0.87, 0.86, 0.84, 0.81, 0.81, 0.84, 0.88, 0.88, 0.89, 0.79, 0.79, 0.89, 0.91, 0.92, 0.9, 0.98, 0.95, 0.88, 0.87, 0.93, 0.93, 0.89, 0.98, 0.82, 0.8, 0.87, 0.87, 0.91, 0.94, 0.91, 0.69, 0.9, 0.95, 0.93, 0.9, 0.86, 0.98, 0.87, 0.92, 0.94, 0.86, 0.93, 0.9, 0.83, 0.88, 0.89, 0.91, 0.83, 0.98, 0.83, 0.84, 0.79, 0.92, 0.94, 0.9, 0.92, 0.96, 0.85, 0.81, 0.87, 0.85, 0.95, 0.96, 0.82, 0.96, 0.84, 0.94, 0.98, 0.86, 0.93, 0.92, 0.91, 0.88, 0.92, 0.87, 0.92, 1.03, 0.94, 0.87, 0.81, 0.87, 0.75, 0.84, 0.77, 0.9, 0.86, 0.9, 0.96, 0.91, 0.88, 0.94, 0.87, 0.89, 0.83, 0.88, 0.94, 0.96, 0.85]",
         "name": "ON",
         "type": "scatter",
         "x": [
          0,
          1.0101,
          2.0202,
          3.0303,
          4.0404,
          5.05051,
          6.06061,
          7.07071,
          8.08081,
          9.09091,
          10.101,
          11.1111,
          12.1212,
          13.1313,
          14.1414,
          15.1515,
          16.1616,
          17.1717,
          18.1818,
          19.1919,
          20.202,
          21.2121,
          22.2222,
          23.2323,
          24.2424,
          25.2525,
          26.2626,
          27.2727,
          28.2828,
          29.2929,
          30.303,
          31.3131,
          32.3232,
          33.3333,
          34.3434,
          35.3535,
          36.3636,
          37.3737,
          38.3838,
          39.3939,
          40.404,
          41.4141,
          42.4242,
          43.4343,
          44.4444,
          45.4545,
          46.4646,
          47.4747,
          48.4848,
          49.4949,
          50.5051,
          51.5152,
          52.5253,
          53.5354,
          54.5455,
          55.5556,
          56.5657,
          57.5758,
          58.5859,
          59.596,
          60.6061,
          61.6162,
          62.6263,
          63.6364,
          64.6465,
          65.6566,
          66.6667,
          67.6768,
          68.6869,
          69.697,
          70.7071,
          71.7172,
          72.7273,
          73.7374,
          74.7475,
          75.7576,
          76.7677,
          77.7778,
          78.7879,
          79.798,
          80.8081,
          81.8182,
          82.8283,
          83.8384,
          84.8485,
          85.8586,
          86.8687,
          87.8788,
          88.8889,
          89.899,
          90.9091,
          91.9192,
          92.9293,
          93.9394,
          94.9495,
          95.9596,
          96.9697,
          97.9798,
          98.9899,
          100
         ],
         "y": [
          0,
          0.91,
          0.87,
          0.86,
          0.84,
          0.81,
          0.81,
          0.84,
          0.88,
          0.88,
          0.89,
          0.79,
          0.79,
          0.89,
          0.91,
          0.92,
          0.9,
          0.98,
          0.95,
          0.88,
          0.87,
          0.93,
          0.93,
          0.89,
          0.98,
          0.82,
          0.8,
          0.87,
          0.87,
          0.91,
          0.94,
          0.91,
          0.69,
          0.9,
          0.95,
          0.93,
          0.9,
          0.86,
          0.98,
          0.87,
          0.92,
          0.94,
          0.86,
          0.93,
          0.9,
          0.83,
          0.88,
          0.89,
          0.91,
          0.83,
          0.98,
          0.83,
          0.84,
          0.79,
          0.92,
          0.94,
          0.9,
          0.92,
          0.96,
          0.85,
          0.81,
          0.87,
          0.85,
          0.95,
          0.96,
          0.82,
          0.96,
          0.84,
          0.94,
          0.98,
          0.86,
          0.93,
          0.92,
          0.91,
          0.88,
          0.92,
          0.87,
          0.92,
          1.03,
          0.94,
          0.87,
          0.81,
          0.87,
          0.75,
          0.84,
          0.77,
          0.9,
          0.86,
          0.9,
          0.96,
          0.91,
          0.88,
          0.94,
          0.87,
          0.89,
          0.83,
          0.88,
          0.94,
          0.96,
          0.85
         ]
        },
        {
         "fill": "tonexty",
         "fillcolor": "rgba(68, 68, 68, 0.2)",
         "legendgroup": "[0.0, 0.91, 0.87, 0.86, 0.84, 0.81, 0.81, 0.84, 0.88, 0.88, 0.89, 0.79, 0.79, 0.89, 0.91, 0.92, 0.9, 0.98, 0.95, 0.88, 0.87, 0.93, 0.93, 0.89, 0.98, 0.82, 0.8, 0.87, 0.87, 0.91, 0.94, 0.91, 0.69, 0.9, 0.95, 0.93, 0.9, 0.86, 0.98, 0.87, 0.92, 0.94, 0.86, 0.93, 0.9, 0.83, 0.88, 0.89, 0.91, 0.83, 0.98, 0.83, 0.84, 0.79, 0.92, 0.94, 0.9, 0.92, 0.96, 0.85, 0.81, 0.87, 0.85, 0.95, 0.96, 0.82, 0.96, 0.84, 0.94, 0.98, 0.86, 0.93, 0.92, 0.91, 0.88, 0.92, 0.87, 0.92, 1.03, 0.94, 0.87, 0.81, 0.87, 0.75, 0.84, 0.77, 0.9, 0.86, 0.9, 0.96, 0.91, 0.88, 0.94, 0.87, 0.89, 0.83, 0.88, 0.94, 0.96, 0.85]",
         "line": {
          "dash": "dot",
          "width": 1
         },
         "marker": {
          "color": "#444"
         },
         "mode": "lines",
         "name": "ON Lower Bound",
         "showlegend": false,
         "type": "scatter",
         "x": [
          0,
          1.0101,
          2.0202,
          3.0303,
          4.0404,
          5.05051,
          6.06061,
          7.07071,
          8.08081,
          9.09091,
          10.101,
          11.1111,
          12.1212,
          13.1313,
          14.1414,
          15.1515,
          16.1616,
          17.1717,
          18.1818,
          19.1919,
          20.202,
          21.2121,
          22.2222,
          23.2323,
          24.2424,
          25.2525,
          26.2626,
          27.2727,
          28.2828,
          29.2929,
          30.303,
          31.3131,
          32.3232,
          33.3333,
          34.3434,
          35.3535,
          36.3636,
          37.3737,
          38.3838,
          39.3939,
          40.404,
          41.4141,
          42.4242,
          43.4343,
          44.4444,
          45.4545,
          46.4646,
          47.4747,
          48.4848,
          49.4949,
          50.5051,
          51.5152,
          52.5253,
          53.5354,
          54.5455,
          55.5556,
          56.5657,
          57.5758,
          58.5859,
          59.596,
          60.6061,
          61.6162,
          62.6263,
          63.6364,
          64.6465,
          65.6566,
          66.6667,
          67.6768,
          68.6869,
          69.697,
          70.7071,
          71.7172,
          72.7273,
          73.7374,
          74.7475,
          75.7576,
          76.7677,
          77.7778,
          78.7879,
          79.798,
          80.8081,
          81.8182,
          82.8283,
          83.8384,
          84.8485,
          85.8586,
          86.8687,
          87.8788,
          88.8889,
          89.899,
          90.9091,
          91.9192,
          92.9293,
          93.9394,
          94.9495,
          95.9596,
          96.9697,
          97.9798,
          98.9899,
          100
         ],
         "y": [
          0,
          0.3252778437582514,
          0.38719569181706764,
          0.31191241575821094,
          0.31616796585164764,
          0.28664543567481904,
          0.24973220688674225,
          0.29741360134997796,
          0.3646360509309955,
          0.32718900155659014,
          0.382161442976215,
          0.2191234809523167,
          0.2941169492713025,
          0.40225006406971187,
          0.3982383367230411,
          0.3087717284025553,
          0.2291796067500631,
          0.2591671483623963,
          0.2961651584688989,
          0.2590330121495992,
          0.27577781933017675,
          0.27800306749187886,
          0.32576494639916864,
          0.291752559554159,
          0.41466823899589744,
          0.2653830150455182,
          0.23431457505076214,
          0.27577781933017675,
          0.3104466066584888,
          0.24524440581519025,
          0.31039695045211246,
          0.2604617024378014,
          0.0015960488201712808,
          0.3432235637169976,
          0.4327959783605697,
          0.4151213735257604,
          0.38038475772933655,
          0.22722831921774522,
          0.4146682389958972,
          0.2430231264233106,
          0.36000000000000054,
          0.2793942174034504,
          0.27656191416740716,
          0.29352533436121797,
          0.24425614756980019,
          0.22908403249705533,
          0.27535134168676145,
          0.3441978380401923,
          0.342637681899829,
          0.24596232998204637,
          0.41466823899589733,
          0.28127420326724184,
          0.2792861692449521,
          0.33623794781846283,
          0.3424188368722544,
          0.3955736964473521,
          0.3614835192865491,
          0.36000000000000054,
          0.3448577400308114,
          0.2777238428870198,
          0.1823854686194718,
          0.22727144143114342,
          0.1810455919870172,
          0.34378221735089276,
          0.3288106464776196,
          0.1815644120195048,
          0.36133481811616863,
          0.2617267082079613,
          0.4748118660154801,
          0.4326427126638398,
          0.3304719082050508,
          0.3960524370315006,
          0.32535725010726013,
          0.27604416557618194,
          0.30938629529251627,
          0.4164128675194335,
          0.22727144143114353,
          0.3424188368722543,
          0.5112515060262823,
          0.3264855339928814,
          0.2430231264233106,
          0.24973220688674225,
          0.34741029478184315,
          0.14378221735089292,
          0.31616796585164775,
          0.20688367098795635,
          0.3255437353461973,
          0.2765619141674073,
          0.2144345399598956,
          0.3448577400308115,
          0.342637681899829,
          0.3455844313645047,
          0.39557369644735196,
          0.4083724444966484,
          0.3628377858761118,
          0.4044415433809355,
          0.4050263165184834,
          0.4537901687542714,
          0.39573056081336455,
          0.313809735261819
         ]
        }
       ],
       "layout": {
        "legend": {
         "traceorder": "normal"
        },
        "showlegend": true,
        "template": {
         "data": {
          "bar": [
           {
            "error_x": {
             "color": "#2a3f5f"
            },
            "error_y": {
             "color": "#2a3f5f"
            },
            "marker": {
             "line": {
              "color": "#E5ECF6",
              "width": 0.5
             }
            },
            "type": "bar"
           }
          ],
          "barpolar": [
           {
            "marker": {
             "line": {
              "color": "#E5ECF6",
              "width": 0.5
             }
            },
            "type": "barpolar"
           }
          ],
          "carpet": [
           {
            "aaxis": {
             "endlinecolor": "#2a3f5f",
             "gridcolor": "white",
             "linecolor": "white",
             "minorgridcolor": "white",
             "startlinecolor": "#2a3f5f"
            },
            "baxis": {
             "endlinecolor": "#2a3f5f",
             "gridcolor": "white",
             "linecolor": "white",
             "minorgridcolor": "white",
             "startlinecolor": "#2a3f5f"
            },
            "type": "carpet"
           }
          ],
          "choropleth": [
           {
            "colorbar": {
             "outlinewidth": 0,
             "ticks": ""
            },
            "type": "choropleth"
           }
          ],
          "contour": [
           {
            "colorbar": {
             "outlinewidth": 0,
             "ticks": ""
            },
            "colorscale": [
             [
              0,
              "#0d0887"
             ],
             [
              0.1111111111111111,
              "#46039f"
             ],
             [
              0.2222222222222222,
              "#7201a8"
             ],
             [
              0.3333333333333333,
              "#9c179e"
             ],
             [
              0.4444444444444444,
              "#bd3786"
             ],
             [
              0.5555555555555556,
              "#d8576b"
             ],
             [
              0.6666666666666666,
              "#ed7953"
             ],
             [
              0.7777777777777778,
              "#fb9f3a"
             ],
             [
              0.8888888888888888,
              "#fdca26"
             ],
             [
              1,
              "#f0f921"
             ]
            ],
            "type": "contour"
           }
          ],
          "contourcarpet": [
           {
            "colorbar": {
             "outlinewidth": 0,
             "ticks": ""
            },
            "type": "contourcarpet"
           }
          ],
          "heatmap": [
           {
            "colorbar": {
             "outlinewidth": 0,
             "ticks": ""
            },
            "colorscale": [
             [
              0,
              "#0d0887"
             ],
             [
              0.1111111111111111,
              "#46039f"
             ],
             [
              0.2222222222222222,
              "#7201a8"
             ],
             [
              0.3333333333333333,
              "#9c179e"
             ],
             [
              0.4444444444444444,
              "#bd3786"
             ],
             [
              0.5555555555555556,
              "#d8576b"
             ],
             [
              0.6666666666666666,
              "#ed7953"
             ],
             [
              0.7777777777777778,
              "#fb9f3a"
             ],
             [
              0.8888888888888888,
              "#fdca26"
             ],
             [
              1,
              "#f0f921"
             ]
            ],
            "type": "heatmap"
           }
          ],
          "heatmapgl": [
           {
            "colorbar": {
             "outlinewidth": 0,
             "ticks": ""
            },
            "colorscale": [
             [
              0,
              "#0d0887"
             ],
             [
              0.1111111111111111,
              "#46039f"
             ],
             [
              0.2222222222222222,
              "#7201a8"
             ],
             [
              0.3333333333333333,
              "#9c179e"
             ],
             [
              0.4444444444444444,
              "#bd3786"
             ],
             [
              0.5555555555555556,
              "#d8576b"
             ],
             [
              0.6666666666666666,
              "#ed7953"
             ],
             [
              0.7777777777777778,
              "#fb9f3a"
             ],
             [
              0.8888888888888888,
              "#fdca26"
             ],
             [
              1,
              "#f0f921"
             ]
            ],
            "type": "heatmapgl"
           }
          ],
          "histogram": [
           {
            "marker": {
             "colorbar": {
              "outlinewidth": 0,
              "ticks": ""
             }
            },
            "type": "histogram"
           }
          ],
          "histogram2d": [
           {
            "colorbar": {
             "outlinewidth": 0,
             "ticks": ""
            },
            "colorscale": [
             [
              0,
              "#0d0887"
             ],
             [
              0.1111111111111111,
              "#46039f"
             ],
             [
              0.2222222222222222,
              "#7201a8"
             ],
             [
              0.3333333333333333,
              "#9c179e"
             ],
             [
              0.4444444444444444,
              "#bd3786"
             ],
             [
              0.5555555555555556,
              "#d8576b"
             ],
             [
              0.6666666666666666,
              "#ed7953"
             ],
             [
              0.7777777777777778,
              "#fb9f3a"
             ],
             [
              0.8888888888888888,
              "#fdca26"
             ],
             [
              1,
              "#f0f921"
             ]
            ],
            "type": "histogram2d"
           }
          ],
          "histogram2dcontour": [
           {
            "colorbar": {
             "outlinewidth": 0,
             "ticks": ""
            },
            "colorscale": [
             [
              0,
              "#0d0887"
             ],
             [
              0.1111111111111111,
              "#46039f"
             ],
             [
              0.2222222222222222,
              "#7201a8"
             ],
             [
              0.3333333333333333,
              "#9c179e"
             ],
             [
              0.4444444444444444,
              "#bd3786"
             ],
             [
              0.5555555555555556,
              "#d8576b"
             ],
             [
              0.6666666666666666,
              "#ed7953"
             ],
             [
              0.7777777777777778,
              "#fb9f3a"
             ],
             [
              0.8888888888888888,
              "#fdca26"
             ],
             [
              1,
              "#f0f921"
             ]
            ],
            "type": "histogram2dcontour"
           }
          ],
          "mesh3d": [
           {
            "colorbar": {
             "outlinewidth": 0,
             "ticks": ""
            },
            "type": "mesh3d"
           }
          ],
          "parcoords": [
           {
            "line": {
             "colorbar": {
              "outlinewidth": 0,
              "ticks": ""
             }
            },
            "type": "parcoords"
           }
          ],
          "pie": [
           {
            "automargin": true,
            "type": "pie"
           }
          ],
          "scatter": [
           {
            "marker": {
             "colorbar": {
              "outlinewidth": 0,
              "ticks": ""
             }
            },
            "type": "scatter"
           }
          ],
          "scatter3d": [
           {
            "line": {
             "colorbar": {
              "outlinewidth": 0,
              "ticks": ""
             }
            },
            "marker": {
             "colorbar": {
              "outlinewidth": 0,
              "ticks": ""
             }
            },
            "type": "scatter3d"
           }
          ],
          "scattercarpet": [
           {
            "marker": {
             "colorbar": {
              "outlinewidth": 0,
              "ticks": ""
             }
            },
            "type": "scattercarpet"
           }
          ],
          "scattergeo": [
           {
            "marker": {
             "colorbar": {
              "outlinewidth": 0,
              "ticks": ""
             }
            },
            "type": "scattergeo"
           }
          ],
          "scattergl": [
           {
            "marker": {
             "colorbar": {
              "outlinewidth": 0,
              "ticks": ""
             }
            },
            "type": "scattergl"
           }
          ],
          "scattermapbox": [
           {
            "marker": {
             "colorbar": {
              "outlinewidth": 0,
              "ticks": ""
             }
            },
            "type": "scattermapbox"
           }
          ],
          "scatterpolar": [
           {
            "marker": {
             "colorbar": {
              "outlinewidth": 0,
              "ticks": ""
             }
            },
            "type": "scatterpolar"
           }
          ],
          "scatterpolargl": [
           {
            "marker": {
             "colorbar": {
              "outlinewidth": 0,
              "ticks": ""
             }
            },
            "type": "scatterpolargl"
           }
          ],
          "scatterternary": [
           {
            "marker": {
             "colorbar": {
              "outlinewidth": 0,
              "ticks": ""
             }
            },
            "type": "scatterternary"
           }
          ],
          "surface": [
           {
            "colorbar": {
             "outlinewidth": 0,
             "ticks": ""
            },
            "colorscale": [
             [
              0,
              "#0d0887"
             ],
             [
              0.1111111111111111,
              "#46039f"
             ],
             [
              0.2222222222222222,
              "#7201a8"
             ],
             [
              0.3333333333333333,
              "#9c179e"
             ],
             [
              0.4444444444444444,
              "#bd3786"
             ],
             [
              0.5555555555555556,
              "#d8576b"
             ],
             [
              0.6666666666666666,
              "#ed7953"
             ],
             [
              0.7777777777777778,
              "#fb9f3a"
             ],
             [
              0.8888888888888888,
              "#fdca26"
             ],
             [
              1,
              "#f0f921"
             ]
            ],
            "type": "surface"
           }
          ],
          "table": [
           {
            "cells": {
             "fill": {
              "color": "#EBF0F8"
             },
             "line": {
              "color": "white"
             }
            },
            "header": {
             "fill": {
              "color": "#C8D4E3"
             },
             "line": {
              "color": "white"
             }
            },
            "type": "table"
           }
          ]
         },
         "layout": {
          "annotationdefaults": {
           "arrowcolor": "#2a3f5f",
           "arrowhead": 0,
           "arrowwidth": 1
          },
          "coloraxis": {
           "colorbar": {
            "outlinewidth": 0,
            "ticks": ""
           }
          },
          "colorscale": {
           "diverging": [
            [
             0,
             "#8e0152"
            ],
            [
             0.1,
             "#c51b7d"
            ],
            [
             0.2,
             "#de77ae"
            ],
            [
             0.3,
             "#f1b6da"
            ],
            [
             0.4,
             "#fde0ef"
            ],
            [
             0.5,
             "#f7f7f7"
            ],
            [
             0.6,
             "#e6f5d0"
            ],
            [
             0.7,
             "#b8e186"
            ],
            [
             0.8,
             "#7fbc41"
            ],
            [
             0.9,
             "#4d9221"
            ],
            [
             1,
             "#276419"
            ]
           ],
           "sequential": [
            [
             0,
             "#0d0887"
            ],
            [
             0.1111111111111111,
             "#46039f"
            ],
            [
             0.2222222222222222,
             "#7201a8"
            ],
            [
             0.3333333333333333,
             "#9c179e"
            ],
            [
             0.4444444444444444,
             "#bd3786"
            ],
            [
             0.5555555555555556,
             "#d8576b"
            ],
            [
             0.6666666666666666,
             "#ed7953"
            ],
            [
             0.7777777777777778,
             "#fb9f3a"
            ],
            [
             0.8888888888888888,
             "#fdca26"
            ],
            [
             1,
             "#f0f921"
            ]
           ],
           "sequentialminus": [
            [
             0,
             "#0d0887"
            ],
            [
             0.1111111111111111,
             "#46039f"
            ],
            [
             0.2222222222222222,
             "#7201a8"
            ],
            [
             0.3333333333333333,
             "#9c179e"
            ],
            [
             0.4444444444444444,
             "#bd3786"
            ],
            [
             0.5555555555555556,
             "#d8576b"
            ],
            [
             0.6666666666666666,
             "#ed7953"
            ],
            [
             0.7777777777777778,
             "#fb9f3a"
            ],
            [
             0.8888888888888888,
             "#fdca26"
            ],
            [
             1,
             "#f0f921"
            ]
           ]
          },
          "colorway": [
           "#636efa",
           "#EF553B",
           "#00cc96",
           "#ab63fa",
           "#FFA15A",
           "#19d3f3",
           "#FF6692",
           "#B6E880",
           "#FF97FF",
           "#FECB52"
          ],
          "font": {
           "color": "#2a3f5f"
          },
          "geo": {
           "bgcolor": "white",
           "lakecolor": "white",
           "landcolor": "#E5ECF6",
           "showlakes": true,
           "showland": true,
           "subunitcolor": "white"
          },
          "hoverlabel": {
           "align": "left"
          },
          "hovermode": "closest",
          "mapbox": {
           "style": "light"
          },
          "paper_bgcolor": "white",
          "plot_bgcolor": "#E5ECF6",
          "polar": {
           "angularaxis": {
            "gridcolor": "white",
            "linecolor": "white",
            "ticks": ""
           },
           "bgcolor": "#E5ECF6",
           "radialaxis": {
            "gridcolor": "white",
            "linecolor": "white",
            "ticks": ""
           }
          },
          "scene": {
           "xaxis": {
            "backgroundcolor": "#E5ECF6",
            "gridcolor": "white",
            "gridwidth": 2,
            "linecolor": "white",
            "showbackground": true,
            "ticks": "",
            "zerolinecolor": "white"
           },
           "yaxis": {
            "backgroundcolor": "#E5ECF6",
            "gridcolor": "white",
            "gridwidth": 2,
            "linecolor": "white",
            "showbackground": true,
            "ticks": "",
            "zerolinecolor": "white"
           },
           "zaxis": {
            "backgroundcolor": "#E5ECF6",
            "gridcolor": "white",
            "gridwidth": 2,
            "linecolor": "white",
            "showbackground": true,
            "ticks": "",
            "zerolinecolor": "white"
           }
          },
          "shapedefaults": {
           "line": {
            "color": "#2a3f5f"
           }
          },
          "ternary": {
           "aaxis": {
            "gridcolor": "white",
            "linecolor": "white",
            "ticks": ""
           },
           "baxis": {
            "gridcolor": "white",
            "linecolor": "white",
            "ticks": ""
           },
           "bgcolor": "#E5ECF6",
           "caxis": {
            "gridcolor": "white",
            "linecolor": "white",
            "ticks": ""
           }
          },
          "title": {
           "x": 0.05
          },
          "xaxis": {
           "automargin": true,
           "gridcolor": "white",
           "linecolor": "white",
           "ticks": "",
           "title": {
            "standoff": 15
           },
           "zerolinecolor": "white",
           "zerolinewidth": 2
          },
          "yaxis": {
           "automargin": true,
           "gridcolor": "white",
           "linecolor": "white",
           "ticks": "",
           "title": {
            "standoff": 15
           },
           "zerolinecolor": "white",
           "zerolinewidth": 2
          }
         }
        },
        "title": {
         "text": "Mean and Standard Deviation"
        },
        "xaxis": {
         "title": {
          "text": "Time"
         }
        },
        "yaxis": {
         "title": {
          "text": "Value"
         }
        }
       }
      },
      "text/html": [
       "<div>\n",
       "        \n",
       "        \n",
       "            <div id=\"44ac3d55-64ae-42d8-a411-1fc97642875a\" class=\"plotly-graph-div\" style=\"height:525px; width:100%;\"></div>\n",
       "            <script type=\"text/javascript\">\n",
       "                require([\"plotly\"], function(Plotly) {\n",
       "                    window.PLOTLYENV=window.PLOTLYENV || {};\n",
       "                    \n",
       "                if (document.getElementById(\"44ac3d55-64ae-42d8-a411-1fc97642875a\")) {\n",
       "                    Plotly.newPlot(\n",
       "                        '44ac3d55-64ae-42d8-a411-1fc97642875a',\n",
       "                        [{\"legendgroup\": \"[5.0, 4.09, 4.13, 4.14, 4.16, 4.19, 4.19, 4.16, 4.12, 4.12, 4.11, 4.21, 4.21, 4.11, 4.09, 4.08, 4.1, 4.02, 4.05, 4.12, 4.13, 4.07, 4.07, 4.11, 4.02, 4.18, 4.2, 4.13, 4.13, 4.09, 4.06, 4.09, 4.31, 4.1, 4.05, 4.07, 4.1, 4.14, 4.02, 4.13, 4.08, 4.06, 4.14, 4.07, 4.1, 4.17, 4.12, 4.11, 4.09, 4.17, 4.02, 4.17, 4.16, 4.21, 4.08, 4.06, 4.1, 4.08, 4.04, 4.15, 4.19, 4.13, 4.15, 4.05, 4.04, 4.18, 4.04, 4.16, 4.06, 4.02, 4.14, 4.07, 4.08, 4.09, 4.12, 4.08, 4.13, 4.08, 3.97, 4.06, 4.13, 4.19, 4.13, 4.25, 4.16, 4.23, 4.1, 4.14, 4.1, 4.04, 4.09, 4.12, 4.06, 4.13, 4.11, 4.17, 4.12, 4.06, 4.04, 4.15]\", \"line\": {\"dash\": \"dot\", \"width\": 1}, \"marker\": {\"color\": \"#444\"}, \"mode\": \"lines\", \"name\": \"OFF Upper Bound\", \"showlegend\": false, \"type\": \"scatter\", \"x\": [0.0, 1.0101, 2.0202, 3.0303, 4.0404, 5.05051, 6.06061, 7.07071, 8.08081, 9.09091, 10.101, 11.1111, 12.1212, 13.1313, 14.1414, 15.1515, 16.1616, 17.1717, 18.1818, 19.1919, 20.202, 21.2121, 22.2222, 23.2323, 24.2424, 25.2525, 26.2626, 27.2727, 28.2828, 29.2929, 30.303, 31.3131, 32.3232, 33.3333, 34.3434, 35.3535, 36.3636, 37.3737, 38.3838, 39.3939, 40.404, 41.4141, 42.4242, 43.4343, 44.4444, 45.4545, 46.4646, 47.4747, 48.4848, 49.4949, 50.5051, 51.5152, 52.5253, 53.5354, 54.5455, 55.5556, 56.5657, 57.5758, 58.5859, 59.596, 60.6061, 61.6162, 62.6263, 63.6364, 64.6465, 65.6566, 66.6667, 67.6768, 68.6869, 69.697, 70.7071, 71.7172, 72.7273, 73.7374, 74.7475, 75.7576, 76.7677, 77.7778, 78.7879, 79.798, 80.8081, 81.8182, 82.8283, 83.8384, 84.8485, 85.8586, 86.8687, 87.8788, 88.8889, 89.899, 90.9091, 91.9192, 92.9293, 93.9394, 94.9495, 95.9596, 96.9697, 97.9798, 98.9899, 100.0], \"y\": [5.0, 4.6747221562417485, 4.612804308182932, 4.688087584241789, 4.683832034148352, 4.713354564325181, 4.750267793113258, 4.7025863986500225, 4.635363949069005, 4.67281099844341, 4.617838557023785, 4.780876519047683, 4.705883050728698, 4.597749935930288, 4.6017616632769585, 4.691228271597445, 4.770820393249937, 4.740832851637603, 4.703834841531101, 4.740966987850401, 4.724222180669823, 4.721996932508121, 4.674235053600832, 4.708247440445841, 4.5853317610041024, 4.7346169849544815, 4.765685424949238, 4.724222180669823, 4.6895533933415114, 4.754755594184809, 4.6896030495478875, 4.7395382975621985, 4.998403951179828, 4.656776436283002, 4.56720402163943, 4.58487862647424, 4.619615242270664, 4.772771680782254, 4.5853317610041024, 4.756976873576689, 4.64, 4.720605782596549, 4.723438085832592, 4.706474665638782, 4.7557438524302, 4.770915967502945, 4.724648658313239, 4.655802161959808, 4.657362318100171, 4.754037670017953, 4.5853317610041024, 4.718725796732758, 4.720713830755048, 4.6637620521815375, 4.6575811631277455, 4.604426303552647, 4.6385164807134505, 4.64, 4.655142259969189, 4.72227615711298, 4.817614531380529, 4.772728558568857, 4.818954408012983, 4.656217782649107, 4.67118935352238, 4.8184355879804945, 4.638665181883831, 4.738273291792039, 4.5251881339845195, 4.56735728733616, 4.669528091794949, 4.6039475629685, 4.67464274989274, 4.723955834423818, 4.690613704707484, 4.583587132480567, 4.772728558568856, 4.6575811631277455, 4.488748493973718, 4.673514466007118, 4.756976873576689, 4.750267793113258, 4.652589705218157, 4.856217782649107, 4.683832034148352, 4.793116329012045, 4.674456264653802, 4.723438085832592, 4.785565460040104, 4.655142259969189, 4.657362318100171, 4.654415568635495, 4.604426303552648, 4.591627555503352, 4.637162214123888, 4.595558456619065, 4.594973683481516, 4.546209831245728, 4.604269439186636, 4.6861902647381815]}, {\"fill\": \"tonexty\", \"fillcolor\": \"rgba(68, 68, 68, 0.2)\", \"legendgroup\": \"[5.0, 4.09, 4.13, 4.14, 4.16, 4.19, 4.19, 4.16, 4.12, 4.12, 4.11, 4.21, 4.21, 4.11, 4.09, 4.08, 4.1, 4.02, 4.05, 4.12, 4.13, 4.07, 4.07, 4.11, 4.02, 4.18, 4.2, 4.13, 4.13, 4.09, 4.06, 4.09, 4.31, 4.1, 4.05, 4.07, 4.1, 4.14, 4.02, 4.13, 4.08, 4.06, 4.14, 4.07, 4.1, 4.17, 4.12, 4.11, 4.09, 4.17, 4.02, 4.17, 4.16, 4.21, 4.08, 4.06, 4.1, 4.08, 4.04, 4.15, 4.19, 4.13, 4.15, 4.05, 4.04, 4.18, 4.04, 4.16, 4.06, 4.02, 4.14, 4.07, 4.08, 4.09, 4.12, 4.08, 4.13, 4.08, 3.97, 4.06, 4.13, 4.19, 4.13, 4.25, 4.16, 4.23, 4.1, 4.14, 4.1, 4.04, 4.09, 4.12, 4.06, 4.13, 4.11, 4.17, 4.12, 4.06, 4.04, 4.15]\", \"name\": \"OFF\", \"type\": \"scatter\", \"x\": [0.0, 1.0101, 2.0202, 3.0303, 4.0404, 5.05051, 6.06061, 7.07071, 8.08081, 9.09091, 10.101, 11.1111, 12.1212, 13.1313, 14.1414, 15.1515, 16.1616, 17.1717, 18.1818, 19.1919, 20.202, 21.2121, 22.2222, 23.2323, 24.2424, 25.2525, 26.2626, 27.2727, 28.2828, 29.2929, 30.303, 31.3131, 32.3232, 33.3333, 34.3434, 35.3535, 36.3636, 37.3737, 38.3838, 39.3939, 40.404, 41.4141, 42.4242, 43.4343, 44.4444, 45.4545, 46.4646, 47.4747, 48.4848, 49.4949, 50.5051, 51.5152, 52.5253, 53.5354, 54.5455, 55.5556, 56.5657, 57.5758, 58.5859, 59.596, 60.6061, 61.6162, 62.6263, 63.6364, 64.6465, 65.6566, 66.6667, 67.6768, 68.6869, 69.697, 70.7071, 71.7172, 72.7273, 73.7374, 74.7475, 75.7576, 76.7677, 77.7778, 78.7879, 79.798, 80.8081, 81.8182, 82.8283, 83.8384, 84.8485, 85.8586, 86.8687, 87.8788, 88.8889, 89.899, 90.9091, 91.9192, 92.9293, 93.9394, 94.9495, 95.9596, 96.9697, 97.9798, 98.9899, 100.0], \"y\": [5.0, 4.09, 4.13, 4.14, 4.16, 4.19, 4.19, 4.16, 4.12, 4.12, 4.11, 4.21, 4.21, 4.11, 4.09, 4.08, 4.1, 4.02, 4.05, 4.12, 4.13, 4.07, 4.07, 4.11, 4.02, 4.18, 4.2, 4.13, 4.13, 4.09, 4.06, 4.09, 4.31, 4.1, 4.05, 4.07, 4.1, 4.14, 4.02, 4.13, 4.08, 4.06, 4.14, 4.07, 4.1, 4.17, 4.12, 4.11, 4.09, 4.17, 4.02, 4.17, 4.16, 4.21, 4.08, 4.06, 4.1, 4.08, 4.04, 4.15, 4.19, 4.13, 4.15, 4.05, 4.04, 4.18, 4.04, 4.16, 4.06, 4.02, 4.14, 4.07, 4.08, 4.09, 4.12, 4.08, 4.13, 4.08, 3.97, 4.06, 4.13, 4.19, 4.13, 4.25, 4.16, 4.23, 4.1, 4.14, 4.1, 4.04, 4.09, 4.12, 4.06, 4.13, 4.11, 4.17, 4.12, 4.06, 4.04, 4.15]}, {\"fill\": \"tonexty\", \"fillcolor\": \"rgba(68, 68, 68, 0.2)\", \"legendgroup\": \"[5.0, 4.09, 4.13, 4.14, 4.16, 4.19, 4.19, 4.16, 4.12, 4.12, 4.11, 4.21, 4.21, 4.11, 4.09, 4.08, 4.1, 4.02, 4.05, 4.12, 4.13, 4.07, 4.07, 4.11, 4.02, 4.18, 4.2, 4.13, 4.13, 4.09, 4.06, 4.09, 4.31, 4.1, 4.05, 4.07, 4.1, 4.14, 4.02, 4.13, 4.08, 4.06, 4.14, 4.07, 4.1, 4.17, 4.12, 4.11, 4.09, 4.17, 4.02, 4.17, 4.16, 4.21, 4.08, 4.06, 4.1, 4.08, 4.04, 4.15, 4.19, 4.13, 4.15, 4.05, 4.04, 4.18, 4.04, 4.16, 4.06, 4.02, 4.14, 4.07, 4.08, 4.09, 4.12, 4.08, 4.13, 4.08, 3.97, 4.06, 4.13, 4.19, 4.13, 4.25, 4.16, 4.23, 4.1, 4.14, 4.1, 4.04, 4.09, 4.12, 4.06, 4.13, 4.11, 4.17, 4.12, 4.06, 4.04, 4.15]\", \"line\": {\"dash\": \"dot\", \"width\": 1}, \"marker\": {\"color\": \"#444\"}, \"mode\": \"lines\", \"name\": \"OFF Lower Bound\", \"showlegend\": false, \"type\": \"scatter\", \"x\": [0.0, 1.0101, 2.0202, 3.0303, 4.0404, 5.05051, 6.06061, 7.07071, 8.08081, 9.09091, 10.101, 11.1111, 12.1212, 13.1313, 14.1414, 15.1515, 16.1616, 17.1717, 18.1818, 19.1919, 20.202, 21.2121, 22.2222, 23.2323, 24.2424, 25.2525, 26.2626, 27.2727, 28.2828, 29.2929, 30.303, 31.3131, 32.3232, 33.3333, 34.3434, 35.3535, 36.3636, 37.3737, 38.3838, 39.3939, 40.404, 41.4141, 42.4242, 43.4343, 44.4444, 45.4545, 46.4646, 47.4747, 48.4848, 49.4949, 50.5051, 51.5152, 52.5253, 53.5354, 54.5455, 55.5556, 56.5657, 57.5758, 58.5859, 59.596, 60.6061, 61.6162, 62.6263, 63.6364, 64.6465, 65.6566, 66.6667, 67.6768, 68.6869, 69.697, 70.7071, 71.7172, 72.7273, 73.7374, 74.7475, 75.7576, 76.7677, 77.7778, 78.7879, 79.798, 80.8081, 81.8182, 82.8283, 83.8384, 84.8485, 85.8586, 86.8687, 87.8788, 88.8889, 89.899, 90.9091, 91.9192, 92.9293, 93.9394, 94.9495, 95.9596, 96.9697, 97.9798, 98.9899, 100.0], \"y\": [5.0, 3.5052778437582512, 3.6471956918170676, 3.5919124157582107, 3.636167965851648, 3.6666454356748197, 3.6297322068867426, 3.6174136013499782, 3.6046360509309956, 3.5671890015565904, 3.6021614429762154, 3.6391234809523167, 3.714116949271302, 3.6222500640697124, 3.578238336723041, 3.4687717284025554, 3.4291796067500626, 3.299167148362396, 3.3961651584688988, 3.4990330121495994, 3.5357778193301765, 3.4180030674918793, 3.465764946399169, 3.5117525595541594, 3.454668238995897, 3.6253830150455184, 3.6343145750507624, 3.5357778193301765, 3.570446606658489, 3.42524440581519, 3.430396950452112, 3.4404617024378013, 3.621596048820171, 3.543223563716997, 3.5327959783605696, 3.5551213735257607, 3.5803847577293357, 3.507228319217745, 3.4546682389958967, 3.5030231264233103, 3.5200000000000005, 3.3993942174034504, 3.556561914167407, 3.433525334361218, 3.4442561475697997, 3.5690840324970554, 3.5153513416867614, 3.564197838040193, 3.5226376818998286, 3.5859623299820464, 3.454668238995897, 3.621274203267242, 3.5992861692449525, 3.756237947818463, 3.5024188368722546, 3.5155736964473516, 3.5614835192865484, 3.5200000000000005, 3.4248577400308116, 3.57772384288702, 3.562385468619472, 3.4872714414311434, 3.4810455919870176, 3.4437822173508925, 3.4088106464776198, 3.541564412019505, 3.441334818116169, 3.5817267082079614, 3.5948118660154798, 3.4726427126638395, 3.6104719082050507, 3.536052437031501, 3.4853572501072603, 3.4560441655761815, 3.5493862952925164, 3.5764128675194335, 3.4872714414311434, 3.5024188368722546, 3.4512515060262823, 3.446485533992881, 3.5030231264233107, 3.6297322068867426, 3.607410294781843, 3.6437822173508927, 3.636167965851648, 3.666883670987956, 3.5255437353461967, 3.556561914167407, 3.414434539959895, 3.4248577400308116, 3.5226376818998286, 3.585584431364505, 3.5155736964473516, 3.668372444496648, 3.5828377858761122, 3.7444415433809355, 3.6450263165184835, 3.573790168754271, 3.4757305608133646, 3.6138097352618193]}, {\"legendgroup\": \"[0.0, 0.91, 0.87, 0.86, 0.84, 0.81, 0.81, 0.84, 0.88, 0.88, 0.89, 0.79, 0.79, 0.89, 0.91, 0.92, 0.9, 0.98, 0.95, 0.88, 0.87, 0.93, 0.93, 0.89, 0.98, 0.82, 0.8, 0.87, 0.87, 0.91, 0.94, 0.91, 0.69, 0.9, 0.95, 0.93, 0.9, 0.86, 0.98, 0.87, 0.92, 0.94, 0.86, 0.93, 0.9, 0.83, 0.88, 0.89, 0.91, 0.83, 0.98, 0.83, 0.84, 0.79, 0.92, 0.94, 0.9, 0.92, 0.96, 0.85, 0.81, 0.87, 0.85, 0.95, 0.96, 0.82, 0.96, 0.84, 0.94, 0.98, 0.86, 0.93, 0.92, 0.91, 0.88, 0.92, 0.87, 0.92, 1.03, 0.94, 0.87, 0.81, 0.87, 0.75, 0.84, 0.77, 0.9, 0.86, 0.9, 0.96, 0.91, 0.88, 0.94, 0.87, 0.89, 0.83, 0.88, 0.94, 0.96, 0.85]\", \"line\": {\"dash\": \"dot\", \"width\": 1}, \"marker\": {\"color\": \"#444\"}, \"mode\": \"lines\", \"name\": \"ON Upper Bound\", \"showlegend\": false, \"type\": \"scatter\", \"x\": [0.0, 1.0101, 2.0202, 3.0303, 4.0404, 5.05051, 6.06061, 7.07071, 8.08081, 9.09091, 10.101, 11.1111, 12.1212, 13.1313, 14.1414, 15.1515, 16.1616, 17.1717, 18.1818, 19.1919, 20.202, 21.2121, 22.2222, 23.2323, 24.2424, 25.2525, 26.2626, 27.2727, 28.2828, 29.2929, 30.303, 31.3131, 32.3232, 33.3333, 34.3434, 35.3535, 36.3636, 37.3737, 38.3838, 39.3939, 40.404, 41.4141, 42.4242, 43.4343, 44.4444, 45.4545, 46.4646, 47.4747, 48.4848, 49.4949, 50.5051, 51.5152, 52.5253, 53.5354, 54.5455, 55.5556, 56.5657, 57.5758, 58.5859, 59.596, 60.6061, 61.6162, 62.6263, 63.6364, 64.6465, 65.6566, 66.6667, 67.6768, 68.6869, 69.697, 70.7071, 71.7172, 72.7273, 73.7374, 74.7475, 75.7576, 76.7677, 77.7778, 78.7879, 79.798, 80.8081, 81.8182, 82.8283, 83.8384, 84.8485, 85.8586, 86.8687, 87.8788, 88.8889, 89.899, 90.9091, 91.9192, 92.9293, 93.9394, 94.9495, 95.9596, 96.9697, 97.9798, 98.9899, 100.0], \"y\": [0.0, 1.4947221562417488, 1.3528043081829324, 1.408087584241789, 1.3638320341483523, 1.3333545643251812, 1.3702677931132579, 1.382586398650022, 1.3953639490690044, 1.4328109984434099, 1.397838557023785, 1.3608765190476833, 1.2858830507286976, 1.377749935930288, 1.421761663276959, 1.5312282715974448, 1.570820393249937, 1.7008328516376037, 1.603834841531101, 1.5009669878504008, 1.4642221806698232, 1.5819969325081211, 1.5342350536008316, 1.488247440445841, 1.5453317610041024, 1.3746169849544816, 1.365685424949238, 1.4642221806698232, 1.4295533933415112, 1.57475559418481, 1.5696030495478874, 1.5595382975621987, 1.3784039511798287, 1.4567764362830025, 1.4672040216394302, 1.4448786264742397, 1.4196152422706634, 1.4927716807822549, 1.5453317610041029, 1.4969768735766893, 1.4799999999999995, 1.6006057825965496, 1.4434380858325928, 1.5664746656387822, 1.5557438524301999, 1.4309159675029446, 1.4846486583132386, 1.4358021619598076, 1.477362318100171, 1.4140376700179536, 1.5453317610041026, 1.3787257967327582, 1.400713830755048, 1.2437620521815371, 1.4975811631277458, 1.484426303552648, 1.438516480713451, 1.4799999999999995, 1.5751422599691884, 1.42227615711298, 1.4376145313805284, 1.5127285585688566, 1.5189544080129829, 1.556217782649107, 1.5911893535223802, 1.458435587980495, 1.5586651818838313, 1.4182732917920386, 1.4051881339845198, 1.52735728733616, 1.3895280917949493, 1.4639475629684995, 1.51464274989274, 1.543955834423818, 1.4506137047074836, 1.4235871324805665, 1.5127285585688566, 1.4975811631277458, 1.5487484939737177, 1.5535144660071185, 1.4969768735766893, 1.3702677931132579, 1.3925897052181568, 1.356217782649107, 1.363832034148352, 1.3331163290120438, 1.4744562646538029, 1.4434380858325926, 1.5855654600401046, 1.5751422599691884, 1.477362318100171, 1.4144155686354953, 1.484426303552648, 1.3316275555033517, 1.4171622141238882, 1.2555584566190645, 1.3549736834815165, 1.4262098312457285, 1.5242694391866354, 1.386190264738181]}, {\"fill\": \"tonexty\", \"fillcolor\": \"rgba(68, 68, 68, 0.2)\", \"legendgroup\": \"[0.0, 0.91, 0.87, 0.86, 0.84, 0.81, 0.81, 0.84, 0.88, 0.88, 0.89, 0.79, 0.79, 0.89, 0.91, 0.92, 0.9, 0.98, 0.95, 0.88, 0.87, 0.93, 0.93, 0.89, 0.98, 0.82, 0.8, 0.87, 0.87, 0.91, 0.94, 0.91, 0.69, 0.9, 0.95, 0.93, 0.9, 0.86, 0.98, 0.87, 0.92, 0.94, 0.86, 0.93, 0.9, 0.83, 0.88, 0.89, 0.91, 0.83, 0.98, 0.83, 0.84, 0.79, 0.92, 0.94, 0.9, 0.92, 0.96, 0.85, 0.81, 0.87, 0.85, 0.95, 0.96, 0.82, 0.96, 0.84, 0.94, 0.98, 0.86, 0.93, 0.92, 0.91, 0.88, 0.92, 0.87, 0.92, 1.03, 0.94, 0.87, 0.81, 0.87, 0.75, 0.84, 0.77, 0.9, 0.86, 0.9, 0.96, 0.91, 0.88, 0.94, 0.87, 0.89, 0.83, 0.88, 0.94, 0.96, 0.85]\", \"name\": \"ON\", \"type\": \"scatter\", \"x\": [0.0, 1.0101, 2.0202, 3.0303, 4.0404, 5.05051, 6.06061, 7.07071, 8.08081, 9.09091, 10.101, 11.1111, 12.1212, 13.1313, 14.1414, 15.1515, 16.1616, 17.1717, 18.1818, 19.1919, 20.202, 21.2121, 22.2222, 23.2323, 24.2424, 25.2525, 26.2626, 27.2727, 28.2828, 29.2929, 30.303, 31.3131, 32.3232, 33.3333, 34.3434, 35.3535, 36.3636, 37.3737, 38.3838, 39.3939, 40.404, 41.4141, 42.4242, 43.4343, 44.4444, 45.4545, 46.4646, 47.4747, 48.4848, 49.4949, 50.5051, 51.5152, 52.5253, 53.5354, 54.5455, 55.5556, 56.5657, 57.5758, 58.5859, 59.596, 60.6061, 61.6162, 62.6263, 63.6364, 64.6465, 65.6566, 66.6667, 67.6768, 68.6869, 69.697, 70.7071, 71.7172, 72.7273, 73.7374, 74.7475, 75.7576, 76.7677, 77.7778, 78.7879, 79.798, 80.8081, 81.8182, 82.8283, 83.8384, 84.8485, 85.8586, 86.8687, 87.8788, 88.8889, 89.899, 90.9091, 91.9192, 92.9293, 93.9394, 94.9495, 95.9596, 96.9697, 97.9798, 98.9899, 100.0], \"y\": [0.0, 0.91, 0.87, 0.86, 0.84, 0.81, 0.81, 0.84, 0.88, 0.88, 0.89, 0.79, 0.79, 0.89, 0.91, 0.92, 0.9, 0.98, 0.95, 0.88, 0.87, 0.93, 0.93, 0.89, 0.98, 0.82, 0.8, 0.87, 0.87, 0.91, 0.94, 0.91, 0.69, 0.9, 0.95, 0.93, 0.9, 0.86, 0.98, 0.87, 0.92, 0.94, 0.86, 0.93, 0.9, 0.83, 0.88, 0.89, 0.91, 0.83, 0.98, 0.83, 0.84, 0.79, 0.92, 0.94, 0.9, 0.92, 0.96, 0.85, 0.81, 0.87, 0.85, 0.95, 0.96, 0.82, 0.96, 0.84, 0.94, 0.98, 0.86, 0.93, 0.92, 0.91, 0.88, 0.92, 0.87, 0.92, 1.03, 0.94, 0.87, 0.81, 0.87, 0.75, 0.84, 0.77, 0.9, 0.86, 0.9, 0.96, 0.91, 0.88, 0.94, 0.87, 0.89, 0.83, 0.88, 0.94, 0.96, 0.85]}, {\"fill\": \"tonexty\", \"fillcolor\": \"rgba(68, 68, 68, 0.2)\", \"legendgroup\": \"[0.0, 0.91, 0.87, 0.86, 0.84, 0.81, 0.81, 0.84, 0.88, 0.88, 0.89, 0.79, 0.79, 0.89, 0.91, 0.92, 0.9, 0.98, 0.95, 0.88, 0.87, 0.93, 0.93, 0.89, 0.98, 0.82, 0.8, 0.87, 0.87, 0.91, 0.94, 0.91, 0.69, 0.9, 0.95, 0.93, 0.9, 0.86, 0.98, 0.87, 0.92, 0.94, 0.86, 0.93, 0.9, 0.83, 0.88, 0.89, 0.91, 0.83, 0.98, 0.83, 0.84, 0.79, 0.92, 0.94, 0.9, 0.92, 0.96, 0.85, 0.81, 0.87, 0.85, 0.95, 0.96, 0.82, 0.96, 0.84, 0.94, 0.98, 0.86, 0.93, 0.92, 0.91, 0.88, 0.92, 0.87, 0.92, 1.03, 0.94, 0.87, 0.81, 0.87, 0.75, 0.84, 0.77, 0.9, 0.86, 0.9, 0.96, 0.91, 0.88, 0.94, 0.87, 0.89, 0.83, 0.88, 0.94, 0.96, 0.85]\", \"line\": {\"dash\": \"dot\", \"width\": 1}, \"marker\": {\"color\": \"#444\"}, \"mode\": \"lines\", \"name\": \"ON Lower Bound\", \"showlegend\": false, \"type\": \"scatter\", \"x\": [0.0, 1.0101, 2.0202, 3.0303, 4.0404, 5.05051, 6.06061, 7.07071, 8.08081, 9.09091, 10.101, 11.1111, 12.1212, 13.1313, 14.1414, 15.1515, 16.1616, 17.1717, 18.1818, 19.1919, 20.202, 21.2121, 22.2222, 23.2323, 24.2424, 25.2525, 26.2626, 27.2727, 28.2828, 29.2929, 30.303, 31.3131, 32.3232, 33.3333, 34.3434, 35.3535, 36.3636, 37.3737, 38.3838, 39.3939, 40.404, 41.4141, 42.4242, 43.4343, 44.4444, 45.4545, 46.4646, 47.4747, 48.4848, 49.4949, 50.5051, 51.5152, 52.5253, 53.5354, 54.5455, 55.5556, 56.5657, 57.5758, 58.5859, 59.596, 60.6061, 61.6162, 62.6263, 63.6364, 64.6465, 65.6566, 66.6667, 67.6768, 68.6869, 69.697, 70.7071, 71.7172, 72.7273, 73.7374, 74.7475, 75.7576, 76.7677, 77.7778, 78.7879, 79.798, 80.8081, 81.8182, 82.8283, 83.8384, 84.8485, 85.8586, 86.8687, 87.8788, 88.8889, 89.899, 90.9091, 91.9192, 92.9293, 93.9394, 94.9495, 95.9596, 96.9697, 97.9798, 98.9899, 100.0], \"y\": [0.0, 0.3252778437582514, 0.38719569181706764, 0.31191241575821094, 0.31616796585164764, 0.28664543567481904, 0.24973220688674225, 0.29741360134997796, 0.3646360509309955, 0.32718900155659014, 0.382161442976215, 0.2191234809523167, 0.2941169492713025, 0.40225006406971187, 0.3982383367230411, 0.3087717284025553, 0.2291796067500631, 0.2591671483623963, 0.2961651584688989, 0.2590330121495992, 0.27577781933017675, 0.27800306749187886, 0.32576494639916864, 0.291752559554159, 0.41466823899589744, 0.2653830150455182, 0.23431457505076214, 0.27577781933017675, 0.3104466066584888, 0.24524440581519025, 0.31039695045211246, 0.2604617024378014, 0.0015960488201712808, 0.3432235637169976, 0.4327959783605697, 0.4151213735257604, 0.38038475772933655, 0.22722831921774522, 0.4146682389958972, 0.2430231264233106, 0.36000000000000054, 0.2793942174034504, 0.27656191416740716, 0.29352533436121797, 0.24425614756980019, 0.22908403249705533, 0.27535134168676145, 0.3441978380401923, 0.342637681899829, 0.24596232998204637, 0.41466823899589733, 0.28127420326724184, 0.2792861692449521, 0.33623794781846283, 0.3424188368722544, 0.3955736964473521, 0.3614835192865491, 0.36000000000000054, 0.3448577400308114, 0.2777238428870198, 0.1823854686194718, 0.22727144143114342, 0.1810455919870172, 0.34378221735089276, 0.3288106464776196, 0.1815644120195048, 0.36133481811616863, 0.2617267082079613, 0.4748118660154801, 0.4326427126638398, 0.3304719082050508, 0.3960524370315006, 0.32535725010726013, 0.27604416557618194, 0.30938629529251627, 0.4164128675194335, 0.22727144143114353, 0.3424188368722543, 0.5112515060262823, 0.3264855339928814, 0.2430231264233106, 0.24973220688674225, 0.34741029478184315, 0.14378221735089292, 0.31616796585164775, 0.20688367098795635, 0.3255437353461973, 0.2765619141674073, 0.2144345399598956, 0.3448577400308115, 0.342637681899829, 0.3455844313645047, 0.39557369644735196, 0.4083724444966484, 0.3628377858761118, 0.4044415433809355, 0.4050263165184834, 0.4537901687542714, 0.39573056081336455, 0.313809735261819]}],\n",
       "                        {\"legend\": {\"traceorder\": \"normal\"}, \"showlegend\": true, \"template\": {\"data\": {\"bar\": [{\"error_x\": {\"color\": \"#2a3f5f\"}, \"error_y\": {\"color\": \"#2a3f5f\"}, \"marker\": {\"line\": {\"color\": \"#E5ECF6\", \"width\": 0.5}}, \"type\": \"bar\"}], \"barpolar\": [{\"marker\": {\"line\": {\"color\": \"#E5ECF6\", \"width\": 0.5}}, \"type\": \"barpolar\"}], \"carpet\": [{\"aaxis\": {\"endlinecolor\": \"#2a3f5f\", \"gridcolor\": \"white\", \"linecolor\": \"white\", \"minorgridcolor\": \"white\", \"startlinecolor\": \"#2a3f5f\"}, \"baxis\": {\"endlinecolor\": \"#2a3f5f\", \"gridcolor\": \"white\", \"linecolor\": \"white\", \"minorgridcolor\": \"white\", \"startlinecolor\": \"#2a3f5f\"}, \"type\": \"carpet\"}], \"choropleth\": [{\"colorbar\": {\"outlinewidth\": 0, \"ticks\": \"\"}, \"type\": \"choropleth\"}], \"contour\": [{\"colorbar\": {\"outlinewidth\": 0, \"ticks\": \"\"}, \"colorscale\": [[0.0, \"#0d0887\"], [0.1111111111111111, \"#46039f\"], [0.2222222222222222, \"#7201a8\"], [0.3333333333333333, \"#9c179e\"], [0.4444444444444444, \"#bd3786\"], [0.5555555555555556, \"#d8576b\"], [0.6666666666666666, \"#ed7953\"], [0.7777777777777778, \"#fb9f3a\"], [0.8888888888888888, \"#fdca26\"], [1.0, \"#f0f921\"]], \"type\": \"contour\"}], \"contourcarpet\": [{\"colorbar\": {\"outlinewidth\": 0, \"ticks\": \"\"}, \"type\": \"contourcarpet\"}], \"heatmap\": [{\"colorbar\": {\"outlinewidth\": 0, \"ticks\": \"\"}, \"colorscale\": [[0.0, \"#0d0887\"], [0.1111111111111111, \"#46039f\"], [0.2222222222222222, \"#7201a8\"], [0.3333333333333333, \"#9c179e\"], [0.4444444444444444, \"#bd3786\"], [0.5555555555555556, \"#d8576b\"], [0.6666666666666666, \"#ed7953\"], [0.7777777777777778, \"#fb9f3a\"], [0.8888888888888888, \"#fdca26\"], [1.0, \"#f0f921\"]], \"type\": \"heatmap\"}], \"heatmapgl\": [{\"colorbar\": {\"outlinewidth\": 0, \"ticks\": \"\"}, \"colorscale\": [[0.0, \"#0d0887\"], [0.1111111111111111, \"#46039f\"], [0.2222222222222222, \"#7201a8\"], [0.3333333333333333, \"#9c179e\"], [0.4444444444444444, \"#bd3786\"], [0.5555555555555556, \"#d8576b\"], [0.6666666666666666, \"#ed7953\"], [0.7777777777777778, \"#fb9f3a\"], [0.8888888888888888, \"#fdca26\"], [1.0, \"#f0f921\"]], \"type\": \"heatmapgl\"}], \"histogram\": [{\"marker\": {\"colorbar\": {\"outlinewidth\": 0, \"ticks\": \"\"}}, \"type\": \"histogram\"}], \"histogram2d\": [{\"colorbar\": {\"outlinewidth\": 0, \"ticks\": \"\"}, \"colorscale\": [[0.0, \"#0d0887\"], [0.1111111111111111, \"#46039f\"], [0.2222222222222222, \"#7201a8\"], [0.3333333333333333, \"#9c179e\"], [0.4444444444444444, \"#bd3786\"], [0.5555555555555556, \"#d8576b\"], [0.6666666666666666, \"#ed7953\"], [0.7777777777777778, \"#fb9f3a\"], [0.8888888888888888, \"#fdca26\"], [1.0, \"#f0f921\"]], \"type\": \"histogram2d\"}], \"histogram2dcontour\": [{\"colorbar\": {\"outlinewidth\": 0, \"ticks\": \"\"}, \"colorscale\": [[0.0, \"#0d0887\"], [0.1111111111111111, \"#46039f\"], [0.2222222222222222, \"#7201a8\"], [0.3333333333333333, \"#9c179e\"], [0.4444444444444444, \"#bd3786\"], [0.5555555555555556, \"#d8576b\"], [0.6666666666666666, \"#ed7953\"], [0.7777777777777778, \"#fb9f3a\"], [0.8888888888888888, \"#fdca26\"], [1.0, \"#f0f921\"]], \"type\": \"histogram2dcontour\"}], \"mesh3d\": [{\"colorbar\": {\"outlinewidth\": 0, \"ticks\": \"\"}, \"type\": \"mesh3d\"}], \"parcoords\": [{\"line\": {\"colorbar\": {\"outlinewidth\": 0, \"ticks\": \"\"}}, \"type\": \"parcoords\"}], \"pie\": [{\"automargin\": true, \"type\": \"pie\"}], \"scatter\": [{\"marker\": {\"colorbar\": {\"outlinewidth\": 0, \"ticks\": \"\"}}, \"type\": \"scatter\"}], \"scatter3d\": [{\"line\": {\"colorbar\": {\"outlinewidth\": 0, \"ticks\": \"\"}}, \"marker\": {\"colorbar\": {\"outlinewidth\": 0, \"ticks\": \"\"}}, \"type\": \"scatter3d\"}], \"scattercarpet\": [{\"marker\": {\"colorbar\": {\"outlinewidth\": 0, \"ticks\": \"\"}}, \"type\": \"scattercarpet\"}], \"scattergeo\": [{\"marker\": {\"colorbar\": {\"outlinewidth\": 0, \"ticks\": \"\"}}, \"type\": \"scattergeo\"}], \"scattergl\": [{\"marker\": {\"colorbar\": {\"outlinewidth\": 0, \"ticks\": \"\"}}, \"type\": \"scattergl\"}], \"scattermapbox\": [{\"marker\": {\"colorbar\": {\"outlinewidth\": 0, \"ticks\": \"\"}}, \"type\": \"scattermapbox\"}], \"scatterpolar\": [{\"marker\": {\"colorbar\": {\"outlinewidth\": 0, \"ticks\": \"\"}}, \"type\": \"scatterpolar\"}], \"scatterpolargl\": [{\"marker\": {\"colorbar\": {\"outlinewidth\": 0, \"ticks\": \"\"}}, \"type\": \"scatterpolargl\"}], \"scatterternary\": [{\"marker\": {\"colorbar\": {\"outlinewidth\": 0, \"ticks\": \"\"}}, \"type\": \"scatterternary\"}], \"surface\": [{\"colorbar\": {\"outlinewidth\": 0, \"ticks\": \"\"}, \"colorscale\": [[0.0, \"#0d0887\"], [0.1111111111111111, \"#46039f\"], [0.2222222222222222, \"#7201a8\"], [0.3333333333333333, \"#9c179e\"], [0.4444444444444444, \"#bd3786\"], [0.5555555555555556, \"#d8576b\"], [0.6666666666666666, \"#ed7953\"], [0.7777777777777778, \"#fb9f3a\"], [0.8888888888888888, \"#fdca26\"], [1.0, \"#f0f921\"]], \"type\": \"surface\"}], \"table\": [{\"cells\": {\"fill\": {\"color\": \"#EBF0F8\"}, \"line\": {\"color\": \"white\"}}, \"header\": {\"fill\": {\"color\": \"#C8D4E3\"}, \"line\": {\"color\": \"white\"}}, \"type\": \"table\"}]}, \"layout\": {\"annotationdefaults\": {\"arrowcolor\": \"#2a3f5f\", \"arrowhead\": 0, \"arrowwidth\": 1}, \"coloraxis\": {\"colorbar\": {\"outlinewidth\": 0, \"ticks\": \"\"}}, \"colorscale\": {\"diverging\": [[0, \"#8e0152\"], [0.1, \"#c51b7d\"], [0.2, \"#de77ae\"], [0.3, \"#f1b6da\"], [0.4, \"#fde0ef\"], [0.5, \"#f7f7f7\"], [0.6, \"#e6f5d0\"], [0.7, \"#b8e186\"], [0.8, \"#7fbc41\"], [0.9, \"#4d9221\"], [1, \"#276419\"]], \"sequential\": [[0.0, \"#0d0887\"], [0.1111111111111111, \"#46039f\"], [0.2222222222222222, \"#7201a8\"], [0.3333333333333333, \"#9c179e\"], [0.4444444444444444, \"#bd3786\"], [0.5555555555555556, \"#d8576b\"], [0.6666666666666666, \"#ed7953\"], [0.7777777777777778, \"#fb9f3a\"], [0.8888888888888888, \"#fdca26\"], [1.0, \"#f0f921\"]], \"sequentialminus\": [[0.0, \"#0d0887\"], [0.1111111111111111, \"#46039f\"], [0.2222222222222222, \"#7201a8\"], [0.3333333333333333, \"#9c179e\"], [0.4444444444444444, \"#bd3786\"], [0.5555555555555556, \"#d8576b\"], [0.6666666666666666, \"#ed7953\"], [0.7777777777777778, \"#fb9f3a\"], [0.8888888888888888, \"#fdca26\"], [1.0, \"#f0f921\"]]}, \"colorway\": [\"#636efa\", \"#EF553B\", \"#00cc96\", \"#ab63fa\", \"#FFA15A\", \"#19d3f3\", \"#FF6692\", \"#B6E880\", \"#FF97FF\", \"#FECB52\"], \"font\": {\"color\": \"#2a3f5f\"}, \"geo\": {\"bgcolor\": \"white\", \"lakecolor\": \"white\", \"landcolor\": \"#E5ECF6\", \"showlakes\": true, \"showland\": true, \"subunitcolor\": \"white\"}, \"hoverlabel\": {\"align\": \"left\"}, \"hovermode\": \"closest\", \"mapbox\": {\"style\": \"light\"}, \"paper_bgcolor\": \"white\", \"plot_bgcolor\": \"#E5ECF6\", \"polar\": {\"angularaxis\": {\"gridcolor\": \"white\", \"linecolor\": \"white\", \"ticks\": \"\"}, \"bgcolor\": \"#E5ECF6\", \"radialaxis\": {\"gridcolor\": \"white\", \"linecolor\": \"white\", \"ticks\": \"\"}}, \"scene\": {\"xaxis\": {\"backgroundcolor\": \"#E5ECF6\", \"gridcolor\": \"white\", \"gridwidth\": 2, \"linecolor\": \"white\", \"showbackground\": true, \"ticks\": \"\", \"zerolinecolor\": \"white\"}, \"yaxis\": {\"backgroundcolor\": \"#E5ECF6\", \"gridcolor\": \"white\", \"gridwidth\": 2, \"linecolor\": \"white\", \"showbackground\": true, \"ticks\": \"\", \"zerolinecolor\": \"white\"}, \"zaxis\": {\"backgroundcolor\": \"#E5ECF6\", \"gridcolor\": \"white\", \"gridwidth\": 2, \"linecolor\": \"white\", \"showbackground\": true, \"ticks\": \"\", \"zerolinecolor\": \"white\"}}, \"shapedefaults\": {\"line\": {\"color\": \"#2a3f5f\"}}, \"ternary\": {\"aaxis\": {\"gridcolor\": \"white\", \"linecolor\": \"white\", \"ticks\": \"\"}, \"baxis\": {\"gridcolor\": \"white\", \"linecolor\": \"white\", \"ticks\": \"\"}, \"bgcolor\": \"#E5ECF6\", \"caxis\": {\"gridcolor\": \"white\", \"linecolor\": \"white\", \"ticks\": \"\"}}, \"title\": {\"x\": 0.05}, \"xaxis\": {\"automargin\": true, \"gridcolor\": \"white\", \"linecolor\": \"white\", \"ticks\": \"\", \"title\": {\"standoff\": 15}, \"zerolinecolor\": \"white\", \"zerolinewidth\": 2}, \"yaxis\": {\"automargin\": true, \"gridcolor\": \"white\", \"linecolor\": \"white\", \"ticks\": \"\", \"title\": {\"standoff\": 15}, \"zerolinecolor\": \"white\", \"zerolinewidth\": 2}}}, \"title\": {\"text\": \"Mean and Standard Deviation\"}, \"xaxis\": {\"title\": {\"text\": \"Time\"}}, \"yaxis\": {\"title\": {\"text\": \"Value\"}}},\n",
       "                        {\"responsive\": true}\n",
       "                    ).then(function(){\n",
       "                            \n",
       "var gd = document.getElementById('44ac3d55-64ae-42d8-a411-1fc97642875a');\n",
       "var x = new MutationObserver(function (mutations, observer) {{\n",
       "        var display = window.getComputedStyle(gd).display;\n",
       "        if (!display || display === 'none') {{\n",
       "            console.log([gd, 'removed!']);\n",
       "            Plotly.purge(gd);\n",
       "            observer.disconnect();\n",
       "        }}\n",
       "}});\n",
       "\n",
       "// Listen for the removal of the full notebook cells\n",
       "var notebookContainer = gd.closest('#notebook-container');\n",
       "if (notebookContainer) {{\n",
       "    x.observe(notebookContainer, {childList: true});\n",
       "}}\n",
       "\n",
       "// Listen for the clearing of the current output cell\n",
       "var outputEl = gd.closest('.output');\n",
       "if (outputEl) {{\n",
       "    x.observe(outputEl, {childList: true});\n",
       "}}\n",
       "\n",
       "                        })\n",
       "                };\n",
       "                });\n",
       "            </script>\n",
       "        </div>"
      ]
     },
     "metadata": {},
     "output_type": "display_data"
    }
   ],
   "source": [
    "n=5\n",
    "model = create_on_off_reaction(n)\n",
    "results = model.run(number_of_trajectories=num_traj)\n",
    "results.plotplotly_mean_stdev()"
   ]
  },
  {
   "cell_type": "code",
   "execution_count": 91,
   "metadata": {},
   "outputs": [
    {
     "name": "stdout",
     "output_type": "stream",
     "text": [
      "0\t0.16799999999999998 \t 0.8320000000000001\n",
      "1\t0.16999999999999996 \t 0.8299999999999998\n",
      "2\t0.15599999999999997 \t 0.8439999999999999\n",
      "3\t0.172 \t 0.828\n",
      "4\t0.16999999999999993 \t 0.8299999999999998\n",
      "5\t0.18799999999999994 \t 0.8119999999999997\n",
      "6\t0.15999999999999998 \t 0.84\n",
      "7\t0.20199999999999999 \t 0.7979999999999998\n",
      "8\t0.182 \t 0.818\n",
      "9\t0.16399999999999998 \t 0.836\n",
      "10\t0.168 \t 0.8320000000000001\n",
      "11\t0.15399999999999997 \t 0.846\n",
      "12\t0.16 \t 0.8399999999999999\n",
      "13\t0.162 \t 0.838\n",
      "14\t0.15599999999999997 \t 0.8440000000000001\n",
      "15\t0.152 \t 0.8480000000000001\n",
      "16\t0.15599999999999997 \t 0.8439999999999999\n",
      "17\t0.17999999999999994 \t 0.82\n",
      "18\t0.16199999999999995 \t 0.8379999999999999\n",
      "19\t0.17999999999999997 \t 0.8199999999999998\n",
      "20\t0.18399999999999994 \t 0.8159999999999998\n",
      "21\t0.17799999999999996 \t 0.8220000000000001\n",
      "22\t0.188 \t 0.8119999999999998\n",
      "23\t0.16999999999999996 \t 0.8299999999999998\n",
      "24\t0.18599999999999997 \t 0.814\n",
      "25\t0.17 \t 0.83\n",
      "26\t0.19399999999999998 \t 0.8059999999999999\n",
      "27\t0.18799999999999997 \t 0.8119999999999998\n",
      "28\t0.16999999999999996 \t 0.8299999999999998\n",
      "29\t0.14799999999999996 \t 0.852\n",
      "30\t0.192 \t 0.8079999999999999\n",
      "31\t0.16999999999999996 \t 0.83\n",
      "32\t0.16399999999999995 \t 0.8359999999999999\n",
      "33\t0.16399999999999998 \t 0.836\n",
      "34\t0.18199999999999997 \t 0.8179999999999998\n",
      "35\t0.17399999999999996 \t 0.826\n",
      "36\t0.182 \t 0.818\n",
      "37\t0.20799999999999996 \t 0.7919999999999999\n",
      "38\t0.17999999999999997 \t 0.8199999999999998\n",
      "39\t0.15999999999999998 \t 0.8399999999999999\n",
      "40\t0.13799999999999998 \t 0.8619999999999999\n",
      "41\t0.17599999999999993 \t 0.8239999999999997\n",
      "42\t0.15999999999999998 \t 0.8399999999999999\n",
      "43\t0.19599999999999998 \t 0.8039999999999999\n",
      "44\t0.176 \t 0.824\n",
      "45\t0.182 \t 0.818\n",
      "46\t0.17999999999999997 \t 0.82\n",
      "47\t0.17399999999999996 \t 0.8259999999999998\n",
      "48\t0.18199999999999997 \t 0.8179999999999998\n",
      "49\t0.18599999999999997 \t 0.814\n",
      "50\t0.17999999999999997 \t 0.82\n",
      "51\t0.16799999999999998 \t 0.8319999999999999\n",
      "52\t0.162 \t 0.8379999999999999\n",
      "53\t0.16999999999999996 \t 0.8299999999999998\n",
      "54\t0.16599999999999998 \t 0.8340000000000001\n",
      "55\t0.16 \t 0.8399999999999999\n",
      "56\t0.13999999999999996 \t 0.86\n",
      "57\t0.184 \t 0.816\n",
      "58\t0.2 \t 0.7999999999999998\n",
      "59\t0.17199999999999996 \t 0.8279999999999998\n",
      "60\t0.184 \t 0.816\n",
      "61\t0.19 \t 0.81\n",
      "62\t0.18399999999999994 \t 0.816\n",
      "63\t0.15799999999999997 \t 0.8419999999999999\n",
      "64\t0.18599999999999997 \t 0.814\n",
      "65\t0.16999999999999996 \t 0.83\n",
      "66\t0.16999999999999996 \t 0.8299999999999998\n",
      "67\t0.19599999999999998 \t 0.8039999999999998\n",
      "68\t0.154 \t 0.846\n",
      "69\t0.17799999999999996 \t 0.8219999999999998\n",
      "70\t0.19799999999999998 \t 0.8019999999999999\n",
      "71\t0.16399999999999998 \t 0.836\n",
      "72\t0.17 \t 0.83\n",
      "73\t0.17599999999999993 \t 0.8239999999999997\n",
      "74\t0.18599999999999997 \t 0.814\n",
      "75\t0.23999999999999996 \t 0.7599999999999999\n",
      "76\t0.174 \t 0.8260000000000001\n",
      "77\t0.19 \t 0.81\n",
      "78\t0.176 \t 0.824\n",
      "79\t0.14799999999999996 \t 0.852\n",
      "80\t0.184 \t 0.816\n",
      "81\t0.16799999999999993 \t 0.8319999999999999\n",
      "82\t0.15599999999999997 \t 0.8439999999999999\n",
      "83\t0.19999999999999996 \t 0.7999999999999998\n",
      "84\t0.206 \t 0.7939999999999999\n",
      "85\t0.176 \t 0.8240000000000001\n",
      "86\t0.17999999999999997 \t 0.82\n",
      "87\t0.18599999999999994 \t 0.8139999999999997\n",
      "88\t0.17399999999999996 \t 0.826\n",
      "89\t0.16399999999999998 \t 0.836\n",
      "90\t0.18199999999999997 \t 0.818\n",
      "91\t0.19599999999999998 \t 0.8039999999999999\n",
      "92\t0.19399999999999998 \t 0.8059999999999999\n",
      "93\t0.16799999999999998 \t 0.8320000000000001\n",
      "94\t0.18199999999999997 \t 0.8179999999999998\n",
      "95\t0.17399999999999996 \t 0.826\n",
      "96\t0.21599999999999997 \t 0.7839999999999999\n",
      "97\t0.13599999999999998 \t 0.8639999999999999\n",
      "98\t0.18599999999999997 \t 0.814\n",
      "99\t0.18599999999999997 \t 0.814\n"
     ]
    }
   ],
   "source": [
    "for n in range(num_traj):\n",
    "    print(f\"{n}\\t{np.sum(results[n]['ON']/float(5))/len(results[n]['ON'])} \\t {np.sum(results[n]['OFF']/float(5))/len(results[n]['OFF'])}\")"
   ]
  },
  {
   "cell_type": "code",
   "execution_count": 99,
   "metadata": {},
   "outputs": [],
   "source": [
    "all_solvers = \\\n",
    "[gillespy2.NumPySSASolver,\n",
    " gillespy2.SSACSolver,\n",
    " gillespy2.TauLeapingSolver,\n",
    " gillespy2.TauLeapingCSolver,\n",
    " gillespy2.TauHybridSolver,\n",
    " gillespy2.TauHybridCSolver,\n",
    " gillespy2.ODESolver,\n",
    " gillespy2.ODECSolver,\n",
    " gillespy2.CLESolver]\n",
    "s_xvals = [1,2,3,5,7,9]"
   ]
  },
  {
   "cell_type": "code",
   "execution_count": 103,
   "metadata": {},
   "outputs": [
    {
     "name": "stdout",
     "output_type": "stream",
     "text": [
      "{'NumPySSASolver': {1: 0.09}}\n",
      "{'NumPySSASolver': {1: 0.91}}\n"
     ]
    }
   ],
   "source": [
    "if False:\n",
    "    # reset the cache\n",
    "    s_on_ratios = {}\n",
    "    s_off_ratios = {}\n",
    "\n",
    "print(s_on_ratios)\n",
    "print(s_off_ratios)"
   ]
  },
  {
   "cell_type": "code",
   "execution_count": 104,
   "metadata": {},
   "outputs": [
    {
     "name": "stdout",
     "output_type": "stream",
     "text": [
      "NumPySSASolver\n",
      "1\tratio ON/OFF: 0.09  /  0.91\n",
      "2\tratio ON/OFF: 0.095  /  0.905\n",
      "3\tratio ON/OFF: 0.14666666666666667  /  0.8533333333333334\n",
      "5\tratio ON/OFF: 0.09  /  0.9099999999999999\n",
      "7\tratio ON/OFF: 0.10285714285714286  /  0.8971428571428571\n",
      "9\tratio ON/OFF: 0.08888888888888889  /  0.911111111111111\n",
      "SSACSolver\n",
      "1\tratio ON/OFF: 0.93  /  0.07\n",
      "2\tratio ON/OFF: 0.385  /  0.615\n",
      "3\tratio ON/OFF: 0.26666666666666666  /  0.7333333333333334\n",
      "5\tratio ON/OFF: 0.16599999999999998  /  0.834\n",
      "7\tratio ON/OFF: 0.15714285714285717  /  0.8428571428571429\n",
      "9\tratio ON/OFF: 0.12555555555555553  /  0.8744444444444445\n",
      "TauLeapingSolver\n",
      "1\tratio ON/OFF: 0.11  /  0.89\n",
      "2\tratio ON/OFF: 0.065  /  0.935\n",
      "3\tratio ON/OFF: 0.16333333333333333  /  0.8366666666666666\n",
      "5\tratio ON/OFF: 0.13  /  0.8699999999999999\n",
      "7\tratio ON/OFF: 0.11857142857142856  /  0.8814285714285715\n",
      "9\tratio ON/OFF: 0.13  /  0.87\n",
      "TauLeapingCSolver\n",
      "1\tratio ON/OFF: 0.18  /  0.82\n",
      "2\tratio ON/OFF: 0.105  /  0.895\n",
      "3\tratio ON/OFF: 0.19333333333333333  /  0.8066666666666666\n",
      "5\tratio ON/OFF: 0.154  /  0.8460000000000001\n",
      "7\tratio ON/OFF: 0.13  /  0.87\n",
      "9\tratio ON/OFF: 0.11  /  0.89\n",
      "TauHybridSolver\n",
      "1\tratio ON/OFF: 0.18  /  0.82\n",
      "2\tratio ON/OFF: 0.09  /  0.91\n",
      "3\tratio ON/OFF: 0.13333333333333333  /  0.8666666666666667\n",
      "5\tratio ON/OFF: 0.122  /  0.8779999999999999\n",
      "7\tratio ON/OFF: 0.12571428571428572  /  0.8742857142857143\n",
      "9\tratio ON/OFF: 0.11888888888888889  /  0.8811111111111111\n",
      "TauHybridCSolver\n",
      "1\tratio ON/OFF: 0.08  /  0.92\n",
      "2\tratio ON/OFF: 0.165  /  0.835\n",
      "3\tratio ON/OFF: 0.08666666666666667  /  0.9133333333333334\n",
      "5\tratio ON/OFF: 0.118  /  0.882\n",
      "7\tratio ON/OFF: 0.13714285714285715  /  0.8628571428571429\n",
      "9\tratio ON/OFF: 0.0811111111111111  /  0.9188888888888889\n",
      "ODESolver\n",
      "1\tratio ON/OFF: 0.08955387181682185  /  0.910446128183178\n",
      "2\tratio ON/OFF: 0.08955387175955185  /  0.9104461282404478\n",
      "3\tratio ON/OFF: 0.08955387159834349  /  0.9104461284016558\n",
      "5\tratio ON/OFF: 0.0895538717156003  /  0.9104461282843992\n",
      "7\tratio ON/OFF: 0.08955387171027938  /  0.9104461282897205\n",
      "9\tratio ON/OFF: 0.08955387173708873  /  0.9104461282629112\n",
      "ODECSolver\n",
      "1\tratio ON/OFF: 0.08955387899999996  /  0.91044621\n",
      "2\tratio ON/OFF: 0.08955379000000001  /  0.9104453499999999\n",
      "3\tratio ON/OFF: 0.08955379000000001  /  0.9104453666666664\n",
      "5\tratio ON/OFF: 0.089553792  /  0.9104453400000002\n",
      "7\tratio ON/OFF: 0.08955391714285717  /  0.9104466000000005\n",
      "9\tratio ON/OFF: 0.08955388888888886  /  0.9104463111111113\n",
      "CLESolver\n",
      "1\tratio ON/OFF: 0.33945832453445385  /  0.6605416754655462\n",
      "2\tratio ON/OFF: 0.2187756419937277  /  0.781224358006272\n",
      "3\tratio ON/OFF: 0.20595609879313603  /  0.7940439012068637\n",
      "5\tratio ON/OFF: 0.1593289476340928  /  0.8406710523659069\n",
      "7\tratio ON/OFF: 0.15437510678996205  /  0.8456248932100381\n",
      "9\tratio ON/OFF: 0.1340105023410519  /  0.865989497658947\n"
     ]
    }
   ],
   "source": [
    "#test all the solvers\n",
    "for sol in all_solvers:\n",
    "    print(sol.name)\n",
    "    if sol.name not in s_on_ratios: s_on_ratios[sol.name]={}\n",
    "    if sol.name not in s_off_ratios: s_off_ratios[sol.name]={}\n",
    "    for i,n in enumerate(s_xvals):\n",
    "        if n not in s_on_ratios[sol.name] or n not in s_off_ratios[sol.name]:\n",
    "            model = create_on_off_reaction(n)\n",
    "            s = sol(model=model)\n",
    "            results = s.run()\n",
    "            ##print(f\"{n}\\tratio ON:\",np.sum(results['ON'])/len(results['ON']))\n",
    "            ##print(f\"{n}\\tratio OFF:\",np.sum(results['OFF'])/len(results['OFF']))\n",
    "            s_on_ratios[sol.name][n] = np.sum(results['ON'])/len(results['ON'])/float(n)\n",
    "            s_off_ratios[sol.name][n] = np.sum(results['OFF'])/len(results['OFF'])/float(n)\n",
    "        print(f\"{n}\\tratio ON/OFF:\",s_on_ratios[sol.name][n],\" / \",s_off_ratios[sol.name][n])"
   ]
  },
  {
   "cell_type": "code",
   "execution_count": 123,
   "metadata": {},
   "outputs": [
    {
     "data": {
      "image/png": "[encoded data removed]",
      "text/plain": [
       "<Figure size 1200x500 with 2 Axes>"
      ]
     },
     "metadata": {},
     "output_type": "display_data"
    }
   ],
   "source": [
    "plt.figure(figsize=(12,5))\n",
    "plt.subplot(1,2,1)\n",
    "for sol in all_solvers:\n",
    "    #if sol.name in ['NumPySSASolver','SSACSolver','ODESolver','TauLeapingSolver','TauHybridSolver']:\n",
    "    plt.plot(s_xvals,[s_on_ratios[sol.name][k] for k in s_xvals],'.-',label=f\"ON-{sol.name}\")\n",
    "    plt.ylim(0,1)\n",
    "    plt.xlabel(\"Initial value of OFF (N)\")\n",
    "    plt.ylable(\"Probability of \")\n",
    "    plt.legend()\n",
    "plt.subplot(1,2,2)\n",
    "for sol in all_solvers:\n",
    "    #if sol.name in ['NumPySSASolver','SSACSolver','ODESolver','TauLeapingSolver','TauHybridSolver']:  \n",
    "    plt.plot(s_xvals,[s_off_ratios[sol.name][k] for k in s_xvals],'.-',label=f\"OFF-{sol.name}\")\n",
    "    plt.ylim(0,1)\n",
    "    plt.xlabel(\"Initial value of OFF (N)\")\n",
    "    plt.legend()"
   ]
  },
  {
   "cell_type": "code",
   "execution_count": 107,
   "metadata": {},
   "outputs": [
    {
     "data": {
      "text/plain": [
       "[1, 2, 3, 5, 7, 9]"
      ]
     },
     "execution_count": 107,
     "metadata": {},
     "output_type": "execute_result"
    }
   ],
   "source": [
    "s_xvals"
   ]
  },
  {
   "cell_type": "code",
   "execution_count": 108,
   "metadata": {},
   "outputs": [
    {
     "data": {
      "text/plain": [
       "'NumPySSASolver'"
      ]
     },
     "execution_count": 108,
     "metadata": {},
     "output_type": "execute_result"
    }
   ],
   "source": [
    "sol.name"
   ]
  },
  {
   "cell_type": "code",
   "execution_count": 109,
   "metadata": {},
   "outputs": [
    {
     "data": {
      "text/plain": [
       "{1: 0.09,\n",
       " 2: 0.095,\n",
       " 3: 0.14666666666666667,\n",
       " 5: 0.09,\n",
       " 7: 0.10285714285714286,\n",
       " 9: 0.08888888888888889}"
      ]
     },
     "execution_count": 109,
     "metadata": {},
     "output_type": "execute_result"
    }
   ],
   "source": [
    "s_on_ratios[sol.name]"
   ]
  },
  {
   "cell_type": "code",
   "execution_count": null,
   "metadata": {},
   "outputs": [],
   "source": []
  },
  {
   "cell_type": "code",
   "execution_count": null,
   "metadata": {},
   "outputs": [],
   "source": []
  },
  {
   "cell_type": "code",
   "execution_count": 127,
   "metadata": {},
   "outputs": [
    {
     "data": {
      "text/plain": [
       "<matplotlib.legend.Legend at 0x7f9f84e124f0>"
      ]
     },
     "execution_count": 127,
     "metadata": {},
     "output_type": "execute_result"
    },
    {
     "data": {
      "image/png": "[encoded data removed]",
      "text/plain": [
       "<Figure size 640x480 with 1 Axes>"
      ]
     },
     "metadata": {},
     "output_type": "display_data"
    }
   ],
   "source": [
    "plt.plot(s_xvals,[s_on_ratios['NumPySSASolver'][k] for k in s_xvals],'.-',label=f\"ON-NumPySSASolver\")\n",
    "plt.plot(s_xvals,[s_off_ratios['NumPySSASolver'][k] for k in s_xvals],'.-',label=f\"OFF-NumPySSASolver\")\n",
    "plt.legend()"
   ]
  }
 ],
 "metadata": {
  "kernelspec": {
   "display_name": "Python 3",
   "language": "python",
   "name": "python3"
  },
  "language_info": {
   "codemirror_mode": {
    "name": "ipython",
    "version": 3
   },
   "file_extension": ".py",
   "mimetype": "text/x-python",
   "name": "python",
   "nbconvert_exporter": "python",
   "pygments_lexer": "ipython3",
   "version": "3.8.10"
  }
 },
 "nbformat": 4,
 "nbformat_minor": 4
}
